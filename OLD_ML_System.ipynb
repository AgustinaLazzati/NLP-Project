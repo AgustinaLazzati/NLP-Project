{
 "cells": [
  {
   "cell_type": "markdown",
   "metadata": {},
   "source": [
    "### Fundamentals of Natural Language Processing\n",
    "# Negation and Uncertainty Detection using a Machine-Learning Based Approach\n",
    "\n",
    "*Authors:*\n",
    "\n",
    "> *Anna Blanco, Agustina Lazzati, Stanislav Bultaskii, Queralt Salvadó*\n",
    "\n",
    "*Aims:*\n",
    "> Our goal is to train various Machine Learning based models for each of the two sub-tasks (detection of negation and uncertainty signals, and detection of the negation and uncertainty scopes). In order to do so, we followed the implementation method described by *Enger, Velldal, and Øvrelid (2017)*, which employs a maximum-margin approach for negation detection. However, for our particular application, we also included uncertainty cues and scope detection."
   ]
  },
  {
   "cell_type": "markdown",
   "metadata": {},
   "source": [
    "*References:* \n",
    "<br>\n",
    "> Enger, M., Velldal, E., & Øvrelid, L. (2017). *An open-source tool for negation detection: A maximum-margin approach*. Proceedings of the Workshop on Computational Semantics Beyond Events and Roles (SemBEaR), 64–69."
   ]
  },
  {
   "cell_type": "markdown",
   "metadata": {},
   "source": [
    "---"
   ]
  },
  {
   "cell_type": "markdown",
   "metadata": {},
   "source": [
    "We can erase this if you want but the thing is that we need to use the environment that queralt did. You need to write some commands to have the nlp_project (Python) as we have specific libraries. \n",
    "\n",
    "I did that and in the preprocessing it worked but here in order to work I had to run this command above, if it is not needed just avoid them!"
   ]
  },
  {
   "cell_type": "code",
   "execution_count": 2,
   "metadata": {},
   "outputs": [
    {
     "name": "stdout",
     "output_type": "stream",
     "text": [
      "['es_core_news_sm']\n"
     ]
    }
   ],
   "source": [
    "import spacy\n",
    "\n",
    "# Check installed models\n",
    "print(spacy.util.get_installed_models())\n"
   ]
  },
  {
   "cell_type": "code",
   "execution_count": 3,
   "metadata": {},
   "outputs": [],
   "source": [
    "#!python -m spacy download es_core_news_sm\n"
   ]
  },
  {
   "cell_type": "code",
   "execution_count": 4,
   "metadata": {},
   "outputs": [
    {
     "name": "stdout",
     "output_type": "stream",
     "text": [
      "   sentence_id  token_id      word     lemma    pos prefix suffix  is_punct  \\\n",
      "0            0         0                      SPACE                       0   \n",
      "1            1         0        nº        nº   NOUN     nº     nº         0   \n",
      "2            1         1  historia  historia   NOUN    his    ria         0   \n",
      "3            1         2   clinica   clinico    ADJ    cli    ica         0   \n",
      "4            1         3         :         :  PUNCT      :      :         1   \n",
      "\n",
      "   is_redacted    dep head_pos  in_single_word_cues  in_affixal_cues  \\\n",
      "0            0    dep    SPACE                    0                0   \n",
      "1            0    det     NOUN                    0                0   \n",
      "2            0   ROOT     NOUN                    0                0   \n",
      "3            0   amod     NOUN                    0                0   \n",
      "4            0  punct     NOUN                    0                0   \n",
      "\n",
      "   ends_with_ment  neg_cue_label  \n",
      "0               0              0  \n",
      "1               0              0  \n",
      "2               0              0  \n",
      "3               0              0  \n",
      "4               0              0  \n",
      "---------------------------------------\n",
      "\n",
      "\n",
      "   sentence_id  token_id      word     lemma    pos prefix suffix  is_punct  \\\n",
      "0            0         0                      SPACE                       0   \n",
      "1            1         0        nº        nº   NOUN     nº     nº         0   \n",
      "2            1         1  historia  historia   NOUN    his    ria         0   \n",
      "3            1         2   clinica   clinico    ADJ    cli    ica         0   \n",
      "4            1         3         :         :  PUNCT      :      :         1   \n",
      "\n",
      "   is_redacted    dep head_pos  in_single_word_cues  in_affixal_cues  \\\n",
      "0            0    dep    SPACE                    0                0   \n",
      "1            0    det     NOUN                    0                0   \n",
      "2            0  nsubj     VERB                    0                0   \n",
      "3            0   amod     NOUN                    0                0   \n",
      "4            0  punct     NOUN                    0                0   \n",
      "\n",
      "   ends_with_ment  neg_cue_label  \n",
      "0               0              0  \n",
      "1               0              0  \n",
      "2               0              0  \n",
      "3               0              0  \n",
      "4               0              0  \n",
      "---------------------------------------\n",
      "\n",
      "\n",
      "   sentence_id  token_id      word     lemma    pos prefix suffix  is_punct  \\\n",
      "0            0         0                      SPACE                       0   \n",
      "1            1         0        nº        nº   NOUN     nº     nº         0   \n",
      "2            1         1  historia  historia   NOUN    his    ria         0   \n",
      "3            1         2   clinica   clinico    ADJ    cli    ica         0   \n",
      "4            1         3         :         :  PUNCT      :      :         1   \n",
      "\n",
      "   is_redacted    dep head_pos  in_single_word_cues  in_affixal_cues  \\\n",
      "0            0    dep    SPACE                    0                0   \n",
      "1            0    det     NOUN                    0                0   \n",
      "2            0   ROOT     NOUN                    0                0   \n",
      "3            0   amod     NOUN                    0                0   \n",
      "4            0  punct     NOUN                    0                0   \n",
      "\n",
      "   ends_with_ment  unc_cue_label  \n",
      "0               0              0  \n",
      "1               0              0  \n",
      "2               0              0  \n",
      "3               0              0  \n",
      "4               0              0  \n",
      "---------------------------------------\n",
      "\n",
      "\n",
      "   sentence_id  token_id      word     lemma    pos prefix suffix  is_punct  \\\n",
      "0            0         0                      SPACE                       0   \n",
      "1            1         0        nº        nº   NOUN     nº     nº         0   \n",
      "2            1         1  historia  historia   NOUN    his    ria         0   \n",
      "3            1         2   clinica   clinico    ADJ    cli    ica         0   \n",
      "4            1         3         :         :  PUNCT      :      :         1   \n",
      "\n",
      "   is_redacted    dep head_pos  in_single_word_cues  in_affixal_cues  \\\n",
      "0            0    dep    SPACE                    0                0   \n",
      "1            0    det     NOUN                    0                0   \n",
      "2            0   ROOT     NOUN                    0                0   \n",
      "3            0   amod     NOUN                    0                0   \n",
      "4            0  punct     NOUN                    0                0   \n",
      "\n",
      "   ends_with_ment  unc_cue_label  \n",
      "0               0              0  \n",
      "1               0              0  \n",
      "2               0              0  \n",
      "3               0              0  \n",
      "4               0              0  \n",
      "---------------------------------------\n",
      "\n",
      "\n",
      "   sentence_id  token_id      word     lemma    pos prefix suffix  is_punct  \\\n",
      "0            0         0                      SPACE                       0   \n",
      "1            1         0        nº        nº   NOUN     nº     nº         0   \n",
      "2            1         1  historia  historia   NOUN    his    ria         0   \n",
      "3            1         2   clinica   clinico    ADJ    cli    ica         0   \n",
      "4            1         3         :         :  PUNCT      :      :         1   \n",
      "\n",
      "   is_redacted    dep head_pos  in_single_word_cues  in_affixal_cues  \\\n",
      "0            0    dep    SPACE                    0                0   \n",
      "1            0    det     NOUN                    0                0   \n",
      "2            0   ROOT     NOUN                    0                0   \n",
      "3            0   amod     NOUN                    0                0   \n",
      "4            0  punct     NOUN                    0                0   \n",
      "\n",
      "   ends_with_ment  neg_scope_label  \n",
      "0               0                0  \n",
      "1               0                0  \n",
      "2               0                0  \n",
      "3               0                0  \n",
      "4               0                0  \n",
      "---------------------------------------\n",
      "\n",
      "\n",
      "       sentence_id  token_id       word      lemma    pos prefix suffix  \\\n",
      "0                0         0                        SPACE                 \n",
      "1                1         0         nº         nº   NOUN     nº     nº   \n",
      "2                1         1   historia   historia   NOUN    his    ria   \n",
      "3                1         2    clinica    clinico    ADJ    cli    ica   \n",
      "4                1         3          :          :  PUNCT      :      :   \n",
      "...            ...       ...        ...        ...    ...    ...    ...   \n",
      "65526         3459        23          *          *    NUM      *      *   \n",
      "65527         3459        24          )          )  PUNCT      )      )   \n",
      "65528         3459        25  age-v-mir  age-v-mir   VERB    age    mir   \n",
      "65529         3459        26        4/4        4/4    NUM    4/4    4/4   \n",
      "65530         3459        27       lopd       lopd    ADJ    lop    opd   \n",
      "\n",
      "       is_punct  is_redacted    dep head_pos  in_single_word_cues  \\\n",
      "0             0            0    dep    SPACE                    0   \n",
      "1             0            0    det     NOUN                    0   \n",
      "2             0            0  nsubj     VERB                    0   \n",
      "3             0            0   amod     NOUN                    0   \n",
      "4             1            0  punct     NOUN                    0   \n",
      "...         ...          ...    ...      ...                  ...   \n",
      "65526         1            1  punct     NOUN                    0   \n",
      "65527         1            0  punct     NOUN                    0   \n",
      "65528         0            0  appos     NOUN                    0   \n",
      "65529         0            0  appos     NOUN                    0   \n",
      "65530         0            0   amod     NOUN                    0   \n",
      "\n",
      "       in_affixal_cues  ends_with_ment  neg_scope_label  \n",
      "0                    0               0                0  \n",
      "1                    0               0                0  \n",
      "2                    0               0                0  \n",
      "3                    0               0                0  \n",
      "4                    0               0                0  \n",
      "...                ...             ...              ...  \n",
      "65526                0               0                0  \n",
      "65527                0               0                0  \n",
      "65528                1               0                0  \n",
      "65529                0               0                0  \n",
      "65530                0               0                0  \n",
      "\n",
      "[65531 rows x 15 columns]\n",
      "---------------------------------------\n",
      "\n",
      "\n",
      "   sentence_id  token_id      word     lemma    pos prefix suffix  is_punct  \\\n",
      "0            0         0                      SPACE                       0   \n",
      "1            1         0        nº        nº   NOUN     nº     nº         0   \n",
      "2            1         1  historia  historia   NOUN    his    ria         0   \n",
      "3            1         2   clinica   clinico    ADJ    cli    ica         0   \n",
      "4            1         3         :         :  PUNCT      :      :         1   \n",
      "\n",
      "   is_redacted    dep head_pos  in_single_word_cues  in_affixal_cues  \\\n",
      "0            0    dep    SPACE                    0                0   \n",
      "1            0    det     NOUN                    0                0   \n",
      "2            0   ROOT     NOUN                    0                0   \n",
      "3            0   amod     NOUN                    0                0   \n",
      "4            0  punct     NOUN                    0                0   \n",
      "\n",
      "   ends_with_ment  unc_scope_label  \n",
      "0               0                0  \n",
      "1               0                0  \n",
      "2               0                0  \n",
      "3               0                0  \n",
      "4               0                0  \n",
      "---------------------------------------\n",
      "\n",
      "\n",
      "   sentence_id  token_id      word     lemma    pos prefix suffix  is_punct  \\\n",
      "0            0         0                      SPACE                       0   \n",
      "1            1         0        nº        nº   NOUN     nº     nº         0   \n",
      "2            1         1  historia  historia   NOUN    his    ria         0   \n",
      "3            1         2   clinica   clinico    ADJ    cli    ica         0   \n",
      "4            1         3         :         :  PUNCT      :      :         1   \n",
      "\n",
      "   is_redacted    dep head_pos  in_single_word_cues  in_affixal_cues  \\\n",
      "0            0    dep    SPACE                    0                0   \n",
      "1            0    det     NOUN                    0                0   \n",
      "2            0  nsubj     VERB                    0                0   \n",
      "3            0   amod     NOUN                    0                0   \n",
      "4            0  punct     NOUN                    0                0   \n",
      "\n",
      "   ends_with_ment  unc_scope_label  \n",
      "0               0                0  \n",
      "1               0                0  \n",
      "2               0                0  \n",
      "3               0                0  \n",
      "4               0                0  \n",
      "---------------------------------------\n",
      "\n",
      "\n",
      "Document ID: 20331067\n",
      "Sentence 3:\n",
      "--------------------------------------------------\n",
      "WORD            NEG_CUE  NEG_SCOPE  UNC_CUE  UNC_SCOPE\n",
      "--------------------------------------------------\n",
      "no              1        0          0        0\n",
      "intervencions   0        1          0        0\n",
      "quirurgiques    0        1          0        0\n",
      "ni              0        1          0        0\n",
      "altres          0        1          0        0\n",
      "antecedents     0        1          0        0\n",
      "patologics      0        1          0        0\n",
      ".               0        0          0        0\n"
     ]
    }
   ],
   "source": [
    "# Import necessary libraries and functions\n",
    "import json\n",
    "import spacy\n",
    "from collections import defaultdict\n",
    "import re\n",
    "import pandas as pd\n",
    "from preprocessing import df_svm_neg_test, df_svm_neg_train, df_svm_neg_test, df_svm_unc_train, df_svm_unc_test, df_crf_neg_train, df_crf_neg_test, df_crf_unc_train, df_crf_unc_test"
   ]
  },
  {
   "cell_type": "markdown",
   "metadata": {},
   "source": [
    "## CUE DETECTION USING SVM"
   ]
  },
  {
   "cell_type": "markdown",
   "metadata": {},
   "source": [
    "First of all, we'll need to vectorize:"
   ]
  },
  {
   "cell_type": "code",
   "execution_count": 5,
   "metadata": {},
   "outputs": [],
   "source": [
    "import pandas as pd\n",
    "import seaborn as sns\n",
    "import matplotlib.pyplot as plt\n",
    "from sklearn.svm import LinearSVC\n",
    "from sklearn.metrics import classification_report, confusion_matrix\n",
    "from sklearn.pipeline import Pipeline\n",
    "from sklearn.feature_extraction import DictVectorizer\n",
    "\n",
    "def prepare_dataframe_for_svm(df, label_col):\n",
    "    \"\"\"\n",
    "    Converts a DataFrame into features and labels for training.\n",
    "    \"\"\"\n",
    "    drop_cols = [\"sentence_id\", \"token_id\", label_col]\n",
    "    feature_dicts = df.drop(columns=drop_cols).to_dict(orient=\"records\")\n",
    "    labels = df[label_col].tolist()\n",
    "\n",
    "    vectorizer = DictVectorizer(sparse=True)\n",
    "    X = vectorizer.fit_transform(feature_dicts)\n",
    "    y = labels\n",
    "\n",
    "    return X, y, vectorizer\n",
    "\n",
    "\n",
    "def train_and_evaluate_svm(df_train, df_test, label_col, model_name):\n",
    "    \"\"\"\n",
    "    Trains and evaluates an SVM model, returning key data for further use.\n",
    "    \"\"\"\n",
    "    # Prepare data\n",
    "    X_train, y_train, vec = prepare_dataframe_for_svm(df_train, label_col)\n",
    "    X_test = vec.transform(df_test.drop(columns=[\"sentence_id\", \"token_id\", label_col]).to_dict(orient=\"records\"))\n",
    "    y_test = df_test[label_col].tolist()\n",
    "\n",
    "    # Define and train the SVM model\n",
    "    svm_model = LinearSVC(class_weight=\"balanced\", max_iter=5000, random_state=42)\n",
    "    svm_model.fit(X_train, y_train)\n",
    "    y_pred = svm_model.predict(X_test)\n",
    "\n",
    "    # Report\n",
    "    print(f\"\\n--- Evaluation for {model_name} ---\")\n",
    "    print(classification_report(y_test, y_pred, digits=4))\n",
    "\n",
    "\n",
    "    return X_train, y_train, X_test, y_test, y_pred, svm_model, vec"
   ]
  },
  {
   "cell_type": "markdown",
   "metadata": {},
   "source": [
    "### SVM for negation cue detection"
   ]
  },
  {
   "cell_type": "code",
   "execution_count": 6,
   "metadata": {},
   "outputs": [
    {
     "name": "stderr",
     "output_type": "stream",
     "text": [
      "c:\\Users\\Agusl\\anaconda3\\Lib\\site-packages\\sklearn\\svm\\_classes.py:32: FutureWarning: The default value of `dual` will change from `True` to `'auto'` in 1.5. Set the value of `dual` explicitly to suppress the warning.\n",
      "  warnings.warn(\n"
     ]
    },
    {
     "name": "stdout",
     "output_type": "stream",
     "text": [
      "\n",
      "--- Evaluation for svm_negation_cue ---\n",
      "              precision    recall  f1-score   support\n",
      "\n",
      "           0     0.9999    0.9984    0.9992     64399\n",
      "           1     0.9163    0.9956    0.9543      1132\n",
      "\n",
      "    accuracy                         0.9984     65531\n",
      "   macro avg     0.9581    0.9970    0.9767     65531\n",
      "weighted avg     0.9985    0.9984    0.9984     65531\n",
      "\n"
     ]
    },
    {
     "name": "stderr",
     "output_type": "stream",
     "text": [
      "c:\\Users\\Agusl\\anaconda3\\Lib\\site-packages\\sklearn\\svm\\_base.py:1242: ConvergenceWarning: Liblinear failed to converge, increase the number of iterations.\n",
      "  warnings.warn(\n"
     ]
    }
   ],
   "source": [
    "X_train_negsvm, y_train_negsvm, X_test_negsvm, y_test_negsvm, y_pred_negsvm, neg_svm_model, vectorizer_neg = train_and_evaluate_svm(\n",
    "    df_train=df_svm_neg_train,\n",
    "    df_test=df_svm_neg_test,\n",
    "    label_col=\"neg_cue_label\",\n",
    "    model_name=\"svm_negation_cue\"\n",
    ")"
   ]
  },
  {
   "cell_type": "markdown",
   "metadata": {},
   "source": [
    "### SVM for uncertainty cue detection"
   ]
  },
  {
   "cell_type": "code",
   "execution_count": 7,
   "metadata": {},
   "outputs": [
    {
     "name": "stderr",
     "output_type": "stream",
     "text": [
      "c:\\Users\\Agusl\\anaconda3\\Lib\\site-packages\\sklearn\\svm\\_classes.py:32: FutureWarning: The default value of `dual` will change from `True` to `'auto'` in 1.5. Set the value of `dual` explicitly to suppress the warning.\n",
      "  warnings.warn(\n",
      "c:\\Users\\Agusl\\anaconda3\\Lib\\site-packages\\sklearn\\svm\\_base.py:1242: ConvergenceWarning: Liblinear failed to converge, increase the number of iterations.\n",
      "  warnings.warn(\n"
     ]
    },
    {
     "name": "stdout",
     "output_type": "stream",
     "text": [
      "\n",
      "--- Evaluation for svm_uncertainty_cue ---\n",
      "              precision    recall  f1-score   support\n",
      "\n",
      "           0     1.0000    0.9309    0.9642    251284\n",
      "           1     0.0375    0.9869    0.0723       686\n",
      "\n",
      "    accuracy                         0.9311    251970\n",
      "   macro avg     0.5187    0.9589    0.5183    251970\n",
      "weighted avg     0.9973    0.9311    0.9618    251970\n",
      "\n"
     ]
    }
   ],
   "source": [
    "X_train_svmunc, y_train_svmunc, X_test_svmunc, y_test_svmunc, y_pred_svmunc, model_svmunc, vectorizer_unc = train_and_evaluate_svm(\n",
    "    df_train=df_svm_unc_train,\n",
    "    df_test=df_svm_unc_test,\n",
    "    label_col=\"unc_cue_label\",\n",
    "    model_name=\"svm_uncertainty_cue\"\n",
    ")"
   ]
  },
  {
   "cell_type": "code",
   "execution_count": 8,
   "metadata": {},
   "outputs": [
    {
     "name": "stdout",
     "output_type": "stream",
     "text": [
      "0    2744\n",
      "1     686\n",
      "Name: unc_cue_label, dtype: int64\n"
     ]
    }
   ],
   "source": [
    "def balance_training_data(df, label_col, neg_ratio=4, seed=42):\n",
    "    positives = df[df[label_col] == 1]\n",
    "    negatives = df[df[label_col] == 0].sample(n=len(positives) * neg_ratio, random_state=seed)\n",
    "    df_balanced = pd.concat([positives, negatives]).sample(frac=1, random_state=seed).reset_index(drop=True)\n",
    "    return df_balanced\n",
    "\n",
    "df_balanced_unc_train = balance_training_data(df_svm_unc_train, label_col=\"unc_cue_label\", neg_ratio=4)\n",
    "print(df_balanced_unc_train[\"unc_cue_label\"].value_counts())"
   ]
  },
  {
   "cell_type": "code",
   "execution_count": 9,
   "metadata": {},
   "outputs": [
    {
     "name": "stderr",
     "output_type": "stream",
     "text": [
      "c:\\Users\\Agusl\\anaconda3\\Lib\\site-packages\\sklearn\\svm\\_classes.py:32: FutureWarning: The default value of `dual` will change from `True` to `'auto'` in 1.5. Set the value of `dual` explicitly to suppress the warning.\n",
      "  warnings.warn(\n"
     ]
    },
    {
     "name": "stdout",
     "output_type": "stream",
     "text": [
      "\n",
      "--- Evaluation for svm_uncertainty_cue_balanced ---\n",
      "              precision    recall  f1-score   support\n",
      "\n",
      "           0     1.0000    0.9286    0.9630    251284\n",
      "           1     0.0364    0.9869    0.0701       686\n",
      "\n",
      "    accuracy                         0.9287    251970\n",
      "   macro avg     0.5182    0.9577    0.5165    251970\n",
      "weighted avg     0.9973    0.9287    0.9605    251970\n",
      "\n"
     ]
    }
   ],
   "source": [
    "X_train_svmunc, y_train_svmunc, X_test_svmunc, y_test_svmunc, y_pred_svmunc, model_svmunc, vectorizer = train_and_evaluate_svm(\n",
    "    df_train=df_balanced_unc_train,\n",
    "    df_test=df_svm_unc_test,\n",
    "    label_col=\"unc_cue_label\",\n",
    "    model_name=\"svm_uncertainty_cue_balanced\"\n",
    ")"
   ]
  },
  {
   "cell_type": "code",
   "execution_count": 25,
   "metadata": {},
   "outputs": [],
   "source": [
    "def compute_per_label_accuracy(y_true, y_pred, label_mapping, title=\"Per-label Accuracy\"):\n",
    "    # Map numeric labels to readable ones (if needed)\n",
    "    y_true_named = [label_mapping.get(y, y) for y in y_true]\n",
    "    y_pred_named = [label_mapping.get(y, y) for y in y_pred]\n",
    "\n",
    "    # Get all relevant labels, excluding \"O\" if applicable\n",
    "    unique_labels = sorted(set(label for label in y_true_named if label != 'O'))\n",
    "\n",
    "    # Compute accuracy per label (correct predictions / total true instances)\n",
    "    per_label_accuracies = {}\n",
    "    for label in unique_labels:\n",
    "        total = sum(1 for y in y_true_named if y == label)\n",
    "        correct = sum(1 for yt, yp in zip(y_true_named, y_pred_named) if yt == label and yp == label)\n",
    "        per_label_accuracies[label] = correct / total if total > 0 else 0.0\n",
    "\n",
    "    # Print results\n",
    "    print(f\"\\n{title}:\")\n",
    "    for label, acc in per_label_accuracies.items():\n",
    "        print(f\"{label:<10}: {acc:.4f}\")\n"
   ]
  },
  {
   "cell_type": "code",
   "execution_count": 26,
   "metadata": {},
   "outputs": [
    {
     "name": "stdout",
     "output_type": "stream",
     "text": [
      "\n",
      "Per-label Accuracy for SVM Uncertainty Cue Detection:\n",
      "NOT UNC   : 0.9286\n",
      "UNC       : 0.9869\n",
      "\n",
      "Per-label Accuracy for SVM Negation Cue Detection:\n",
      "NEG       : 0.9956\n",
      "NOT NEG   : 0.9984\n"
     ]
    }
   ],
   "source": [
    "compute_per_label_accuracy(\n",
    "    y_true=y_test_svmunc,\n",
    "    y_pred=y_pred_svmunc,\n",
    "    label_mapping={1: \"UNC\", 0: \"NOT UNC\"},\n",
    "    title=\"Per-label Accuracy for SVM Uncertainty Cue Detection\"\n",
    ")\n",
    "\n",
    "compute_per_label_accuracy(\n",
    "    y_true=y_test_negsvm,\n",
    "    y_pred=y_pred_negsvm,\n",
    "    label_mapping={1: \"NEG\", 0: \"NOT NEG\"},\n",
    "    title=\"Per-label Accuracy for SVM Negation Cue Detection\"\n",
    ")\n"
   ]
  },
  {
   "cell_type": "markdown",
   "metadata": {},
   "source": [
    "## SCOPE DETECTION USING CRF"
   ]
  },
  {
   "cell_type": "code",
   "execution_count": 11,
   "metadata": {},
   "outputs": [],
   "source": [
    "# pip install sklearn-crfsuite"
   ]
  },
  {
   "cell_type": "markdown",
   "metadata": {},
   "source": [
    "We'll use CRF BIO tagging:"
   ]
  },
  {
   "cell_type": "markdown",
   "metadata": {},
   "source": [
    "**BIO tagging** is a way to label each word in a sentence to show if it is part of a scope (like negation or uncertainty). The labels are:\n",
    "\n",
    "* **B** for the **Beginning** of the scope\n",
    "* **I** for **Inside** the scope\n",
    "* **O** for **Outside** the scope\n",
    "\n",
    "We use BIO tagging to help machine learning models, like **CRFs (Conditional Random Fields)**, understand where a scope starts and ends. For example, if a sentence has a negation like “No tiene fiebre”, BIO tagging shows that “No” is the beginning (**B-SCOPE**) and “tiene fiebre” is inside the scope (**I-SCOPE**), while other words would be labeled **O** if they are not part of it.\n",
    "\n",
    "Using BIO makes it easier for the model to learn patterns and detect complete scopes correctly, not just single words. \n"
   ]
  },
  {
   "cell_type": "code",
   "execution_count": 12,
   "metadata": {},
   "outputs": [],
   "source": [
    "#   IM GETTING ALL THE NEGATION AND THE UNC CUES FROM TRAIN DATAFRAME, \n",
    "#   maybe it should be done with the svm but i dont how. \n",
    "neg_cues = set()\n",
    "unc_cues = set()\n",
    "for _, row in df_svm_neg_train.iterrows():\n",
    "    if row['neg_cue_label'] == 1:\n",
    "        neg_cues.add(row['word'].lower())\n",
    "\n",
    "for _, row in df_svm_unc_train.iterrows():\n",
    "    if row['unc_cue_label'] == 1:\n",
    "        unc_cues.add(row['word'].lower())\n"
   ]
  },
  {
   "cell_type": "code",
   "execution_count": 13,
   "metadata": {},
   "outputs": [],
   "source": [
    "from sklearn_crfsuite import CRF\n",
    "from sklearn_crfsuite import metrics\n",
    "\n",
    "def to_bio_labels(labels, label_type=\"SCOPE\"):\n",
    "    # Convert lists of binary labels (0/1) into BIO tagging format with custom suffixes\n",
    "    bio_labels = []\n",
    "    \n",
    "    # Map original suffixes to new ones\n",
    "    if \"neg\" in label_type.lower():\n",
    "        prefix = \"NSCO\"   # Instead of NEG_SCOPE\n",
    "    elif \"unc\" in label_type.lower():\n",
    "        prefix = \"UNSCO\"  # Instead of UNC_SCOPE\n",
    "    else:\n",
    "        prefix = label_type.upper()  # fallback\n",
    "\n",
    "    for sent in labels:\n",
    "        bio = []\n",
    "        prev = 0\n",
    "        for i, tag in enumerate(sent):\n",
    "            if tag == 1:\n",
    "                if i == 0 or prev == 0:\n",
    "                    bio.append(f'B-{prefix}')\n",
    "                else:\n",
    "                    bio.append(f'I-{prefix}')\n",
    "            else:\n",
    "                bio.append('O')\n",
    "            prev = tag\n",
    "        bio_labels.append(bio)\n",
    "    return bio_labels\n",
    "\n",
    "def df_to_crf_format(df, task, neg_cues=neg_cues, unc_cues=unc_cues):\n",
    "    \"\"\"\n",
    "    Convert a DataFrame into a list of feature dictionaries per sentence for CRF input.\n",
    "    Includes original features + contextual features + lexicon-based features.\n",
    "    \n",
    "    Parameters:\n",
    "        df (pd.DataFrame): must contain columns like 'word', 'pos', 'prefix', 'suffix', etc.\n",
    "\n",
    "    Returns:\n",
    "        List of list of feature dicts (one per token, grouped by sentence)\n",
    "    \"\"\"\n",
    "    sentences = []\n",
    "    grouped = df.groupby(\"sentence_id\")\n",
    "\n",
    "    for _, group in grouped:\n",
    "        sentence = []\n",
    "        group = group.reset_index(drop=True)  # Reset index so we can use idx in loop\n",
    "\n",
    "        for idx, row in group.iterrows():\n",
    "            word_lower = row['word'].lower()\n",
    "\n",
    "            features = {\n",
    "                'word.lower()': word_lower,\n",
    "                'word.isupper()': row['word'].isupper(),\n",
    "                'word.istitle()': row['word'].istitle(),\n",
    "                'pos': row['pos'],\n",
    "                'pos_prefix': row['pos'][:2] if isinstance(row['pos'], str) else 'NA',\n",
    "                'prefix': row['prefix'],\n",
    "                'suffix': row['suffix'],\n",
    "                'is_punct': row['is_punct'],\n",
    "                'in_single_word_cues': row['in_single_word_cues'],\n",
    "                'in_affixal_cues': row['in_affixal_cues'],\n",
    "                'ends_with_ment': row['ends_with_ment'],\n",
    "                'has_neg_prefix': word_lower.startswith(('un', 'in', 'non', 'dis')),\n",
    "                'has_neg_suffix': word_lower.endswith(('less', \"n't\")),\n",
    "                'is_modal': word_lower in unc_cues if task == \"UNC\" else word_lower in neg_cues\n",
    "            }\n",
    "    \n",
    "            # dependency features\n",
    "            if 'dep' in row and 'head_word' in row and 'head_pos' in row:\n",
    "                features.update({\n",
    "                    'dep_label': row['dep'],\n",
    "                    'head_word': str(row['head_word']).lower(),\n",
    "                    'head_pos': row['head_pos']\n",
    "                })\n",
    "\n",
    "            # Contextual features: previous and next token\n",
    "            if idx > 0:\n",
    "                prev_row = group.iloc[idx - 1]\n",
    "                features.update({\n",
    "                    '-1:word.lower()': prev_row['word'].lower(),\n",
    "                    '-1:pos': prev_row['pos']\n",
    "                })\n",
    "            else:\n",
    "                features['BOS'] = True  # Beginning of sentence\n",
    "\n",
    "            if idx < len(group) - 1:\n",
    "                next_row = group.iloc[idx + 1]\n",
    "                features.update({\n",
    "                    '+1:word.lower()': next_row['word'].lower(),\n",
    "                    '+1:pos': next_row['pos']\n",
    "                })\n",
    "            else:\n",
    "                features['EOS'] = True  # End of sentence\n",
    "\n",
    "            sentence.append(features)\n",
    "        sentences.append(sentence)\n",
    "\n",
    "    return sentences\n",
    "\n",
    "\n",
    "def df_to_labels(df, label_col):\n",
    "    # Extracts label sequences from the DataFrame, grouped by sentence\n",
    "    label_sequences = []\n",
    "    grouped = df.groupby(\"sentence_id\")\n",
    "    for _, group in grouped:\n",
    "        label_list = group[label_col].tolist()\n",
    "        label_sequences.append(label_list)\n",
    "    return label_sequences\n"
   ]
  },
  {
   "cell_type": "code",
   "execution_count": 14,
   "metadata": {},
   "outputs": [],
   "source": [
    "# Train + evaluate CRF model\n",
    "def train_and_evaluate_crf(df_train, df_test, label_col):\n",
    "    # Trains and evaluates a CRF model for BIO tagging using specified label column (e.g., 'neg_scope_label')\n",
    "    scope_type = \"NEG\" if \"neg\" in label_col.lower() else \"UNC\"\n",
    "\n",
    "    X_train = df_to_crf_format(df_train, scope_type)\n",
    "    y_train_raw = df_to_labels(df_train, label_col)\n",
    "    y_train = to_bio_labels(y_train_raw, label_type=scope_type)\n",
    "\n",
    "    X_test = df_to_crf_format(df_test, scope_type)\n",
    "    y_test_raw = df_to_labels(df_test, label_col)\n",
    "    y_test = to_bio_labels(y_test_raw, label_type=scope_type)\n",
    "\n",
    "    crf = CRF(algorithm='lbfgs', \n",
    "              c1=0.1, c2=0.1,\n",
    "              max_iterations=100, all_possible_transitions=True)\n",
    "    \n",
    "    crf.fit(X_train, y_train)\n",
    "    y_pred = crf.predict(X_test)\n",
    "\n",
    "    print(f\"CRF Evaluation for: {label_col.upper()}\")\n",
    "    print(metrics.flat_classification_report(y_test, y_pred, digits=4))   \n",
    "    \n",
    "    return X_test, y_test, y_pred  # Return these variables for further use\n"
   ]
  },
  {
   "cell_type": "markdown",
   "metadata": {},
   "source": [
    "### CRF for negation scope detection"
   ]
  },
  {
   "cell_type": "code",
   "execution_count": 15,
   "metadata": {},
   "outputs": [
    {
     "name": "stdout",
     "output_type": "stream",
     "text": [
      "CRF Evaluation for: NEG_SCOPE_LABEL\n",
      "              precision    recall  f1-score   support\n",
      "\n",
      "      B-NSCO     0.9633    0.9066    0.9341      1071\n",
      "      I-NSCO     0.8965    0.7831    0.8360      2522\n",
      "           O     0.9897    0.9958    0.9927     61938\n",
      "\n",
      "    accuracy                         0.9862     65531\n",
      "   macro avg     0.9498    0.8952    0.9209     65531\n",
      "weighted avg     0.9857    0.9862    0.9857     65531\n",
      "\n"
     ]
    }
   ],
   "source": [
    "# CRF BIO tagging evaluation for NEGATION scopes\n",
    "X_test_NEG, y_test_NEG, y_pred_NEG = train_and_evaluate_crf(df_crf_neg_train, df_crf_neg_test, \"neg_scope_label\")"
   ]
  },
  {
   "cell_type": "markdown",
   "metadata": {},
   "source": [
    "### CRF for uncertainty scope detection"
   ]
  },
  {
   "cell_type": "code",
   "execution_count": 16,
   "metadata": {},
   "outputs": [
    {
     "name": "stdout",
     "output_type": "stream",
     "text": [
      "CRF Evaluation for: UNC_SCOPE_LABEL\n",
      "              precision    recall  f1-score   support\n",
      "\n",
      "     B-UNSCO     0.7963    0.3333    0.4699       129\n",
      "     I-UNSCO     0.6590    0.3936    0.4928       437\n",
      "           O     0.9947    0.9985    0.9966     64965\n",
      "\n",
      "    accuracy                         0.9932     65531\n",
      "   macro avg     0.8167    0.5751    0.6531     65531\n",
      "weighted avg     0.9921    0.9932    0.9922     65531\n",
      "\n"
     ]
    }
   ],
   "source": [
    "# CRF BIO tagging evaluation for UNCERTAINTY scopes\n",
    "X_test_UNC, y_test_UNC, y_pred_UNC = train_and_evaluate_crf(df_crf_unc_train, df_crf_unc_test, \"unc_scope_label\")"
   ]
  },
  {
   "cell_type": "code",
   "execution_count": 17,
   "metadata": {},
   "outputs": [
    {
     "name": "stdout",
     "output_type": "stream",
     "text": [
      "Overall Evaluation (NEG + UNC scopes):\n",
      "              precision    recall  f1-score   support\n",
      "\n",
      "      B-NSCO     0.9633    0.9066    0.9341      1071\n",
      "     B-UNSCO     0.7963    0.3333    0.4699       129\n",
      "      I-NSCO     0.8965    0.7831    0.8360      2522\n",
      "     I-UNSCO     0.6590    0.3936    0.4928       437\n",
      "\n",
      "   micro avg     0.8965    0.7600    0.8226      4159\n",
      "   macro avg     0.8288    0.6042    0.6832      4159\n",
      "weighted avg     0.8856    0.7600    0.8138      4159\n",
      "\n"
     ]
    }
   ],
   "source": [
    "# TABLE WITH ALL COMBINED EXCLUDING THE OUTOFSCOPE: \n",
    "# Combine the BIO label sequences\n",
    "y_test_all = y_test_NEG + y_test_UNC\n",
    "y_pred_all = y_pred_NEG + y_pred_UNC\n",
    "\n",
    "# Get all labels except 'O'\n",
    "all_labels = set(label for seq in y_test_all for label in seq if label != 'O')\n",
    "all_labels = sorted(all_labels)\n",
    "\n",
    "# Print overall evaluation\n",
    "print(\"Overall Evaluation (NEG + UNC scopes):\")\n",
    "print(metrics.flat_classification_report(\n",
    "    y_test_all, y_pred_all, labels=all_labels, digits=4))"
   ]
  },
  {
   "cell_type": "code",
   "execution_count": null,
   "metadata": {},
   "outputs": [
    {
     "name": "stdout",
     "output_type": "stream",
     "text": [
      "\n",
      "Per-label Accuracy for CRF Negation Scope:\n",
      "B-NSCO    : 0.9066\n",
      "B-UNSCO   : 0.3333\n",
      "I-NSCO    : 0.7831\n",
      "I-UNSCO   : 0.3936\n"
     ]
    }
   ],
   "source": [
    "# Flatten the sequences\n",
    "true_labels = [label for seq in y_test_all for label in seq]\n",
    "pred_labels = [label for seq in y_pred_all for label in seq]\n",
    "\n",
    "# Call the function\n",
    "compute_per_label_accuracy(\n",
    "    y_true=true_labels,\n",
    "    y_pred=pred_labels,\n",
    "    label_mapping={},\n",
    "    title=\"Per-label Accuracy for CRF Scope\"\n",
    ")"
   ]
  },
  {
   "cell_type": "markdown",
   "metadata": {},
   "source": [
    "## Printing CRF Predictions vs. True labels\n",
    "We display sample sentences with predicted and true BIO tags shown as `[true_tag|pred_tag]` next to each word, only if at least one tag isn't `'O'`. This highlights where the model correctly identifies scopes or makes mistakes, helping us quickly assess its performance on meaningful cases."
   ]
  },
  {
   "cell_type": "code",
   "execution_count": 57,
   "metadata": {},
   "outputs": [],
   "source": [
    "def print_crf_predictions(df, y_true, y_pred, sentence_idx=0):\n",
    "    \"\"\"\n",
    "    Print the whole sentence in one line, adding true and predicted BIO tags in brackets next to tokens\n",
    "    only if the tags are not 'O' (for BIO) or '0' (for SVM).\n",
    "    Format per token: word[true_tag|pred_tag] if either tag != 'O' or '0', else just word.\n",
    "    \"\"\"\n",
    "    grouped = df.groupby(\"sentence_id\")\n",
    "    sentence_ids = list(grouped.groups.keys())\n",
    "\n",
    "    if sentence_idx >= len(sentence_ids):\n",
    "        print(f\"Invalid sentence index {sentence_idx}. Max allowed: {len(sentence_ids) - 1}\")\n",
    "        return\n",
    "\n",
    "    sentence_id = sentence_ids[sentence_idx]\n",
    "    sentence_df = grouped.get_group(sentence_id).reset_index(drop=True)\n",
    "    \n",
    "    output_tokens = []\n",
    "    for i, row in sentence_df.iterrows():\n",
    "        word = row['word']\n",
    "        true_label = y_true[sentence_idx][i]\n",
    "        pred_label = y_pred[sentence_idx][i]\n",
    "\n",
    "        # Show tags only if either true or pred label is not neutral ('O' for BIO, '0' for SVM)\n",
    "        if (true_label != 'O' and true_label != 0 and true_label != '0') or (pred_label != 'O' and pred_label != 0 and pred_label != '0'):\n",
    "            display_word = f\"{word} [{true_label}|{pred_label}]\"\n",
    "        else:\n",
    "            display_word = word\n",
    "\n",
    "        output_tokens.append(display_word)\n",
    "\n",
    "    print(f\"\\n--- Sentence ID {sentence_id} ---\")\n",
    "    print(\" \".join(output_tokens))\n"
   ]
  },
  {
   "cell_type": "code",
   "execution_count": null,
   "metadata": {},
   "outputs": [
    {
     "name": "stdout",
     "output_type": "stream",
     "text": [
      "\n",
      "--- Sentence ID 1 ---\n",
      "nº historia clinica : * * * * * * * * nºepisodi : * * * * * * * * sexe : dona data de naixement : 12.05.1977 edat : 42 anys procedencia aguts servei obstetricia data d'ingres 27.09.2019 data d'alta 01.10.2019 13:00:00 ates per * * * * * * * * * * * * * * * * * , * * * * * * * * * * * * * * ; * * * * * * * * * * * * * * * * * , * * * * * informe d'alta d'hospitalitzacio motiu d'ingres induccion al parto por pequeño para la edad gestacional ( peg ) antecedents no alergias [B-NSCO|B-NSCO] medicamentosas [I-NSCO|I-NSCO] conocidas antcededentes medico-quirurgicos : protesis mamaria , adenoidectomia niega habitos [B-NSCO|B-NSCO] toxicos [I-NSCO|I-NSCO] medicacio habitual anafranil25 mg/ diario .\n",
      "\n",
      "--- Sentence ID 10 ---\n",
      "vih [B-NSCO|B-NSCO] negativo .\n",
      "\n",
      "--- Sentence ID 11 ---\n",
      "serologias : rubeola no inmune [B-NSCO|B-NSCO] , toxoplasma no immune [B-NSCO|B-NSCO] , lues [B-NSCO|B-NSCO] vih [I-NSCO|I-NSCO] , [I-NSCO|I-NSCO] vhb [I-NSCO|I-NSCO] y [I-NSCO|I-NSCO] vhc [I-NSCO|I-NSCO] negativos .\n",
      "\n",
      "--- Sentence ID 12 ---\n",
      "- triple screening : 1/14045 down i 1/60540 edwards - riesgo de pe : bajo riesgo - o'sullivan : 216mg / dl - sgb [O|B-NSCO] negativo - eco 1º t : crl:60 tn:1.7 - 2º t : morfologia normal .\n",
      "\n",
      "--- Sentence ID 27 ---\n",
      "procedimiento sin incidencias [B-NSCO|B-NSCO] .\n",
      "\n",
      "--- Sentence ID 49 ---\n",
      "antecedents alergias no refiere [B-NSCO|B-NSCO] alergias [I-NSCO|I-NSCO] medicamentosas [I-NSCO|I-NSCO] conocidas [I-NSCO|I-NSCO] .\n",
      "\n",
      "--- Sentence ID 50 ---\n",
      "antecedenes personales niega habitos [B-NSCO|B-NSCO] toxicos [I-NSCO|I-NSCO] .\n",
      "\n",
      "--- Sentence ID 55 ---\n",
      "* * serologies : hbsag [B-NSCO|O] negatiu , hbsac positiu , hbcac [B-NSCO|O] negatiu , vhc [B-NSCO|B-NSCO] negativa -antecedentes its : * * uretritis gonococica en mayo 2017 , realizo tratamientio .\n",
      "\n",
      "--- Sentence ID 61 ---\n",
      "ultimos dos años sin episodios [B-NSCO|B-NSCO] .\n",
      "\n",
      "--- Sentence ID 62 ---\n",
      "antecedentes quirurgicos : no refiere [B-NSCO|B-NSCO] .\n"
     ]
    }
   ],
   "source": [
    "shown = 0\n",
    "max_to_show = 10\n",
    "\n",
    "print('NSCO EXAMPLES --------------\\n')\n",
    "for i in range(len(y_test_NEG)):\n",
    "    if any(tag != 'O' for tag in y_test_NEG[i]) or any(tag != 'O' for tag in y_pred_NEG[i]):\n",
    "        print_crf_predictions(df_crf_neg_test, y_test_NEG, y_pred_NEG, sentence_idx=i)\n",
    "        shown += 1\n",
    "        if shown >= max_to_show:\n",
    "            break"
   ]
  },
  {
   "cell_type": "code",
   "execution_count": null,
   "metadata": {},
   "outputs": [
    {
     "name": "stdout",
     "output_type": "stream",
     "text": [
      "\n",
      "--- Sentence ID 138 ---\n",
      "dado cuadro clinico y analitico que podria ser [B-UNSCO|O] compatible [I-UNSCO|O] con [I-UNSCO|O] sd [I-UNSCO|O] mononucleosido [I-UNSCO|O] se amplia estudio con determinacion de pcr de parvovirus b19 , toxoplasma y vhh-6 , con resultados pendientes .\n",
      "\n",
      "--- Sentence ID 140 ---\n",
      "orientacio diagnostica b34.9 infeccio virica no especificada neutropenia autolimitada fiebre de origen desconocido , posible viriasis [B-UNSCO|B-UNSCO] . [O|I-UNSCO]\n",
      "\n",
      "--- Sentence ID 156 ---\n",
      "antecedentes patologicos - elevacion de transaminasas posiblemente secundario [B-UNSCO|O] a [I-UNSCO|O] consumo [I-UNSCO|O] enolico [I-UNSCO|O] . [I-UNSCO|O]\n",
      "\n",
      "--- Sentence ID 188 ---\n",
      "hipoestesia simetrica en mmii hasta abdomen ( sin claro nivel [B-UNSCO|O] ) [I-UNSCO|O] .\n",
      "\n",
      "--- Sentence ID 193 ---\n",
      "atrofia hipotenar y posible atrofia [B-UNSCO|B-UNSCO] interoseos [I-UNSCO|I-UNSCO] ( paciente refiere que siempre ha permanecido asi ) .\n",
      "\n",
      "--- Sentence ID 228 ---\n",
      "por las caracteristicas encontradas , sugiere origen [B-UNSCO|O] inmunomediado [I-UNSCO|O] . [I-UNSCO|O]\n",
      "\n",
      "--- Sentence ID 257 ---\n",
      "se solicita analitica de ingreso que muestra patron de enolismo cronico ( macrocitosis y elevacion de ggt ) , un patron compatible con hipotiroidismo [B-UNSCO|O] subclinico [I-UNSCO|O] autoimune [I-UNSCO|O] ( por el que se realiza itc a endocrinologia que recomiendan control analitico en 6 meses ) ; con perfil autoimune ( ana , anca , sd antifosflipido ) negativo y serologias viricas negativas .\n",
      "\n",
      "--- Sentence ID 258 ---\n",
      "se solicita estudio neurofisiologico que muestra patron [O|B-UNSCO] de [O|I-UNSCO] polineuropatia [O|I-UNSCO] sensitiva [O|I-UNSCO] de [O|I-UNSCO] predominio [O|I-UNSCO] en [O|I-UNSCO] eess [O|I-UNSCO] con [O|I-UNSCO] componente [O|I-UNSCO] radicular [O|I-UNSCO] añadido [O|I-UNSCO] , [O|I-UNSCO] que por las caracteristicas encontradas , sugiere origen [B-UNSCO|O] inmunomediado [I-UNSCO|O] ; [I-UNSCO|O] sin poderse definir un patron axonal o desmielinizante .\n",
      "\n",
      "--- Sentence ID 260 ---\n",
      "asi pues , ante dichos hallazgos se orienta como [B-UNSCO|B-UNSCO] cuadro [I-UNSCO|I-UNSCO] de [I-UNSCO|I-UNSCO] polirradiculoneuropatia [I-UNSCO|I-UNSCO] inflamatoria [I-UNSCO|I-UNSCO] aguda [I-UNSCO|I-UNSCO] y se decide administrar immungolobulinas endovenosas 5 dias , pese a que la emg no era concluyente ; presentando posteriormente la paciente mejoria progresiva de la clinica .\n",
      "\n",
      "--- Sentence ID 265 ---\n",
      "si bien es cierto que la paciente mejoro tras el inicio de inmunoglobulinas , tambien es cierto que es mas que probable que [B-UNSCO|O] su [I-UNSCO|O] enolismo [I-UNSCO|O] cronico [I-UNSCO|O] e [I-UNSCO|O] hipovitaminosis [I-UNSCO|O] hayan [I-UNSCO|O] tenido [I-UNSCO|O] un [I-UNSCO|O] papel [I-UNSCO|O] en [I-UNSCO|O] la [I-UNSCO|O] clinica [I-UNSCO|O] de [I-UNSCO|O] la [I-UNSCO|O] paciente [I-UNSCO|O] . [I-UNSCO|O]\n"
     ]
    }
   ],
   "source": [
    "shown = 0\n",
    "max_to_show = 10\n",
    "print('UNSCO EXAMPLES --------------\\n')\n",
    "for i in range(len(y_test_UNC)):\n",
    "    if any(tag != 'O' for tag in y_test_UNC[i]) or any(tag != 'O' for tag in y_pred_UNC[i]):\n",
    "        print_crf_predictions(df_crf_neg_test, y_test_UNC, y_pred_UNC, sentence_idx=i)\n",
    "        shown += 1\n",
    "        if shown >= max_to_show:\n",
    "            break"
   ]
  },
  {
   "cell_type": "code",
   "execution_count": null,
   "metadata": {},
   "outputs": [
    {
     "name": "stdout",
     "output_type": "stream",
     "text": [
      "\n",
      "--- Sentence ID 1 ---\n",
      "nº historia clinica : * * * * * * * * nºepisodi : * * * * * * * * sexe : home data de [0|1] naixement : 16.05.1936 edat : 82 anys procedencia cex mateix hosp servei urologia data d'ingres 24.07.2018 data d'alta 25.07.2018 08:54:04 ates per * * * * * * * * * * * * * * * , * * * * * ; * * * * * * * * * * * * * * * * , * * * * * * informe d'alta d'hospitalitzacio motiu d'ingres paciente que ingresa de [0|1] forma programada para realizacion de [0|1] uretrotomia interna .\n",
      "\n",
      "--- Sentence ID 3 ---\n",
      "no [0|1] habitos toxicos .\n",
      "\n",
      "--- Sentence ID 4 ---\n",
      "antecedentes medicos : bloqueo auriculoventricular de [0|1] primer grado hipertension arterial .\n",
      "\n",
      "--- Sentence ID 5 ---\n",
      "diverticulosis extensa insuficiencia renal cronica colelitiasis antecedentes quirurgicos : exeresis de [0|1] lesiones cutaneas con [0|1] anestesia local protesis total de [0|1] cadera cordectomia herniorrafia inguinal proces actual varon de [0|1] 81a que a raiz de [0|1] episodio de [0|1] hematuria macroscopica se [0|1] realiza cistoscopia que es [0|1] negativa para lesiones malignas pero se objetiva estenosis de [0|1] uretra .\n",
      "\n",
      "--- Sentence ID 6 ---\n",
      "se [0|1] intentan dilataciones progresivas en el gabinete de [0|1] urologia sin [0|1] exito .\n",
      "\n",
      "--- Sentence ID 7 ---\n",
      "se [0|1] solicita estudio de [0|1] imagen que confirma la existencia de [0|1] estenosis a nivel d uretra bulbar por lo que se [0|1] indica uretrtomia interna .\n",
      "\n",
      "--- Sentence ID 8 ---\n",
      "exploracio complementaria uretrocistografia retrograda + cums ( 11/2017 ): la uretrografia retrograda muestra una uretra anterior con [0|1] dos estenosis focales a nivel de [0|1] uretra peneana y bulbar , aunque se [0|1] observa paso de [0|1] contraste retrogrado a vejiga .\n",
      "\n",
      "--- Sentence ID 9 ---\n",
      "vejiga de [0|1] correcta capacidad ( 250 cc de [0|1] contraste ) , de [0|1] paredes trabeculadas y con [0|1] diverticulos , el mayor de [0|1] ellos en cara posterolateral izquierda , sin [0|1] observarse defectos de [0|1] replecion .\n",
      "\n",
      "--- Sentence ID 10 ---\n",
      "la uretrografia miccional muestra una uretra prostatica dilatada , sin [1|1] claras [1|1] estenosis focales confirmandose la existencia de [0|1] las dos estenosis de [0|1] uretra anterior descritas previamente .\n",
      "\n",
      "--- Sentence ID 11 ---\n",
      "moderado residuo postmiccional en vejiga asi como [0|1] en el interior del diverticulo posterolateral izquierdo descrito .\n"
     ]
    }
   ],
   "source": [
    "def group_labels_by_sentence(df, labels):\n",
    "    grouped = df.groupby(\"sentence_id\")\n",
    "    grouped_labels = []\n",
    "    start = 0\n",
    "    for sentence_id, group in grouped:\n",
    "        length = len(group)\n",
    "        grouped_labels.append(labels[start:start+length])\n",
    "        start += length\n",
    "    return grouped_labels\n",
    "\n",
    "# Group your flat label lists by sentence\n",
    "y_test_svmunc_grouped = group_labels_by_sentence(df_svm_unc_test, y_test_svmunc)\n",
    "y_pred_svmunc_grouped = group_labels_by_sentence(df_svm_unc_test, y_pred_svmunc)\n",
    "\n",
    "shown = 0\n",
    "max_to_show = 10\n",
    "\n",
    "print('UNCERTANTY EXAMPLES --------------\\n')\n",
    "for i in range(len(y_test_svmunc_grouped)):\n",
    "    # Check if any tag is NOT '0' or 0 in true or predicted labels\n",
    "    if any(tag != '0' and tag != 0 for tag in y_test_svmunc_grouped[i]) or any(tag != '0' and tag != 0 for tag in y_pred_svmunc_grouped[i]):\n",
    "        print_crf_predictions(df_svm_unc_test, y_test_svmunc_grouped, y_pred_svmunc_grouped, sentence_idx=i)\n",
    "        shown += 1\n",
    "        if shown >= max_to_show:\n",
    "            break\n"
   ]
  },
  {
   "cell_type": "code",
   "execution_count": null,
   "metadata": {},
   "outputs": [
    {
     "name": "stdout",
     "output_type": "stream",
     "text": [
      "\n",
      "--- Sentence ID 1 ---\n",
      "nº historia clinica : * * * * * * * * nºepisodi : * * * * * * * * sexe : dona data de naixement : 12.05.1977 edat : 42 anys procedencia aguts servei obstetricia data d'ingres 27.09.2019 data d'alta 01.10.2019 13:00:00 ates per * * * * * * * * * * * * * * * * * , * * * * * * * * * * * * * * ; * * * * * * * * * * * * * * * * * , * * * * * informe d'alta d'hospitalitzacio motiu d'ingres induccion al parto por pequeño para la edad gestacional ( peg ) antecedents no [1|1] alergias medicamentosas conocidas antcededentes medico-quirurgicos : protesis mamaria , adenoidectomia niega [1|1] habitos toxicos medicacio habitual anafranil25 mg/ diario .\n",
      "\n",
      "--- Sentence ID 10 ---\n",
      "vih negativo [1|1] .\n",
      "\n",
      "--- Sentence ID 11 ---\n",
      "serologias : rubeola no [1|1] inmune , toxoplasma no [1|1] immune , lues vih , vhb y vhc negativos [1|1] .\n",
      "\n",
      "--- Sentence ID 12 ---\n",
      "- triple screening : 1/14045 down i 1/60540 edwards - riesgo de pe : bajo riesgo - o'sullivan : 216mg / dl - sgb negativo [0|1] - eco 1º t : crl:60 tn:1.7 - 2º t : morfologia normal .\n",
      "\n",
      "--- Sentence ID 27 ---\n",
      "procedimiento sin [1|1] incidencias .\n",
      "\n",
      "--- Sentence ID 49 ---\n",
      "antecedents alergias no [1|1] refiere alergias medicamentosas conocidas .\n",
      "\n",
      "--- Sentence ID 50 ---\n",
      "antecedenes personales niega [1|1] habitos toxicos .\n",
      "\n",
      "--- Sentence ID 55 ---\n",
      "* * serologies : hbsag negatiu [1|1] , hbsac positiu , hbcac negatiu [1|1] , vhc negativa [1|1] -antecedentes its : * * uretritis gonococica en mayo 2017 , realizo tratamientio .\n",
      "\n",
      "--- Sentence ID 61 ---\n",
      "ultimos dos años sin [1|1] episodios .\n",
      "\n",
      "--- Sentence ID 62 ---\n",
      "antecedentes quirurgicos : no [1|1] refiere .\n"
     ]
    }
   ],
   "source": [
    "print('NEGATION EXAMPLES --------------\\n')\n",
    "# Group your flat label lists by sentence\n",
    "y_test_svmneg_grouped = group_labels_by_sentence(df_svm_neg_test, y_test_negsvm)\n",
    "y_pred_svmneg_grouped = group_labels_by_sentence(df_svm_neg_test, y_pred_negsvm)\n",
    "\n",
    "shown = 0\n",
    "max_to_show = 10\n",
    "\n",
    "for i in range(len(y_test_svmneg_grouped)):\n",
    "    if any(tag != '0' and tag != 0 for tag in y_test_svmneg_grouped[i]) or any(tag != '0' and tag != 0 for tag in y_pred_svmneg_grouped[i]):\n",
    "        print_crf_predictions(df_svm_neg_test, y_test_svmneg_grouped, y_pred_svmneg_grouped, sentence_idx=i)\n",
    "        shown += 1\n",
    "        if shown >= max_to_show:\n",
    "            break"
   ]
  },
  {
   "cell_type": "markdown",
   "metadata": {},
   "source": [
    "### Overall Results: SVM + CRF"
   ]
  },
  {
   "cell_type": "code",
   "execution_count": 41,
   "metadata": {},
   "outputs": [],
   "source": [
    "from sklearn.metrics import precision_score, recall_score, f1_score, accuracy_score\n",
    "\n",
    "def flatten(seq_list):\n",
    "    return [label for seq in seq_list for label in seq]\n",
    "\n",
    "# Cue detection: true and predicted labels\n",
    "cue_true = df_svm_neg_test[\"neg_cue_label\"].tolist() + df_svm_unc_test[\"unc_cue_label\"].tolist()\n",
    "cue_pred = list(neg_svm_model.predict(X_test_negsvm)) + list(model_svmunc.predict(X_test_svmunc))\n",
    "\n",
    "# Scope detection: true and predicted\n",
    "scope_true = flatten(y_test_NEG) + flatten(y_test_UNC)\n",
    "scope_pred = flatten(y_pred_NEG) + flatten(y_pred_UNC)\n",
    "\n",
    "# Filter out neutral classes (non-cues and non-scopes)\n",
    "cue_true_filtered = [true for true, pred in zip(cue_true, cue_pred) if true != '0']\n",
    "cue_pred_filtered = [pred for true, pred in zip(cue_true, cue_pred) if true != '0']\n",
    "\n",
    "scope_true_filtered = [true for true, pred in zip(scope_true, scope_pred) if true != 'O']\n",
    "scope_pred_filtered = [pred for true, pred in zip(scope_true, scope_pred) if true != 'O']\n",
    "\n",
    "# Combine filtered cue and scope labels\n",
    "y_true_all = cue_true_filtered + scope_true_filtered\n",
    "y_pred_all = cue_pred_filtered + scope_pred_filtered\n",
    "\n",
    "# Calculate evaluation metrics\n",
    "accuracy = accuracy_score(y_true_all, y_pred_all)\n",
    "precision = precision_score(y_true_all, y_pred_all, average=\"weighted\", zero_division=0)\n",
    "recall = recall_score(y_true_all, y_pred_all, average=\"weighted\", zero_division=0)\n",
    "f1 = f1_score(y_true_all, y_pred_all, average=\"weighted\", zero_division=0)"
   ]
  },
  {
   "cell_type": "code",
   "execution_count": 40,
   "metadata": {},
   "outputs": [
    {
     "name": "stdout",
     "output_type": "stream",
     "text": [
      "\n",
      "Filtered Overall Evaluation (Cue + Scope Detection):\n",
      "Metric     Accuracy   Precision  Recall     F1 Score  \n",
      "Overall     0.9407     0.9948    0.9407      0.9645\n"
     ]
    }
   ],
   "source": [
    "# Output the results\n",
    "print(\"\\nFiltered Overall Evaluation (Cue + Scope Detection):\")\n",
    "print(f\"{'Metric':<10} {'Accuracy':<10} {'Precision':<10} {'Recall':<10} {'F1 Score':<10}\")\n",
    "print(f\"{'Overall':<10}  {accuracy:.4f}     {precision:.4f}    {recall:.4f}      {f1:.4f}\")\n"
   ]
  },
  {
   "cell_type": "code",
   "execution_count": 23,
   "metadata": {},
   "outputs": [],
   "source": [
    "from sklearn.metrics import confusion_matrix\n",
    "import matplotlib.pyplot as plt\n",
    "import seaborn as sns\n",
    "\n",
    "def plot_task_confusion_matrices(\n",
    "    y_test_negsvm, y_pred_negsvm,\n",
    "    y_test_svmunc, y_pred_svmunc,\n",
    "    y_test_NEG, y_pred_NEG,\n",
    "    y_test_UNC, y_pred_UNC\n",
    "):\n",
    "    def binary_label_map(y, label_type):\n",
    "        return [f\"{label_type}\" if v == 1 else f\"NOT {label_type}\" for v in y]\n",
    "\n",
    "    def flatten(seqs):\n",
    "        return [label for seq in seqs for label in seq]\n",
    "\n",
    "    def plot_cm(ax, y_true, y_pred, labels, title):\n",
    "        cm = confusion_matrix(y_true, y_pred, labels=labels)\n",
    "        sns.heatmap(cm, annot=True, fmt='d', cmap='RdPu', xticklabels=labels, yticklabels=labels, ax=ax)\n",
    "        ax.set_title(title)\n",
    "        ax.set_xlabel(\"Predicted\")\n",
    "        ax.set_ylabel(\"True\")\n",
    "        ax.tick_params(axis='x', rotation=45)\n",
    "        ax.tick_params(axis='y', rotation=0)\n",
    "\n",
    "    # Convert 0/1 to string labels\n",
    "    y_test_neg_named = binary_label_map(y_test_negsvm, \"NEG\")\n",
    "    y_pred_neg_named = binary_label_map(y_pred_negsvm, \"NEG\")\n",
    "    y_test_unc_named = binary_label_map(y_test_svmunc, \"UNC\")\n",
    "    y_pred_unc_named = binary_label_map(y_pred_svmunc, \"UNC\")\n",
    "\n",
    "    # Flatten scope labels\n",
    "    y_test_neg_scope = flatten(y_test_NEG)\n",
    "    y_pred_neg_scope = flatten(y_pred_NEG)\n",
    "    y_test_unc_scope = flatten(y_test_UNC)\n",
    "    y_pred_unc_scope = flatten(y_pred_UNC)\n",
    "\n",
    "    # Label sets\n",
    "    neg_cue_labels = [\"NOT NEG\", \"NEG\"]\n",
    "    unc_cue_labels = [\"NOT UNC\", \"UNC\"]\n",
    "    neg_scope_labels = sorted(set(y_test_neg_scope + y_pred_neg_scope))\n",
    "    unc_scope_labels = sorted(set(y_test_unc_scope + y_pred_unc_scope))\n",
    "\n",
    "    # Plotting\n",
    "    fig, axs = plt.subplots(2, 2, figsize=(14, 10))\n",
    "    plot_cm(axs[0, 0], y_test_neg_named, y_pred_neg_named, neg_cue_labels, \"Confusion Matrix for NEG\")\n",
    "    plot_cm(axs[0, 1], y_test_unc_named, y_pred_unc_named, unc_cue_labels, \"Confusion Matrix for UNC\")\n",
    "    plot_cm(axs[1, 0], y_test_neg_scope, y_pred_neg_scope, neg_scope_labels, \"Confusion Matrix for NSCO\")\n",
    "    plot_cm(axs[1, 1], y_test_unc_scope, y_pred_unc_scope, unc_scope_labels, \"Confusion Matrix for USCO\")\n",
    "\n",
    "    plt.tight_layout()\n",
    "    plt.show()\n"
   ]
  },
  {
   "cell_type": "code",
   "execution_count": 24,
   "metadata": {},
   "outputs": [
    {
     "data": {
      "image/png": "[encoded data removed]",
      "text/plain": [
       "<Figure size 1400x1000 with 8 Axes>"
      ]
     },
     "metadata": {},
     "output_type": "display_data"
    }
   ],
   "source": [
    "plot_task_confusion_matrices(\n",
    "    y_test_negsvm, y_pred_negsvm,\n",
    "    y_test_svmunc, y_pred_svmunc,\n",
    "    y_test_NEG, y_pred_NEG,\n",
    "    y_test_UNC, y_pred_UNC\n",
    ")\n"
   ]
  }
 ],
 "metadata": {
  "kernelspec": {
   "display_name": "Python 3",
   "language": "python",
   "name": "python3"
  },
  "language_info": {
   "codemirror_mode": {
    "name": "ipython",
    "version": 3
   },
   "file_extension": ".py",
   "mimetype": "text/x-python",
   "name": "python",
   "nbconvert_exporter": "python",
   "pygments_lexer": "ipython3",
   "version": "3.11.4"
  }
 },
 "nbformat": 4,
 "nbformat_minor": 2
}
