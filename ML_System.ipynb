{
  "cells": [
    {
      "cell_type": "markdown",
      "metadata": {
        "id": "s_xOQNI3mTIS"
      },
      "source": [
        "### Fundamentals of Natural Language Processing\n",
        "# Negation and Uncertainty Detection using a Machine-Learning Based Approach\n",
        "\n",
        "*Authors:*\n",
        "\n",
        "> *Anna Blanco, Agustina Lazzati, Stanislav Bultaskii, Queralt Salvadó*\n",
        "\n",
        "*Aims:*\n",
        "> Our goal is to train various Machine Learning based models for each of the two sub-tasks (detection of negation and uncertainty signals, and detection of the negation and uncertainty scopes). In order to do so, we followed the implementation method described by *Enger, Velldal, and Øvrelid (2017)*, which employs a maximum-margin approach for negation detection. However, for our particular application, we also included uncertainty cues and scope detection."
      ]
    },
    {
      "cell_type": "markdown",
      "metadata": {
        "id": "bX4cvgPFmTIU"
      },
      "source": [
        "*References:*\n",
        "<br>\n",
        "> Enger, M., Velldal, E., & Øvrelid, L. (2017). *An open-source tool for negation detection: A maximum-margin approach*. Proceedings of the Workshop on Computational Semantics Beyond Events and Roles (SemBEaR), 64–69."
      ]
    },
    {
      "cell_type": "markdown",
      "metadata": {
        "id": "clo2EGoSmTIV"
      },
      "source": [
        "---"
      ]
    },
    {
      "cell_type": "markdown",
      "metadata": {
        "id": "PakVCw3QmTIV"
      },
      "source": [
        "We can erase this if you want but the thing is that we need to use the environment that queralt did. You need to write some commands to have the nlp_project (Python) as we have specific libraries.\n",
        "\n",
        "I did that and in the preprocessing it worked but here in order to work I had to run this command above, if it is not needed just avoid them!"
      ]
    },
    {
      "cell_type": "code",
      "execution_count": 1,
      "metadata": {
        "id": "M7wc08ICmTIW",
        "outputId": "9bd23f57-7e40-4a9c-fcee-3af1498925b5",
        "colab": {
          "base_uri": "https://localhost:8080/"
        }
      },
      "outputs": [
        {
          "output_type": "stream",
          "name": "stdout",
          "text": [
            "['es_core_news_sm', 'en_core_web_sm']\n"
          ]
        }
      ],
      "source": [
        "import spacy\n",
        "\n",
        "# Check installed models\n",
        "print(spacy.util.get_installed_models())\n"
      ]
    },
    {
      "cell_type": "code",
      "execution_count": null,
      "metadata": {
        "id": "zu1Hv9IHmTIX"
      },
      "outputs": [],
      "source": [
        "#!python -m spacy download es_core_news_sm\n"
      ]
    },
    {
      "cell_type": "code",
      "execution_count": 2,
      "metadata": {
        "id": "9pREd2vcmTIX",
        "outputId": "9f0142c9-4081-43f8-f486-2119352d8a79",
        "colab": {
          "base_uri": "https://localhost:8080/"
        }
      },
      "outputs": [
        {
          "output_type": "stream",
          "name": "stdout",
          "text": [
            "   sentence_id  token_id      word     lemma    pos prefix suffix  is_punct  \\\n",
            "0            0         0                      SPACE                       0   \n",
            "1            1         0        nº        nº   NOUN     nº     nº         0   \n",
            "2            1         1  historia  historia   NOUN    his    ria         0   \n",
            "3            1         2   clinica   clinico    ADJ    cli    ica         0   \n",
            "4            1         3         :         :  PUNCT      :      :         1   \n",
            "\n",
            "   is_redacted    dep head_pos  in_single_word_cues  in_affixal_cues  \\\n",
            "0            0    dep    SPACE                    0                0   \n",
            "1            0    det     NOUN                    0                0   \n",
            "2            0   ROOT     NOUN                    0                0   \n",
            "3            0   amod     NOUN                    0                0   \n",
            "4            0  punct     NOUN                    0                0   \n",
            "\n",
            "   ends_with_ment  neg_cue_label  \n",
            "0               0              0  \n",
            "1               0              0  \n",
            "2               0              0  \n",
            "3               0              0  \n",
            "4               0              0  \n",
            "---------------------------------------\n",
            "\n",
            "\n",
            "   sentence_id  token_id      word     lemma    pos prefix suffix  is_punct  \\\n",
            "0            0         0                      SPACE                       0   \n",
            "1            1         0        nº        nº   NOUN     nº     nº         0   \n",
            "2            1         1  historia  historia   NOUN    his    ria         0   \n",
            "3            1         2   clinica   clinico    ADJ    cli    ica         0   \n",
            "4            1         3         :         :  PUNCT      :      :         1   \n",
            "\n",
            "   is_redacted    dep head_pos  in_single_word_cues  in_affixal_cues  \\\n",
            "0            0    dep    SPACE                    0                0   \n",
            "1            0    det     NOUN                    0                0   \n",
            "2            0  nsubj     VERB                    0                0   \n",
            "3            0   amod     NOUN                    0                0   \n",
            "4            0  punct     NOUN                    0                0   \n",
            "\n",
            "   ends_with_ment  neg_cue_label  \n",
            "0               0              0  \n",
            "1               0              0  \n",
            "2               0              0  \n",
            "3               0              0  \n",
            "4               0              0  \n",
            "---------------------------------------\n",
            "\n",
            "\n",
            "   sentence_id  token_id      word     lemma    pos prefix suffix  is_punct  \\\n",
            "0            0         0                      SPACE                       0   \n",
            "1            1         0        nº        nº   NOUN     nº     nº         0   \n",
            "2            1         1  historia  historia   NOUN    his    ria         0   \n",
            "3            1         2   clinica   clinico    ADJ    cli    ica         0   \n",
            "4            1         3         :         :  PUNCT      :      :         1   \n",
            "\n",
            "   is_redacted    dep head_pos  in_single_word_cues  in_affixal_cues  \\\n",
            "0            0    dep    SPACE                    0                0   \n",
            "1            0    det     NOUN                    0                0   \n",
            "2            0   ROOT     NOUN                    0                0   \n",
            "3            0   amod     NOUN                    0                0   \n",
            "4            0  punct     NOUN                    0                0   \n",
            "\n",
            "   ends_with_ment  unc_cue_label  \n",
            "0               0              0  \n",
            "1               0              0  \n",
            "2               0              0  \n",
            "3               0              0  \n",
            "4               0              0  \n",
            "---------------------------------------\n",
            "\n",
            "\n",
            "   sentence_id  token_id      word     lemma    pos prefix suffix  is_punct  \\\n",
            "0            0         0                      SPACE                       0   \n",
            "1            1         0        nº        nº   NOUN     nº     nº         0   \n",
            "2            1         1  historia  historia   NOUN    his    ria         0   \n",
            "3            1         2   clinica   clinico    ADJ    cli    ica         0   \n",
            "4            1         3         :         :  PUNCT      :      :         1   \n",
            "\n",
            "   is_redacted    dep head_pos  in_single_word_cues  in_affixal_cues  \\\n",
            "0            0    dep    SPACE                    0                0   \n",
            "1            0    det     NOUN                    0                0   \n",
            "2            0   ROOT     NOUN                    0                0   \n",
            "3            0   amod     NOUN                    0                0   \n",
            "4            0  punct     NOUN                    0                0   \n",
            "\n",
            "   ends_with_ment  unc_cue_label  \n",
            "0               0              0  \n",
            "1               0              0  \n",
            "2               0              0  \n",
            "3               0              0  \n",
            "4               0              0  \n",
            "---------------------------------------\n",
            "\n",
            "\n",
            "   sentence_id  token_id      word     lemma    pos prefix suffix  is_punct  \\\n",
            "0            0         0                      SPACE                       0   \n",
            "1            1         0        nº        nº   NOUN     nº     nº         0   \n",
            "2            1         1  historia  historia   NOUN    his    ria         0   \n",
            "3            1         2   clinica   clinico    ADJ    cli    ica         0   \n",
            "4            1         3         :         :  PUNCT      :      :         1   \n",
            "\n",
            "   is_redacted    dep head_pos  in_single_word_cues  in_affixal_cues  \\\n",
            "0            0    dep    SPACE                    0                0   \n",
            "1            0    det     NOUN                    0                0   \n",
            "2            0   ROOT     NOUN                    0                0   \n",
            "3            0   amod     NOUN                    0                0   \n",
            "4            0  punct     NOUN                    0                0   \n",
            "\n",
            "   ends_with_ment  neg_scope_label  \n",
            "0               0                0  \n",
            "1               0                0  \n",
            "2               0                0  \n",
            "3               0                0  \n",
            "4               0                0  \n",
            "---------------------------------------\n",
            "\n",
            "\n",
            "       sentence_id  token_id       word      lemma    pos prefix suffix  \\\n",
            "0                0         0                        SPACE                 \n",
            "1                1         0         nº         nº   NOUN     nº     nº   \n",
            "2                1         1   historia   historia   NOUN    his    ria   \n",
            "3                1         2    clinica    clinico    ADJ    cli    ica   \n",
            "4                1         3          :          :  PUNCT      :      :   \n",
            "...            ...       ...        ...        ...    ...    ...    ...   \n",
            "65526         3459        23          *          *    NUM      *      *   \n",
            "65527         3459        24          )          )  PUNCT      )      )   \n",
            "65528         3459        25  age-v-mir  age-v-mir   VERB    age    mir   \n",
            "65529         3459        26        4/4        4/4    NUM    4/4    4/4   \n",
            "65530         3459        27       lopd       lopd    ADJ    lop    opd   \n",
            "\n",
            "       is_punct  is_redacted    dep head_pos  in_single_word_cues  \\\n",
            "0             0            0    dep    SPACE                    0   \n",
            "1             0            0    det     NOUN                    0   \n",
            "2             0            0  nsubj     VERB                    0   \n",
            "3             0            0   amod     NOUN                    0   \n",
            "4             1            0  punct     NOUN                    0   \n",
            "...         ...          ...    ...      ...                  ...   \n",
            "65526         1            1  punct     NOUN                    0   \n",
            "65527         1            0  punct     NOUN                    0   \n",
            "65528         0            0  appos     NOUN                    0   \n",
            "65529         0            0  appos     NOUN                    0   \n",
            "65530         0            0   amod     NOUN                    0   \n",
            "\n",
            "       in_affixal_cues  ends_with_ment  neg_scope_label  \n",
            "0                    0               0                0  \n",
            "1                    0               0                0  \n",
            "2                    0               0                0  \n",
            "3                    0               0                0  \n",
            "4                    0               0                0  \n",
            "...                ...             ...              ...  \n",
            "65526                0               0                0  \n",
            "65527                0               0                0  \n",
            "65528                1               0                0  \n",
            "65529                0               0                0  \n",
            "65530                0               0                0  \n",
            "\n",
            "[65531 rows x 15 columns]\n",
            "---------------------------------------\n",
            "\n",
            "\n",
            "   sentence_id  token_id      word     lemma    pos prefix suffix  is_punct  \\\n",
            "0            0         0                      SPACE                       0   \n",
            "1            1         0        nº        nº   NOUN     nº     nº         0   \n",
            "2            1         1  historia  historia   NOUN    his    ria         0   \n",
            "3            1         2   clinica   clinico    ADJ    cli    ica         0   \n",
            "4            1         3         :         :  PUNCT      :      :         1   \n",
            "\n",
            "   is_redacted    dep head_pos  in_single_word_cues  in_affixal_cues  \\\n",
            "0            0    dep    SPACE                    0                0   \n",
            "1            0    det     NOUN                    0                0   \n",
            "2            0   ROOT     NOUN                    0                0   \n",
            "3            0   amod     NOUN                    0                0   \n",
            "4            0  punct     NOUN                    0                0   \n",
            "\n",
            "   ends_with_ment  unc_scope_label  \n",
            "0               0                0  \n",
            "1               0                0  \n",
            "2               0                0  \n",
            "3               0                0  \n",
            "4               0                0  \n",
            "---------------------------------------\n",
            "\n",
            "\n",
            "   sentence_id  token_id      word     lemma    pos prefix suffix  is_punct  \\\n",
            "0            0         0                      SPACE                       0   \n",
            "1            1         0        nº        nº   NOUN     nº     nº         0   \n",
            "2            1         1  historia  historia   NOUN    his    ria         0   \n",
            "3            1         2   clinica   clinico    ADJ    cli    ica         0   \n",
            "4            1         3         :         :  PUNCT      :      :         1   \n",
            "\n",
            "   is_redacted    dep head_pos  in_single_word_cues  in_affixal_cues  \\\n",
            "0            0    dep    SPACE                    0                0   \n",
            "1            0    det     NOUN                    0                0   \n",
            "2            0  nsubj     VERB                    0                0   \n",
            "3            0   amod     NOUN                    0                0   \n",
            "4            0  punct     NOUN                    0                0   \n",
            "\n",
            "   ends_with_ment  unc_scope_label  \n",
            "0               0                0  \n",
            "1               0                0  \n",
            "2               0                0  \n",
            "3               0                0  \n",
            "4               0                0  \n",
            "---------------------------------------\n",
            "\n",
            "\n",
            "Document ID: 20331067\n",
            "Sentence 3:\n",
            "--------------------------------------------------\n",
            "WORD            NEG_CUE  NEG_SCOPE  UNC_CUE  UNC_SCOPE\n",
            "--------------------------------------------------\n",
            "no              1        0          0        0\n",
            "intervencions   0        1          0        0\n",
            "quirurgiques    0        1          0        0\n",
            "ni              0        1          0        0\n",
            "altres          0        1          0        0\n",
            "antecedents     0        1          0        0\n",
            "patologics      0        1          0        0\n",
            ".               0        0          0        0\n"
          ]
        }
      ],
      "source": [
        "# Import necessary libraries and functions\n",
        "import json\n",
        "import spacy\n",
        "from collections import defaultdict\n",
        "import re\n",
        "import pandas as pd\n",
        "from preprocessing import df_svm_neg_test, df_svm_neg_train, df_svm_neg_test, df_svm_unc_train, df_svm_unc_test, df_crf_neg_train, df_crf_neg_test, df_crf_unc_train, df_crf_unc_test"
      ]
    },
    {
      "cell_type": "markdown",
      "metadata": {
        "id": "7gV-tSwymTIY"
      },
      "source": [
        "## CUE DETECTION USING SVM"
      ]
    },
    {
      "cell_type": "markdown",
      "metadata": {
        "id": "TBE_y-JcmTIY"
      },
      "source": [
        "First of all, we'll need to vectorize:"
      ]
    },
    {
      "cell_type": "code",
      "execution_count": 3,
      "metadata": {
        "id": "giMPtEhvmTIZ"
      },
      "outputs": [],
      "source": [
        "from sklearn.svm import LinearSVC\n",
        "from sklearn.metrics import classification_report, confusion_matrix, precision_recall_curve, average_precision_score\n",
        "from sklearn.preprocessing import StandardScaler\n",
        "from sklearn.pipeline import Pipeline\n",
        "from sklearn.feature_extraction import DictVectorizer\n",
        "from sklearn.feature_selection import SelectKBest, chi2, SelectFromModel\n",
        "from sklearn.decomposition import PCA, TruncatedSVD\n",
        "from sklearn.model_selection import GridSearchCV, StratifiedKFold\n",
        "from joblib import dump\n",
        "from imblearn.over_sampling import SMOTE\n",
        "from imblearn.pipeline import Pipeline as ImbPipeline\n",
        "import numpy as np\n",
        "\n",
        "def prepare_dataframe_for_svm(df, label_col, select_features=False, n_features=None):\n",
        "    drop_cols = [\"sentence_id\", \"token_id\", label_col]\n",
        "    feature_dicts = df.drop(columns=drop_cols).to_dict(orient=\"records\")\n",
        "    labels = df[label_col].tolist()\n",
        "\n",
        "    vectorizer = DictVectorizer(sparse=True)\n",
        "    X = vectorizer.fit_transform(feature_dicts)\n",
        "    y = labels\n",
        "\n",
        "    print(f\"Original feature matrix shape: {X.shape}\")\n",
        "    print(f\"Class distribution: {np.bincount(y)}\")\n",
        "\n",
        "    return X, y, vectorizer\n",
        "\n",
        "def train_and_evaluate_svm(df_train, df_test, label_col, model_name,\n",
        "                          use_pca=True, n_components=50,\n",
        "                          use_feature_selection=True, n_features=500,\n",
        "                          use_smote=True):\n",
        "\n",
        "    X_train, y_train, vec = prepare_dataframe_for_svm(df_train, label_col)\n",
        "\n",
        "    X_test = vec.transform(df_test.drop(columns=[\"sentence_id\", \"token_id\", label_col]).to_dict(orient=\"records\"))\n",
        "    y_test = df_test[label_col].tolist()\n",
        "\n",
        "    print(f\"Training class distribution: {np.bincount(y_train)}\")\n",
        "    print(f\"Testing class distribution: {np.bincount(y_test)}\")\n",
        "\n",
        "    steps = []\n",
        "\n",
        "    if use_feature_selection and X_train.shape[1] > n_features:\n",
        "        print(f\"Adding feature selection step (selecting {n_features} features)\")\n",
        "        steps.append(('feature_selection', SelectKBest(chi2, k=n_features)))\n",
        "\n",
        "    if use_pca:\n",
        "        print(f\"Adding dimensionality reduction step (reducing to {n_components} components)\")\n",
        "        steps.append(('svd', TruncatedSVD(n_components=n_components, random_state=42)))\n",
        "        steps.append(('scaler', StandardScaler()))\n",
        "\n",
        "    if use_smote:\n",
        "        print(\"Using SMOTE to handle class imbalance\")\n",
        "        steps.append(('smote', SMOTE(random_state=42)))\n",
        "\n",
        "    svm_params = {\n",
        "        'C': 1.0,\n",
        "        'class_weight': 'balanced',\n",
        "        'dual': False,\n",
        "        'max_iter': 10000,\n",
        "        'tol': 1e-4\n",
        "    }\n",
        "    steps.append(('svm', LinearSVC(**svm_params)))\n",
        "\n",
        "    if use_smote:\n",
        "        pipeline = ImbPipeline(steps)\n",
        "    else:\n",
        "        pipeline = Pipeline(steps)\n",
        "\n",
        "\n",
        "    pipeline.fit(X_train, y_train)\n",
        "    y_pred = pipeline.predict(X_test)\n",
        "\n",
        "    print(f\"\\n--- Evaluation for {model_name} ---\")\n",
        "    print(classification_report(y_test, y_pred, digits=3))\n",
        "\n",
        "    dump(pipeline, f\"{model_name}.joblib\")\n",
        "    dump(vec, f\"{model_name}_vectorizer.joblib\")\n",
        "\n",
        "    return X_train, y_train, X_test, y_test, y_pred, pipeline, vec"
      ]
    },
    {
      "cell_type": "markdown",
      "metadata": {
        "id": "VbCuzT9FmTIa"
      },
      "source": [
        "### SVM for negation cue detection"
      ]
    },
    {
      "cell_type": "code",
      "execution_count": 4,
      "metadata": {
        "id": "Xy1fKZddmTIb",
        "outputId": "7f761fca-4215-4cff-b718-975031af98f7",
        "colab": {
          "base_uri": "https://localhost:8080/"
        }
      },
      "outputs": [
        {
          "output_type": "stream",
          "name": "stdout",
          "text": [
            "Original feature matrix shape: (251970, 48864)\n",
            "Class distribution: [247649   4321]\n",
            "Training class distribution: [247649   4321]\n",
            "Testing class distribution: [64399  1132]\n",
            "Adding feature selection step (selecting 500 features)\n",
            "Adding dimensionality reduction step (reducing to 100 components)\n",
            "Using SMOTE to handle class imbalance\n",
            "\n",
            "--- Evaluation for svm_negation_cue ---\n",
            "              precision    recall  f1-score   support\n",
            "\n",
            "           0      1.000     0.995     0.997     64399\n",
            "           1      0.772     0.999     0.871      1132\n",
            "\n",
            "    accuracy                          0.995     65531\n",
            "   macro avg      0.886     0.997     0.934     65531\n",
            "weighted avg      0.996     0.995     0.995     65531\n",
            "\n"
          ]
        }
      ],
      "source": [
        "X_train_negsvm, y_train_negsvm, X_test_negsvm, y_test_negsvm, y_pred_negsvm, neg_svm_model, vectorizer_neg = train_and_evaluate_svm(\n",
        "    df_train=df_svm_neg_train,\n",
        "    df_test=df_svm_neg_test,\n",
        "    label_col=\"neg_cue_label\",\n",
        "    model_name=\"svm_negation_cue\",\n",
        "    use_pca=True,\n",
        "    n_components=100,\n",
        "    use_feature_selection=True,\n",
        "    n_features=500,\n",
        "    use_smote=True\n",
        ")"
      ]
    },
    {
      "cell_type": "markdown",
      "metadata": {
        "id": "GENw7hSsmTIb"
      },
      "source": [
        "### SVM for uncertainty cue detection"
      ]
    },
    {
      "cell_type": "code",
      "execution_count": 5,
      "metadata": {
        "id": "rmVu4wKZmTIc",
        "outputId": "9c2e79da-8316-409b-d08e-6a69262e5b45",
        "colab": {
          "base_uri": "https://localhost:8080/"
        }
      },
      "outputs": [
        {
          "output_type": "stream",
          "name": "stdout",
          "text": [
            "Original feature matrix shape: (251970, 48864)\n",
            "Class distribution: [251284    686]\n",
            "Training class distribution: [251284    686]\n",
            "Testing class distribution: [251284    686]\n",
            "Adding feature selection step (selecting 500 features)\n",
            "Adding dimensionality reduction step (reducing to 100 components)\n",
            "Using SMOTE to handle class imbalance\n",
            "\n",
            "--- Evaluation for svm_uncertainty_cue ---\n",
            "              precision    recall  f1-score   support\n",
            "\n",
            "           0      1.000     0.927     0.962    251284\n",
            "           1      0.036     0.987     0.069       686\n",
            "\n",
            "    accuracy                          0.928    251970\n",
            "   macro avg      0.518     0.957     0.516    251970\n",
            "weighted avg      0.997     0.928     0.960    251970\n",
            "\n"
          ]
        }
      ],
      "source": [
        "X_train_uncsvm, y_train_uncsvm, X_test_uncsvm, y_test_svmunc, y_pred_svmunc, unc_svm_model, vectorizer_unc = train_and_evaluate_svm(\n",
        "    df_train=df_svm_unc_train,\n",
        "    df_test=df_svm_unc_test,\n",
        "    label_col=\"unc_cue_label\",\n",
        "    model_name=\"svm_uncertainty_cue\",\n",
        "    use_pca=True,\n",
        "    n_components=100,\n",
        "    use_feature_selection=True,\n",
        "    n_features=500,\n",
        "    use_smote=True\n",
        ")"
      ]
    },
    {
      "cell_type": "code",
      "execution_count": 6,
      "metadata": {
        "id": "mvzxmECamTIc",
        "outputId": "6cabce90-b7d1-4bf4-e936-edf5739fbf26",
        "colab": {
          "base_uri": "https://localhost:8080/"
        }
      },
      "outputs": [
        {
          "output_type": "stream",
          "name": "stdout",
          "text": [
            "\n",
            "Per-label Accuracy for SVM Uncertainty Cue Detection:\n",
            "NOT UNC   : 0.9274\n",
            "UNC       : 0.9869\n",
            "\n",
            "Per-label Accuracy for SVM Negation Cue Detection:\n",
            "NEG       : 0.9991\n",
            "NOT NEG   : 0.9948\n"
          ]
        }
      ],
      "source": [
        "from sklearn.metrics import accuracy_score\n",
        "import numpy as np\n",
        "\n",
        "# === UNCERTAINTY CUE ===\n",
        "y_true_unc = y_test_svmunc\n",
        "y_pred_unc = y_pred_svmunc\n",
        "label_mapping_unc = {1: 'UNC', 0: 'NOT UNC'}\n",
        "\n",
        "y_true_unc_named = [label_mapping_unc.get(y, y) for y in y_true_unc]\n",
        "y_pred_unc_named = [label_mapping_unc.get(y, y) for y in y_pred_unc]\n",
        "\n",
        "unique_labels_unc = sorted(set(y_true_unc_named + y_pred_unc_named))\n",
        "per_label_accuracies_unc = {}\n",
        "for label in unique_labels_unc:\n",
        "    indices = [i for i, true_label in enumerate(y_true_unc_named) if true_label == label]\n",
        "    true_subset = [y_true_unc_named[i] for i in indices]\n",
        "    pred_subset = [y_pred_unc_named[i] for i in indices]\n",
        "    acc = accuracy_score(true_subset, pred_subset)\n",
        "    per_label_accuracies_unc[label] = acc\n",
        "\n",
        "print(\"\\nPer-label Accuracy for SVM Uncertainty Cue Detection:\")\n",
        "for label, acc in per_label_accuracies_unc.items():\n",
        "    print(f\"{label:<10}: {acc:.4f}\")\n",
        "\n",
        "# === NEGATION CUE ===\n",
        "y_true_neg = y_test_negsvm\n",
        "y_pred_neg = y_pred_negsvm\n",
        "label_mapping_neg = {1: 'NEG', 0: 'NOT NEG'}\n",
        "\n",
        "y_true_neg_named = [label_mapping_neg.get(y, y) for y in y_true_neg]\n",
        "y_pred_neg_named = [label_mapping_neg.get(y, y) for y in y_pred_neg]\n",
        "\n",
        "unique_labels_neg = sorted(set(y_true_neg_named + y_pred_neg_named))\n",
        "per_label_accuracies_neg = {}\n",
        "for label in unique_labels_neg:\n",
        "    indices = [i for i, true_label in enumerate(y_true_neg_named) if true_label == label]\n",
        "    true_subset = [y_true_neg_named[i] for i in indices]\n",
        "    pred_subset = [y_pred_neg_named[i] for i in indices]\n",
        "    acc = accuracy_score(true_subset, pred_subset)\n",
        "    per_label_accuracies_neg[label] = acc\n",
        "\n",
        "print(\"\\nPer-label Accuracy for SVM Negation Cue Detection:\")\n",
        "for label, acc in per_label_accuracies_neg.items():\n",
        "    print(f\"{label:<10}: {acc:.4f}\")\n"
      ]
    },
    {
      "cell_type": "markdown",
      "metadata": {
        "id": "XKhUP3ERmTIe"
      },
      "source": [
        "## SCOPE DETECTION USING CRF"
      ]
    },
    {
      "cell_type": "code",
      "execution_count": 7,
      "metadata": {
        "id": "HSHzvJwBmTIe",
        "outputId": "b95c8c43-438e-49f6-80a2-7986204b2eb7",
        "colab": {
          "base_uri": "https://localhost:8080/"
        }
      },
      "outputs": [
        {
          "output_type": "stream",
          "name": "stdout",
          "text": [
            "Collecting sklearn-crfsuite\n",
            "  Downloading sklearn_crfsuite-0.5.0-py2.py3-none-any.whl.metadata (4.9 kB)\n",
            "Collecting python-crfsuite>=0.9.7 (from sklearn-crfsuite)\n",
            "  Downloading python_crfsuite-0.9.11-cp311-cp311-manylinux_2_17_x86_64.manylinux2014_x86_64.whl.metadata (4.3 kB)\n",
            "Requirement already satisfied: scikit-learn>=0.24.0 in /usr/local/lib/python3.11/dist-packages (from sklearn-crfsuite) (1.6.1)\n",
            "Requirement already satisfied: tabulate>=0.4.2 in /usr/local/lib/python3.11/dist-packages (from sklearn-crfsuite) (0.9.0)\n",
            "Requirement already satisfied: tqdm>=2.0 in /usr/local/lib/python3.11/dist-packages (from sklearn-crfsuite) (4.67.1)\n",
            "Requirement already satisfied: numpy>=1.19.5 in /usr/local/lib/python3.11/dist-packages (from scikit-learn>=0.24.0->sklearn-crfsuite) (2.0.2)\n",
            "Requirement already satisfied: scipy>=1.6.0 in /usr/local/lib/python3.11/dist-packages (from scikit-learn>=0.24.0->sklearn-crfsuite) (1.15.3)\n",
            "Requirement already satisfied: joblib>=1.2.0 in /usr/local/lib/python3.11/dist-packages (from scikit-learn>=0.24.0->sklearn-crfsuite) (1.5.0)\n",
            "Requirement already satisfied: threadpoolctl>=3.1.0 in /usr/local/lib/python3.11/dist-packages (from scikit-learn>=0.24.0->sklearn-crfsuite) (3.6.0)\n",
            "Downloading sklearn_crfsuite-0.5.0-py2.py3-none-any.whl (10 kB)\n",
            "Downloading python_crfsuite-0.9.11-cp311-cp311-manylinux_2_17_x86_64.manylinux2014_x86_64.whl (1.3 MB)\n",
            "\u001b[2K   \u001b[90m━━━━━━━━━━━━━━━━━━━━━━━━━━━━━━━━━━━━━━━━\u001b[0m \u001b[32m1.3/1.3 MB\u001b[0m \u001b[31m18.1 MB/s\u001b[0m eta \u001b[36m0:00:00\u001b[0m\n",
            "\u001b[?25hInstalling collected packages: python-crfsuite, sklearn-crfsuite\n",
            "Successfully installed python-crfsuite-0.9.11 sklearn-crfsuite-0.5.0\n"
          ]
        }
      ],
      "source": [
        "#pip install sklearn-crfsuite"
      ]
    },
    {
      "cell_type": "markdown",
      "metadata": {
        "id": "hSLRMAC3mTIe"
      },
      "source": [
        "We'll use CRF BIO tagging:"
      ]
    },
    {
      "cell_type": "markdown",
      "metadata": {
        "id": "6nZb0AxEmTIe"
      },
      "source": [
        "**BIO tagging** is a way to label each word in a sentence to show if it is part of a scope (like negation or uncertainty). The labels are:\n",
        "\n",
        "* **B** for the **Beginning** of the scope\n",
        "* **I** for **Inside** the scope\n",
        "* **O** for **Outside** the scope\n",
        "\n",
        "We use BIO tagging to help machine learning models, like **CRFs (Conditional Random Fields)**, understand where a scope starts and ends. For example, if a sentence has a negation like “No tiene fiebre”, BIO tagging shows that “No” is the beginning (**B-SCOPE**) and “tiene fiebre” is inside the scope (**I-SCOPE**), while other words would be labeled **O** if they are not part of it.\n",
        "\n",
        "Using BIO makes it easier for the model to learn patterns and detect complete scopes correctly, not just single words.\n"
      ]
    },
    {
      "cell_type": "code",
      "execution_count": 8,
      "metadata": {
        "id": "DCuSZT-hmTIe"
      },
      "outputs": [],
      "source": [
        "#   IM GETTING ALL THE NEGATION AND THE UNC CUES FROM TRAIN DATAFRAME,\n",
        "#   maybe it should be done with the svm but i dont how.\n",
        "neg_cues = set()\n",
        "unc_cues = set()\n",
        "for _, row in df_svm_neg_train.iterrows():\n",
        "    if row['neg_cue_label'] == 1:\n",
        "        neg_cues.add(row['word'].lower())\n",
        "\n",
        "for _, row in df_svm_unc_train.iterrows():\n",
        "    if row['unc_cue_label'] == 1:\n",
        "        unc_cues.add(row['word'].lower())\n"
      ]
    },
    {
      "cell_type": "code",
      "execution_count": 9,
      "metadata": {
        "id": "n-gVdXC6mTIf"
      },
      "outputs": [],
      "source": [
        "from sklearn_crfsuite import CRF\n",
        "from sklearn_crfsuite import metrics\n",
        "\n",
        "def to_bio_labels(labels, label_type=\"SCOPE\"):\n",
        "    # Convert lists of binary labels (0/1) into BIO tagging format with custom suffixes\n",
        "    bio_labels = []\n",
        "\n",
        "    # Map original suffixes to new ones\n",
        "    if \"neg\" in label_type.lower():\n",
        "        prefix = \"NSCO\"   # Instead of NEG_SCOPE\n",
        "    elif \"unc\" in label_type.lower():\n",
        "        prefix = \"UNSCO\"  # Instead of UNC_SCOPE\n",
        "    else:\n",
        "        prefix = label_type.upper()  # fallback\n",
        "\n",
        "    for sent in labels:\n",
        "        bio = []\n",
        "        prev = 0\n",
        "        for i, tag in enumerate(sent):\n",
        "            if tag == 1:\n",
        "                if i == 0 or prev == 0:\n",
        "                    bio.append(f'B-{prefix}')\n",
        "                else:\n",
        "                    bio.append(f'I-{prefix}')\n",
        "            else:\n",
        "                bio.append('O')\n",
        "            prev = tag\n",
        "        bio_labels.append(bio)\n",
        "    return bio_labels\n",
        "\n",
        "def df_to_crf_format(df, task, neg_cues=neg_cues, unc_cues=unc_cues):\n",
        "    \"\"\"\n",
        "    Convert a DataFrame into a list of feature dictionaries per sentence for CRF input.\n",
        "    Includes original features + contextual features + lexicon-based features.\n",
        "\n",
        "    Parameters:\n",
        "        df (pd.DataFrame): must contain columns like 'word', 'pos', 'prefix', 'suffix', etc.\n",
        "\n",
        "    Returns:\n",
        "        List of list of feature dicts (one per token, grouped by sentence)\n",
        "    \"\"\"\n",
        "    sentences = []\n",
        "    grouped = df.groupby(\"sentence_id\")\n",
        "\n",
        "    for _, group in grouped:\n",
        "        sentence = []\n",
        "        group = group.reset_index(drop=True)  # Reset index so we can use idx in loop\n",
        "\n",
        "        for idx, row in group.iterrows():\n",
        "            word_lower = row['word'].lower()\n",
        "\n",
        "            features = {\n",
        "                'word.lower()': word_lower,\n",
        "                'word.isupper()': row['word'].isupper(),\n",
        "                'word.istitle()': row['word'].istitle(),\n",
        "                'pos': row['pos'],\n",
        "                'pos_prefix': row['pos'][:2] if isinstance(row['pos'], str) else 'NA',\n",
        "                'prefix': row['prefix'],\n",
        "                'suffix': row['suffix'],\n",
        "                'is_punct': row['is_punct'],\n",
        "                'in_single_word_cues': row['in_single_word_cues'],\n",
        "                'in_affixal_cues': row['in_affixal_cues'],\n",
        "                'ends_with_ment': row['ends_with_ment'],\n",
        "                'has_neg_prefix': word_lower.startswith(('un', 'in', 'non', 'dis')),\n",
        "                'has_neg_suffix': word_lower.endswith(('less', \"n't\")),\n",
        "                'is_modal': word_lower in unc_cues if task == \"UNC\" else word_lower in neg_cues\n",
        "            }\n",
        "\n",
        "            # dependency features\n",
        "            if 'dep' in row and 'head_word' in row and 'head_pos' in row:\n",
        "                features.update({\n",
        "                    'dep_label': row['dep'],\n",
        "                    'head_word': str(row['head_word']).lower(),\n",
        "                    'head_pos': row['head_pos']\n",
        "                })\n",
        "\n",
        "            # Contextual features: previous and next token\n",
        "            if idx > 0:\n",
        "                prev_row = group.iloc[idx - 1]\n",
        "                features.update({\n",
        "                    '-1:word.lower()': prev_row['word'].lower(),\n",
        "                    '-1:pos': prev_row['pos']\n",
        "                })\n",
        "            else:\n",
        "                features['BOS'] = True  # Beginning of sentence\n",
        "\n",
        "            if idx < len(group) - 1:\n",
        "                next_row = group.iloc[idx + 1]\n",
        "                features.update({\n",
        "                    '+1:word.lower()': next_row['word'].lower(),\n",
        "                    '+1:pos': next_row['pos']\n",
        "                })\n",
        "            else:\n",
        "                features['EOS'] = True  # End of sentence\n",
        "\n",
        "            sentence.append(features)\n",
        "        sentences.append(sentence)\n",
        "\n",
        "    return sentences\n",
        "\n",
        "\n",
        "def df_to_labels(df, label_col):\n",
        "    # Extracts label sequences from the DataFrame, grouped by sentence\n",
        "    label_sequences = []\n",
        "    grouped = df.groupby(\"sentence_id\")\n",
        "    for _, group in grouped:\n",
        "        label_list = group[label_col].tolist()\n",
        "        label_sequences.append(label_list)\n",
        "    return label_sequences\n"
      ]
    },
    {
      "cell_type": "code",
      "execution_count": 10,
      "metadata": {
        "id": "fFb51QI-mTIf"
      },
      "outputs": [],
      "source": [
        "# Train + evaluate CRF model\n",
        "def train_and_evaluate_crf(df_train, df_test, label_col):\n",
        "    # Trains and evaluates a CRF model for BIO tagging using specified label column (e.g., 'neg_scope_label')\n",
        "    scope_type = \"NEG\" if \"neg\" in label_col.lower() else \"UNC\"\n",
        "\n",
        "    X_train = df_to_crf_format(df_train, scope_type)\n",
        "    y_train_raw = df_to_labels(df_train, label_col)\n",
        "    y_train = to_bio_labels(y_train_raw, label_type=scope_type)\n",
        "\n",
        "    X_test = df_to_crf_format(df_test, scope_type)\n",
        "    y_test_raw = df_to_labels(df_test, label_col)\n",
        "    y_test = to_bio_labels(y_test_raw, label_type=scope_type)\n",
        "\n",
        "    crf = CRF(algorithm='lbfgs',\n",
        "              c1=0.1, c2=0.1,\n",
        "              max_iterations=100, all_possible_transitions=True)\n",
        "\n",
        "    crf.fit(X_train, y_train)\n",
        "    y_pred = crf.predict(X_test)\n",
        "\n",
        "    print(f\"CRF Evaluation for: {label_col.upper()}\")\n",
        "    print(metrics.flat_classification_report(y_test, y_pred, digits=4))\n",
        "\n",
        "    return X_test, y_test, y_pred  # Return these variables for further use\n"
      ]
    },
    {
      "cell_type": "markdown",
      "metadata": {
        "id": "JLLrPzr-mTIf"
      },
      "source": [
        "### CRF for negation scope detection"
      ]
    },
    {
      "cell_type": "code",
      "execution_count": 11,
      "metadata": {
        "id": "Ul-AoHZKmTIg",
        "outputId": "45ea368b-40be-453d-86eb-f0101c48f973",
        "colab": {
          "base_uri": "https://localhost:8080/"
        }
      },
      "outputs": [
        {
          "output_type": "stream",
          "name": "stdout",
          "text": [
            "CRF Evaluation for: NEG_SCOPE_LABEL\n",
            "              precision    recall  f1-score   support\n",
            "\n",
            "      B-NSCO     0.9633    0.9066    0.9341      1071\n",
            "      I-NSCO     0.8965    0.7831    0.8360      2522\n",
            "           O     0.9897    0.9958    0.9927     61938\n",
            "\n",
            "    accuracy                         0.9862     65531\n",
            "   macro avg     0.9498    0.8952    0.9209     65531\n",
            "weighted avg     0.9857    0.9862    0.9857     65531\n",
            "\n"
          ]
        }
      ],
      "source": [
        "# CRF BIO tagging evaluation for NEGATION scopes\n",
        "X_test_NEG, y_test_NEG, y_pred_NEG = train_and_evaluate_crf(df_crf_neg_train, df_crf_neg_test, \"neg_scope_label\")"
      ]
    },
    {
      "cell_type": "markdown",
      "metadata": {
        "id": "JRtQTSCsmTIg"
      },
      "source": [
        "### CRF for uncertainty scope detection"
      ]
    },
    {
      "cell_type": "code",
      "execution_count": 12,
      "metadata": {
        "id": "sEKbvZRXmTIg",
        "outputId": "12a58b39-9f23-4e14-d3cd-8a456b70d3ca",
        "colab": {
          "base_uri": "https://localhost:8080/"
        }
      },
      "outputs": [
        {
          "output_type": "stream",
          "name": "stdout",
          "text": [
            "CRF Evaluation for: UNC_SCOPE_LABEL\n",
            "              precision    recall  f1-score   support\n",
            "\n",
            "     B-UNSCO     0.7963    0.3333    0.4699       129\n",
            "     I-UNSCO     0.6590    0.3936    0.4928       437\n",
            "           O     0.9947    0.9985    0.9966     64965\n",
            "\n",
            "    accuracy                         0.9932     65531\n",
            "   macro avg     0.8167    0.5751    0.6531     65531\n",
            "weighted avg     0.9921    0.9932    0.9922     65531\n",
            "\n"
          ]
        }
      ],
      "source": [
        "# CRF BIO tagging evaluation for UNCERTAINTY scopes\n",
        "X_test_UNC, y_test_UNC, y_pred_UNC = train_and_evaluate_crf(df_crf_unc_train, df_crf_unc_test, \"unc_scope_label\")"
      ]
    },
    {
      "cell_type": "code",
      "execution_count": 13,
      "metadata": {
        "id": "u_xhBmd1mTIg",
        "outputId": "f7fa7a01-79cf-4b7f-f839-993deec43c79",
        "colab": {
          "base_uri": "https://localhost:8080/"
        }
      },
      "outputs": [
        {
          "output_type": "stream",
          "name": "stdout",
          "text": [
            "Overall Evaluation (NEG + UNC scopes):\n",
            "              precision    recall  f1-score   support\n",
            "\n",
            "      B-NSCO     0.0069    0.0065    0.0067      1071\n",
            "     B-UNSCO     0.0000    0.0000    0.0000       129\n",
            "      I-NSCO     0.0159    0.0139    0.0148      2522\n",
            "     I-UNSCO     0.0000    0.0000    0.0000       437\n",
            "\n",
            "   micro avg     0.0119    0.0101    0.0109      4159\n",
            "   macro avg     0.0057    0.0051    0.0054      4159\n",
            "weighted avg     0.0114    0.0101    0.0107      4159\n",
            "\n"
          ]
        }
      ],
      "source": [
        "# TABLE WITH ALL COMBINED EXCLUDING THE OUTOFSCOPE:\n",
        "# Combine the BIO label sequences\n",
        "y_test_all = y_test_NEG + y_test_UNC\n",
        "y_pred_all = y_pred_NEG + y_pred_UNC\n",
        "\n",
        "# Get all labels except 'O'\n",
        "all_labels = set(label for seq in y_test_all for label in seq if label != 'O')\n",
        "all_labels = sorted(all_labels)\n",
        "\n",
        "# Print overall evaluation\n",
        "print(\"Overall Evaluation (NEG + UNC scopes):\")\n",
        "print(metrics.flat_classification_report(\n",
        "    y_test_all, y_pred_all, labels=all_labels, digits=4))"
      ]
    },
    {
      "cell_type": "code",
      "execution_count": 14,
      "metadata": {
        "id": "WXHLnxP_mTIh",
        "outputId": "5c37c76e-6e0e-468b-f4f6-fa41ff71f0e8",
        "colab": {
          "base_uri": "https://localhost:8080/"
        }
      },
      "outputs": [
        {
          "output_type": "stream",
          "name": "stdout",
          "text": [
            "B-NSCO: 0.0065\n",
            "B-UNSCO: 0.0000\n",
            "I-NSCO: 0.0139\n",
            "I-UNSCO: 0.0000\n"
          ]
        }
      ],
      "source": [
        "# Flatten lists\n",
        "true_labels = [label for seq in y_test_all for label in seq]\n",
        "pred_labels = [label for seq in y_pred_all for label in seq]\n",
        "\n",
        "# Unique labels to check\n",
        "labels = sorted(set(label for label in true_labels if label != 'O'))\n",
        "\n",
        "# Calculate per-label accuracy\n",
        "label_accuracies = {}\n",
        "for label in labels:\n",
        "    total = sum(1 for t in true_labels if t == label)\n",
        "    correct = sum(1 for t, p in zip(true_labels, pred_labels) if t == label and p == label)\n",
        "    label_accuracies[label] = correct / total if total > 0 else 0.0\n",
        "\n",
        "# Print nicely\n",
        "for label, acc in label_accuracies.items():\n",
        "    print(f\"{label}: {acc:.4f}\")"
      ]
    },
    {
      "cell_type": "markdown",
      "metadata": {
        "id": "reOrkpa0mTIh"
      },
      "source": [
        "## Printing CRF Predictions vs. True labels\n",
        "We display sample sentences with predicted and true BIO tags shown as `[true_tag|pred_tag]` next to each word, only if at least one tag isn't `'O'`. This highlights where the model correctly identifies scopes or makes mistakes, helping us quickly assess its performance on meaningful cases."
      ]
    },
    {
      "cell_type": "code",
      "execution_count": 15,
      "metadata": {
        "id": "TKheWYx9mTIh"
      },
      "outputs": [],
      "source": [
        "def print_crf_predictions(df, y_true, y_pred, sentence_idx=0):\n",
        "    \"\"\"\n",
        "    Print the whole sentence in one line, adding true and predicted BIO tags in brackets next to tokens\n",
        "    only if the tags are not 'O'.\n",
        "    Format per token: word[true_tag|pred_tag] if either tag != 'O', else just word.\n",
        "    \"\"\"\n",
        "    grouped = df.groupby(\"sentence_id\")\n",
        "    sentence_ids = list(grouped.groups.keys())\n",
        "\n",
        "    if sentence_idx >= len(sentence_ids):\n",
        "        print(f\"Invalid sentence index {sentence_idx}. Max allowed: {len(sentence_ids) - 1}\")\n",
        "        return\n",
        "\n",
        "    sentence_id = sentence_ids[sentence_idx]\n",
        "    sentence_df = grouped.get_group(sentence_id).reset_index(drop=True)\n",
        "\n",
        "    output_tokens = []\n",
        "    for i, row in sentence_df.iterrows():\n",
        "        word = row['word']\n",
        "        true_label = y_true[sentence_idx][i]\n",
        "        pred_label = y_pred[sentence_idx][i]\n",
        "\n",
        "        # Show tags only if either true or pred label is not 'O'\n",
        "        if true_label != 'O' or pred_label != 'O':\n",
        "            display_word = f\"{word} [{true_label}|{pred_label}]\"\n",
        "        else:\n",
        "            display_word = word\n",
        "\n",
        "        output_tokens.append(display_word)\n",
        "\n",
        "    print(f\"\\n--- Sentence ID {sentence_id} ---\")\n",
        "    print(\" \".join(output_tokens))"
      ]
    },
    {
      "cell_type": "code",
      "execution_count": 16,
      "metadata": {
        "id": "rTW71BsYmTIi",
        "outputId": "030e10f2-1ba5-4f60-d965-41e3b4c402f8",
        "colab": {
          "base_uri": "https://localhost:8080/"
        }
      },
      "outputs": [
        {
          "output_type": "stream",
          "name": "stdout",
          "text": [
            "\n",
            "--- Sentence ID 1 ---\n",
            "nº historia clinica : * * * * * * * * nºepisodi : * * * * * * * * sexe : dona data de naixement : 12.05.1977 edat : 42 anys procedencia aguts servei obstetricia data d'ingres 27.09.2019 data d'alta 01.10.2019 13:00:00 ates per * * * * * * * * * * * * * * * * * , * * * * * * * * * * * * * * ; * * * * * * * * * * * * * * * * * , * * * * * informe d'alta d'hospitalitzacio motiu d'ingres induccion al parto por pequeño para la edad gestacional ( peg ) antecedents no alergias [B-NSCO|B-NSCO] medicamentosas [I-NSCO|I-NSCO] conocidas antcededentes medico-quirurgicos : protesis mamaria , adenoidectomia niega habitos [B-NSCO|B-NSCO] toxicos [I-NSCO|I-NSCO] medicacio habitual anafranil25 mg/ diario .\n",
            "\n",
            "--- Sentence ID 10 ---\n",
            "vih [B-NSCO|B-NSCO] negativo .\n",
            "\n",
            "--- Sentence ID 11 ---\n",
            "serologias : rubeola no inmune [B-NSCO|B-NSCO] , toxoplasma no immune [B-NSCO|B-NSCO] , lues [B-NSCO|B-NSCO] vih [I-NSCO|I-NSCO] , [I-NSCO|I-NSCO] vhb [I-NSCO|I-NSCO] y [I-NSCO|I-NSCO] vhc [I-NSCO|I-NSCO] negativos .\n",
            "\n",
            "--- Sentence ID 12 ---\n",
            "- triple screening : 1/14045 down i 1/60540 edwards - riesgo de pe : bajo riesgo - o'sullivan : 216mg / dl - sgb [O|B-NSCO] negativo - eco 1º t : crl:60 tn:1.7 - 2º t : morfologia normal .\n",
            "\n",
            "--- Sentence ID 27 ---\n",
            "procedimiento sin incidencias [B-NSCO|B-NSCO] .\n",
            "\n",
            "--- Sentence ID 49 ---\n",
            "antecedents alergias no refiere [B-NSCO|B-NSCO] alergias [I-NSCO|I-NSCO] medicamentosas [I-NSCO|I-NSCO] conocidas [I-NSCO|I-NSCO] .\n",
            "\n",
            "--- Sentence ID 50 ---\n",
            "antecedenes personales niega habitos [B-NSCO|B-NSCO] toxicos [I-NSCO|I-NSCO] .\n",
            "\n",
            "--- Sentence ID 55 ---\n",
            "* * serologies : hbsag [B-NSCO|O] negatiu , hbsac positiu , hbcac [B-NSCO|O] negatiu , vhc [B-NSCO|B-NSCO] negativa -antecedentes its : * * uretritis gonococica en mayo 2017 , realizo tratamientio .\n",
            "\n",
            "--- Sentence ID 61 ---\n",
            "ultimos dos años sin episodios [B-NSCO|B-NSCO] .\n",
            "\n",
            "--- Sentence ID 62 ---\n",
            "antecedentes quirurgicos : no refiere [B-NSCO|B-NSCO] .\n"
          ]
        }
      ],
      "source": [
        "shown = 0\n",
        "max_to_show = 10\n",
        "\n",
        "for i in range(len(y_test_NEG)):\n",
        "    if any(tag != 'O' for tag in y_test_NEG[i]) or any(tag != 'O' for tag in y_pred_NEG[i]):\n",
        "        print_crf_predictions(df_crf_neg_test, y_test_NEG, y_pred_NEG, sentence_idx=i)\n",
        "        shown += 1\n",
        "        if shown >= max_to_show:\n",
        "            break"
      ]
    },
    {
      "cell_type": "code",
      "execution_count": 17,
      "metadata": {
        "id": "MeFZ_qOUmTIi",
        "outputId": "96ad2e21-298d-4f70-b588-91e89db2187b",
        "colab": {
          "base_uri": "https://localhost:8080/"
        }
      },
      "outputs": [
        {
          "output_type": "stream",
          "name": "stdout",
          "text": [
            "\n",
            "--- Sentence ID 138 ---\n",
            "dado cuadro clinico y analitico que podria ser [B-UNSCO|O] compatible [I-UNSCO|O] con [I-UNSCO|O] sd [I-UNSCO|O] mononucleosido [I-UNSCO|O] se amplia estudio con determinacion de pcr de parvovirus b19 , toxoplasma y vhh-6 , con resultados pendientes .\n",
            "\n",
            "--- Sentence ID 140 ---\n",
            "orientacio diagnostica b34.9 infeccio virica no especificada neutropenia autolimitada fiebre de origen desconocido , posible viriasis [B-UNSCO|B-UNSCO] . [O|I-UNSCO]\n",
            "\n",
            "--- Sentence ID 156 ---\n",
            "antecedentes patologicos - elevacion de transaminasas posiblemente secundario [B-UNSCO|O] a [I-UNSCO|O] consumo [I-UNSCO|O] enolico [I-UNSCO|O] . [I-UNSCO|O]\n",
            "\n",
            "--- Sentence ID 188 ---\n",
            "hipoestesia simetrica en mmii hasta abdomen ( sin claro nivel [B-UNSCO|O] ) [I-UNSCO|O] .\n",
            "\n",
            "--- Sentence ID 193 ---\n",
            "atrofia hipotenar y posible atrofia [B-UNSCO|B-UNSCO] interoseos [I-UNSCO|I-UNSCO] ( paciente refiere que siempre ha permanecido asi ) .\n",
            "\n",
            "--- Sentence ID 228 ---\n",
            "por las caracteristicas encontradas , sugiere origen [B-UNSCO|O] inmunomediado [I-UNSCO|O] . [I-UNSCO|O]\n",
            "\n",
            "--- Sentence ID 257 ---\n",
            "se solicita analitica de ingreso que muestra patron de enolismo cronico ( macrocitosis y elevacion de ggt ) , un patron compatible con hipotiroidismo [B-UNSCO|O] subclinico [I-UNSCO|O] autoimune [I-UNSCO|O] ( por el que se realiza itc a endocrinologia que recomiendan control analitico en 6 meses ) ; con perfil autoimune ( ana , anca , sd antifosflipido ) negativo y serologias viricas negativas .\n",
            "\n",
            "--- Sentence ID 258 ---\n",
            "se solicita estudio neurofisiologico que muestra patron [O|B-UNSCO] de [O|I-UNSCO] polineuropatia [O|I-UNSCO] sensitiva [O|I-UNSCO] de [O|I-UNSCO] predominio [O|I-UNSCO] en [O|I-UNSCO] eess [O|I-UNSCO] con [O|I-UNSCO] componente [O|I-UNSCO] radicular [O|I-UNSCO] añadido [O|I-UNSCO] , [O|I-UNSCO] que por las caracteristicas encontradas , sugiere origen [B-UNSCO|O] inmunomediado [I-UNSCO|O] ; [I-UNSCO|O] sin poderse definir un patron axonal o desmielinizante .\n",
            "\n",
            "--- Sentence ID 260 ---\n",
            "asi pues , ante dichos hallazgos se orienta como [B-UNSCO|B-UNSCO] cuadro [I-UNSCO|I-UNSCO] de [I-UNSCO|I-UNSCO] polirradiculoneuropatia [I-UNSCO|I-UNSCO] inflamatoria [I-UNSCO|I-UNSCO] aguda [I-UNSCO|I-UNSCO] y se decide administrar immungolobulinas endovenosas 5 dias , pese a que la emg no era concluyente ; presentando posteriormente la paciente mejoria progresiva de la clinica .\n",
            "\n",
            "--- Sentence ID 265 ---\n",
            "si bien es cierto que la paciente mejoro tras el inicio de inmunoglobulinas , tambien es cierto que es mas que probable que [B-UNSCO|O] su [I-UNSCO|O] enolismo [I-UNSCO|O] cronico [I-UNSCO|O] e [I-UNSCO|O] hipovitaminosis [I-UNSCO|O] hayan [I-UNSCO|O] tenido [I-UNSCO|O] un [I-UNSCO|O] papel [I-UNSCO|O] en [I-UNSCO|O] la [I-UNSCO|O] clinica [I-UNSCO|O] de [I-UNSCO|O] la [I-UNSCO|O] paciente [I-UNSCO|O] . [I-UNSCO|O]\n"
          ]
        }
      ],
      "source": [
        "shown = 0\n",
        "max_to_show = 10\n",
        "\n",
        "for i in range(len(y_test_UNC)):\n",
        "    if any(tag != 'O' for tag in y_test_UNC[i]) or any(tag != 'O' for tag in y_pred_UNC[i]):\n",
        "        print_crf_predictions(df_crf_neg_test, y_test_UNC, y_pred_UNC, sentence_idx=i)\n",
        "        shown += 1\n",
        "        if shown >= max_to_show:\n",
        "            break"
      ]
    },
    {
      "cell_type": "markdown",
      "metadata": {
        "id": "8NWSBz8fmTIi"
      },
      "source": [
        "### Overall Results: SVM + CRF"
      ]
    },
    {
      "cell_type": "code",
      "execution_count": 19,
      "metadata": {
        "id": "S3XkQAQXmTIi",
        "outputId": "d2fb223a-0150-45b8-8519-a1e5e9a80d94",
        "colab": {
          "base_uri": "https://localhost:8080/"
        }
      },
      "outputs": [
        {
          "output_type": "stream",
          "name": "stdout",
          "text": [
            "\n",
            "Filtered Overall Evaluation (Cue + Scope Detection):\n",
            "Metric     Accuracy   Precision  Recall     F1 Score  \n",
            "Overall    0.9391    0.9948    0.9391    0.9636\n"
          ]
        }
      ],
      "source": [
        "from sklearn.metrics import precision_score, recall_score, f1_score, accuracy_score\n",
        "\n",
        "def flatten(seq_list):\n",
        "    return [label for seq in seq_list for label in seq]\n",
        "\n",
        "# Cue detection: true and predicted labels\n",
        "cue_true = df_svm_neg_test[\"neg_cue_label\"].tolist() + df_svm_unc_test[\"unc_cue_label\"].tolist()\n",
        "\n",
        "X_test_neg = vectorizer_neg.transform(\n",
        "    df_svm_neg_test.drop(columns=[\"sentence_id\", \"token_id\", \"neg_cue_label\"]).to_dict(orient=\"records\")\n",
        ")\n",
        "X_test_unc = vectorizer_unc.transform(\n",
        "    df_svm_unc_test.drop(columns=[\"sentence_id\", \"token_id\", \"unc_cue_label\"]).to_dict(orient=\"records\")\n",
        ")\n",
        "cue_pred = list(neg_svm_model.predict(X_test_neg)) + list(unc_svm_model.predict(X_test_unc))\n",
        "\n",
        "# Scope detection: true and predicted\n",
        "scope_true = flatten(y_test_NEG) + flatten(y_test_UNC)\n",
        "scope_pred = flatten(y_pred_NEG) + flatten(y_pred_UNC)\n",
        "\n",
        "# Filter out neutral classes\n",
        "cue_true_filtered = [true for true, pred in zip(cue_true, cue_pred) if true != '0']\n",
        "cue_pred_filtered = [pred for true, pred in zip(cue_true, cue_pred) if true != '0']\n",
        "\n",
        "scope_true_filtered = [true for true, pred in zip(scope_true, scope_pred) if true != 'O']\n",
        "scope_pred_filtered = [pred for true, pred in zip(scope_true, scope_pred) if true != 'O']\n",
        "\n",
        "# Combine filtered\n",
        "y_true_all = cue_true_filtered + scope_true_filtered\n",
        "y_pred_all = cue_pred_filtered + scope_pred_filtered\n",
        "\n",
        "# Calculate metrics\n",
        "accuracy = accuracy_score(y_true_all, y_pred_all)\n",
        "precision = precision_score(y_true_all, y_pred_all, average=\"weighted\", zero_division=0)\n",
        "recall = recall_score(y_true_all, y_pred_all, average=\"weighted\", zero_division=0)\n",
        "f1 = f1_score(y_true_all, y_pred_all, average=\"weighted\", zero_division=0)\n",
        "\n",
        "# Output\n",
        "print(\"\\nFiltered Overall Evaluation (Cue + Scope Detection):\")\n",
        "print(f\"{'Metric':<10} {'Accuracy':<10} {'Precision':<10} {'Recall':<10} {'F1 Score':<10}\")\n",
        "print(f\"{'Overall':<10} {accuracy:.4f}    {precision:.4f}    {recall:.4f}    {f1:.4f}\")"
      ]
    },
    {
      "cell_type": "code",
      "execution_count": 20,
      "metadata": {
        "id": "4EI0BFJ4mTIi"
      },
      "outputs": [],
      "source": [
        "from sklearn.metrics import confusion_matrix\n",
        "import matplotlib.pyplot as plt\n",
        "import seaborn as sns\n",
        "\n",
        "def plot_task_confusion_matrices(\n",
        "    y_test_negsvm, y_pred_negsvm,\n",
        "    y_test_svmunc, y_pred_svmunc,\n",
        "    y_test_NEG, y_pred_NEG,\n",
        "    y_test_UNC, y_pred_UNC\n",
        "):\n",
        "    def binary_label_map(y, label_type):\n",
        "        return [f\"{label_type}\" if v == 1 else f\"NOT {label_type}\" for v in y]\n",
        "\n",
        "    def flatten(seqs):\n",
        "        return [label for seq in seqs for label in seq]\n",
        "\n",
        "    def plot_cm(ax, y_true, y_pred, labels, title):\n",
        "        cm = confusion_matrix(y_true, y_pred, labels=labels)\n",
        "        sns.heatmap(cm, annot=True, fmt='d', cmap='RdPu', xticklabels=labels, yticklabels=labels, ax=ax)\n",
        "        ax.set_title(title)\n",
        "        ax.set_xlabel(\"Predicted\")\n",
        "        ax.set_ylabel(\"True\")\n",
        "        ax.tick_params(axis='x', rotation=45)\n",
        "        ax.tick_params(axis='y', rotation=0)\n",
        "\n",
        "    # Convert 0/1 to string labels\n",
        "    y_test_neg_named = binary_label_map(y_test_negsvm, \"NEG\")\n",
        "    y_pred_neg_named = binary_label_map(y_pred_negsvm, \"NEG\")\n",
        "    y_test_unc_named = binary_label_map(y_test_svmunc, \"UNC\")\n",
        "    y_pred_unc_named = binary_label_map(y_pred_svmunc, \"UNC\")\n",
        "\n",
        "    # Flatten scope labels\n",
        "    y_test_neg_scope = flatten(y_test_NEG)\n",
        "    y_pred_neg_scope = flatten(y_pred_NEG)\n",
        "    y_test_unc_scope = flatten(y_test_UNC)\n",
        "    y_pred_unc_scope = flatten(y_pred_UNC)\n",
        "\n",
        "    # Label sets\n",
        "    neg_cue_labels = [\"NOT NEG\", \"NEG\"]\n",
        "    unc_cue_labels = [\"NOT UNC\", \"UNC\"]\n",
        "    neg_scope_labels = sorted(set(y_test_neg_scope + y_pred_neg_scope))\n",
        "    unc_scope_labels = sorted(set(y_test_unc_scope + y_pred_unc_scope))\n",
        "\n",
        "    # Plotting\n",
        "    fig, axs = plt.subplots(2, 2, figsize=(14, 10))\n",
        "    plot_cm(axs[0, 0], y_test_neg_named, y_pred_neg_named, neg_cue_labels, \"Confusion Matrix for NEG\")\n",
        "    plot_cm(axs[0, 1], y_test_unc_named, y_pred_unc_named, unc_cue_labels, \"Confusion Matrix for UNC\")\n",
        "    plot_cm(axs[1, 0], y_test_neg_scope, y_pred_neg_scope, neg_scope_labels, \"Confusion Matrix for NSCO\")\n",
        "    plot_cm(axs[1, 1], y_test_unc_scope, y_pred_unc_scope, unc_scope_labels, \"Confusion Matrix for USCO\")\n",
        "\n",
        "    plt.tight_layout()\n",
        "    plt.show()\n"
      ]
    },
    {
      "cell_type": "code",
      "execution_count": 21,
      "metadata": {
        "id": "sNC1vzRomTIj",
        "outputId": "840453c2-e279-4654-ffcf-4b75b000e66b",
        "colab": {
          "base_uri": "https://localhost:8080/",
          "height": 1000
        }
      },
      "outputs": [
        {
          "output_type": "display_data",
          "data": {
            "text/plain": [
              "<Figure size 1400x1000 with 8 Axes>"
            ],
            "image/png": "[encoded data removed]"
          },
          "metadata": {}
        }
      ],
      "source": [
        "plot_task_confusion_matrices(\n",
        "    y_test_negsvm, y_pred_negsvm,\n",
        "    y_test_svmunc, y_pred_svmunc,\n",
        "    y_test_NEG, y_pred_NEG,\n",
        "    y_test_UNC, y_pred_UNC\n",
        ")\n"
      ]
    }
  ],
  "metadata": {
    "kernelspec": {
      "display_name": "Python 3",
      "language": "python",
      "name": "python3"
    },
    "language_info": {
      "codemirror_mode": {
        "name": "ipython",
        "version": 3
      },
      "file_extension": ".py",
      "mimetype": "text/x-python",
      "name": "python",
      "nbconvert_exporter": "python",
      "pygments_lexer": "ipython3",
      "version": "3.11.4"
    },
    "colab": {
      "provenance": []
    }
  },
  "nbformat": 4,
  "nbformat_minor": 0
}