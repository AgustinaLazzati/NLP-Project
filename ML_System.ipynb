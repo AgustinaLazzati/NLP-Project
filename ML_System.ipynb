{
 "cells": [
  {
   "cell_type": "markdown",
   "metadata": {},
   "source": [
    "### Fundamentals of Natural Language Processing\n",
    "# Negation and Uncertainty Detection using a Machine-Learning Based Approach\n",
    "\n",
    "*Authors:*\n",
    "\n",
    "> *Anna Blanco, Agustina Lazzati, Stanislav Bultaskii, Queralt Salvadó*\n",
    "\n",
    "*Aims:*\n",
    "> Our goal is to train various Machine Learning based models for each of the two sub-tasks (detection of negation and uncertainty signals, and detection of the negation and uncertainty scopes)."
   ]
  },
  {
   "cell_type": "markdown",
   "metadata": {},
   "source": [
    "---"
   ]
  },
  {
   "cell_type": "code",
   "execution_count": 22,
   "metadata": {},
   "outputs": [],
   "source": [
    "# Import necessary libraries and functions\n",
    "import json\n",
    "import pandas as pd\n",
    "from utils import preprocess_text"
   ]
  },
  {
   "cell_type": "markdown",
   "metadata": {},
   "source": [
    "## Data Preprocessing\n"
   ]
  },
  {
   "cell_type": "code",
   "execution_count": 23,
   "metadata": {},
   "outputs": [
    {
     "name": "stdout",
     "output_type": "stream",
     "text": [
      "nº historia clinica: nºepisodi: sexe: home data de naixement: 16.05.1936 edat: 82 anys procedencia cex mateix hosp servei urologia data d'ingres 24.07.2018 data d'alta 25.07.2018 08:54:04 ates per , ; , informe d'alta d'hospitalitzacio motiu d'ingres paciente que ingresa de forma programada para realizacion de uretrotomia interna . antecedents alergia a penicilina y cloramfenicol . no habitos toxicos. antecedentes medicos: bloqueo auriculoventricular de primer grado hipertension arterial. diverticulosis extensa insuficiencia renal cronica colelitiasis antecedentes quirurgicos: exeresis de lesiones cutaneas con anestesia local protesis total de cadera cordectomia herniorrafia inguinal proces actual varon de 81a que a raiz de episodio de hematuria macroscopica se realiza cistoscopia que es negativa para lesiones malignas pero se objetiva estenosis de uretra . se intentan dilataciones progresivas en el gabinete de urologia sin exito. se solicita estudio de imagen que confirma la existencia de estenosis a nivel d uretra bulbar por lo que se indica uretrtomia interna. exploracio complementaria uretrocistografia retrograda + cums (11/2017): la uretrografia retrograda muestra una uretra anterior con dos estenosis focales a nivel de uretra peneana y bulbar, aunque se observa paso de contraste retrogrado a vejiga. vejiga de correcta capacidad (250 cc de contraste), de paredes trabeculadas y con diverticulos, el mayor de ellos en cara posterolateral izquierda, sin observarse defectos de replecion. la uretrografia miccional muestra una uretra prostatica dilatada, sin claras estenosis focales confirmandose la existencia de las dos estenosis de uretra anterior descritas previamente. moderado residuo postmiccional en vejiga asi como en el interior del diverticulo posterolateral izquierdo descrito. uretroscopia (10/2017) falsa via a nivel de uretra peneana, siguiendo la uretra se detecta gran estenosis que no permite el paso de una guia. nhc ( ) age-v-uro 1/2 lopd evolucio clinica el 24 de julio de 2018 con el consentimiento informado del paciente y sin contraindicacion preoperatoria se realiza uretrotomia interna sin incidencias. tras el procedimiento el paciente es trasladado a la planta de hospitalizacion siendo portador de lavado vesical continuo. posteriormente se mantiene en buen estado general, afebril, hemodinamicamente estable y con buen control del dolor. aclarado progresivo de la orina con los lavados vesicales continuos, que permiten su retirada, conserva correcta diuresis. tolerancia correcta a dieta oral. dada la buena evolucion se decide alta domiciliaria siendo portador de sonda vesical. orientacio diagnostica n40.0 hiperplasia prostatica benigna sense simptomes en les vies urinaries inferiors procediments 04.81 injeccio en el nervi periferic d'anestesic per a analgesia 58.0 uretrotomia. excisio de septe uretral, uretrostomia perineal, extraccio de calcul uretral per incisio sonda vesical profilaxis antibiotica, antilucerosa y antitrombotica tractament i recomanacions a l'alta -abundante ingesta de liquidos entorno a dos litros y medio de agua al dia. -puede orinar con restos de sangre durante las proximas semanas. -es normal que sienta escozor al orinar y que tenga algun escape de orina y urgencia miccional al retirar la sonda vesical. mantener sonda vesical durante 14 dias (dos semanas). ciprofloxacino 500mg cada 12h durante dos semanas. -paracetamol 1 g cada 8 horas si molestias. -si fiebre mayor de 38ºc, empeoramiento claro del estado general o imposibilidad miccional por obstruccion de sonda vesical o despues de su retirada, consultar con el servicio de urgencias. -control en consultas externas de urologia segun cita en hoja adjunta. destinacio a l'alta: a domicili nhc ( ) age-v-uro 2/2 lopd\n",
      "[{'result': [{'value': {'start': 449, 'end': 452, 'labels': ['NEG']}, 'id': 'ent0', 'from_name': 'label', 'to_name': 'text', 'type': 'labels'}, {'value': {'start': 452, 'end': 468, 'labels': ['NSCO']}, 'id': 'ent1', 'from_name': 'label', 'to_name': 'text', 'type': 'labels'}, {'value': {'start': 844, 'end': 856, 'labels': ['NSCO']}, 'id': 'ent2', 'from_name': 'label', 'to_name': 'text', 'type': 'labels'}, {'value': {'start': 863, 'end': 872, 'labels': ['NEG']}, 'id': 'ent3', 'from_name': 'label', 'to_name': 'text', 'type': 'labels'}, {'value': {'start': 872, 'end': 895, 'labels': ['NSCO']}, 'id': 'ent4', 'from_name': 'label', 'to_name': 'text', 'type': 'labels'}, {'value': {'start': 998, 'end': 1002, 'labels': ['NEG']}, 'id': 'ent5', 'from_name': 'label', 'to_name': 'text', 'type': 'labels'}, {'value': {'start': 1002, 'end': 1008, 'labels': ['NSCO']}, 'id': 'ent6', 'from_name': 'label', 'to_name': 'text', 'type': 'labels'}, {'value': {'start': 1539, 'end': 1543, 'labels': ['NEG']}, 'id': 'ent7', 'from_name': 'label', 'to_name': 'text', 'type': 'labels'}, {'value': {'start': 1543, 'end': 1576, 'labels': ['NSCO']}, 'id': 'ent8', 'from_name': 'label', 'to_name': 'text', 'type': 'labels'}, {'value': {'start': 1643, 'end': 1654, 'labels': ['UNC']}, 'id': 'ent9', 'from_name': 'label', 'to_name': 'text', 'type': 'labels'}, {'value': {'start': 1654, 'end': 1762, 'labels': ['USCO']}, 'id': 'ent10', 'from_name': 'label', 'to_name': 'text', 'type': 'labels'}, {'value': {'start': 1902, 'end': 1908, 'labels': ['UNC']}, 'id': 'ent11', 'from_name': 'label', 'to_name': 'text', 'type': 'labels'}, {'value': {'start': 1908, 'end': 1938, 'labels': ['USCO']}, 'id': 'ent12', 'from_name': 'label', 'to_name': 'text', 'type': 'labels'}, {'value': {'start': 1989, 'end': 1992, 'labels': ['NEG']}, 'id': 'ent13', 'from_name': 'label', 'to_name': 'text', 'type': 'labels'}, {'value': {'start': 1992, 'end': 2020, 'labels': ['NSCO']}, 'id': 'ent14', 'from_name': 'label', 'to_name': 'text', 'type': 'labels'}, {'value': {'start': 2153, 'end': 2157, 'labels': ['NEG']}, 'id': 'ent15', 'from_name': 'label', 'to_name': 'text', 'type': 'labels'}, {'value': {'start': 2157, 'end': 2188, 'labels': ['NSCO']}, 'id': 'ent16', 'from_name': 'label', 'to_name': 'text', 'type': 'labels'}, {'value': {'start': 2219, 'end': 2223, 'labels': ['NEG']}, 'id': 'ent17', 'from_name': 'label', 'to_name': 'text', 'type': 'labels'}, {'value': {'start': 2223, 'end': 2235, 'labels': ['NSCO']}, 'id': 'ent18', 'from_name': 'label', 'to_name': 'text', 'type': 'labels'}, {'value': {'start': 2410, 'end': 2418, 'labels': ['NEG']}, 'id': 'ent19', 'from_name': 'label', 'to_name': 'text', 'type': 'labels'}]}]\n"
     ]
    }
   ],
   "source": [
    "import json\n",
    "import pandas as pd\n",
    "\n",
    "def load_data(path):\n",
    "    \"\"\"Load JSON data and return raw dict\"\"\"\n",
    "    with open(path) as f:\n",
    "        return json.load(f)\n",
    "\n",
    "def preprocess_data(data):\n",
    "    \"\"\"Extract texts and predictions from loaded data\"\"\"\n",
    "    texts = []\n",
    "    predictions = []\n",
    "\n",
    "    for i in range(len(data)):\n",
    "        sentence = preprocess_text(data['data'][i]['text'])\n",
    "        texts.append(sentence)\n",
    "        predictions.append(data['predictions'][i])\n",
    "\n",
    "    return texts, predictions\n",
    "\n",
    "# Load train and test data\n",
    "train_data = load_data('negacio_train_v2024.json')\n",
    "test_data = load_data('negacio_test_v2024.json')\n",
    "\n",
    "# Convert data into a DataFrame for simplicity\n",
    "train_df = pd.DataFrame(train_data)\n",
    "test_df = pd.DataFrame(test_data)\n",
    "\n",
    "# Preprocess it and obtain both the texts and the predictions\n",
    "train_texts, train_preds = preprocess_data(train_df)\n",
    "test_texts, test_preds = preprocess_data(test_df)\n",
    "\n",
    "# Visualize data\n",
    "print(train_texts[0])\n",
    "print(train_preds[0])"
   ]
  }
 ],
 "metadata": {
  "kernelspec": {
   "display_name": "base",
   "language": "python",
   "name": "python3"
  },
  "language_info": {
   "codemirror_mode": {
    "name": "ipython",
    "version": 3
   },
   "file_extension": ".py",
   "mimetype": "text/x-python",
   "name": "python",
   "nbconvert_exporter": "python",
   "pygments_lexer": "ipython3",
   "version": "3.11.4"
  }
 },
 "nbformat": 4,
 "nbformat_minor": 2
}
