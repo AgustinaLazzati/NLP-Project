{
  "cells": [
    {
      "cell_type": "markdown",
      "id": "a8770448",
      "metadata": {
        "id": "a8770448"
      },
      "source": [
        "### Fundamentals of Natural Language Processing\n",
        "# Negation and Uncertainty Detection using a Machine-Learning Based Approach\n",
        "\n",
        "*Authors:*\n",
        "\n",
        "> *Anna Blanco, Agustina Lazzati, Stanislav Bultaskii, Queralt Salvadó*\n",
        "\n",
        "*Aims:*\n",
        "> Rewrite for DL"
      ]
    },
    {
      "cell_type": "code",
      "source": [
        "# Import necessary libraries and functions\n",
        "import json\n",
        "import spacy\n",
        "from collections import defaultdict\n",
        "import re\n",
        "import pandas as pd\n",
        "from preprocessing import df_svm_neg_test, df_svm_neg_train, df_svm_neg_test, df_svm_unc_train, df_svm_unc_test, df_crf_neg_train, df_crf_neg_test, df_crf_unc_train, df_crf_unc_test\n",
        "from sklearn_crfsuite import metrics"
      ],
      "metadata": {
        "id": "OD99InlolDaK",
        "outputId": "3f882839-b0c6-4235-adc0-1121adfa874e",
        "colab": {
          "base_uri": "https://localhost:8080/",
          "height": 393
        }
      },
      "id": "OD99InlolDaK",
      "execution_count": 1,
      "outputs": [
        {
          "output_type": "error",
          "ename": "ModuleNotFoundError",
          "evalue": "No module named 'preprocessing'",
          "traceback": [
            "\u001b[0;31m---------------------------------------------------------------------------\u001b[0m",
            "\u001b[0;31mModuleNotFoundError\u001b[0m                       Traceback (most recent call last)",
            "\u001b[0;32m<ipython-input-1-04521e49d4b2>\u001b[0m in \u001b[0;36m<cell line: 0>\u001b[0;34m()\u001b[0m\n\u001b[1;32m      5\u001b[0m \u001b[0;32mimport\u001b[0m \u001b[0mre\u001b[0m\u001b[0;34m\u001b[0m\u001b[0;34m\u001b[0m\u001b[0m\n\u001b[1;32m      6\u001b[0m \u001b[0;32mimport\u001b[0m \u001b[0mpandas\u001b[0m \u001b[0;32mas\u001b[0m \u001b[0mpd\u001b[0m\u001b[0;34m\u001b[0m\u001b[0;34m\u001b[0m\u001b[0m\n\u001b[0;32m----> 7\u001b[0;31m \u001b[0;32mfrom\u001b[0m \u001b[0mpreprocessing\u001b[0m \u001b[0;32mimport\u001b[0m \u001b[0mdf_svm_neg_test\u001b[0m\u001b[0;34m,\u001b[0m \u001b[0mdf_svm_neg_train\u001b[0m\u001b[0;34m,\u001b[0m \u001b[0mdf_svm_neg_test\u001b[0m\u001b[0;34m,\u001b[0m \u001b[0mdf_svm_unc_train\u001b[0m\u001b[0;34m,\u001b[0m \u001b[0mdf_svm_unc_test\u001b[0m\u001b[0;34m,\u001b[0m \u001b[0mdf_crf_neg_train\u001b[0m\u001b[0;34m,\u001b[0m \u001b[0mdf_crf_neg_test\u001b[0m\u001b[0;34m,\u001b[0m \u001b[0mdf_crf_unc_train\u001b[0m\u001b[0;34m,\u001b[0m \u001b[0mdf_crf_unc_test\u001b[0m\u001b[0;34m\u001b[0m\u001b[0;34m\u001b[0m\u001b[0m\n\u001b[0m\u001b[1;32m      8\u001b[0m \u001b[0;32mfrom\u001b[0m \u001b[0msklearn_crfsuite\u001b[0m \u001b[0;32mimport\u001b[0m \u001b[0mmetrics\u001b[0m\u001b[0;34m\u001b[0m\u001b[0;34m\u001b[0m\u001b[0m\n",
            "\u001b[0;31mModuleNotFoundError\u001b[0m: No module named 'preprocessing'",
            "",
            "\u001b[0;31m---------------------------------------------------------------------------\u001b[0;32m\nNOTE: If your import is failing due to a missing package, you can\nmanually install dependencies using either !pip or !apt.\n\nTo view examples of installing some common dependencies, click the\n\"Open Examples\" button below.\n\u001b[0;31m---------------------------------------------------------------------------\u001b[0m\n"
          ],
          "errorDetails": {
            "actions": [
              {
                "action": "open_url",
                "actionText": "Open Examples",
                "url": "/notebooks/snippets/importing_libraries.ipynb"
              }
            ]
          }
        }
      ]
    },
    {
      "cell_type": "code",
      "source": [
        "# We can reuse the previous dataset used for ML approach\n",
        "df_neg_train = df_cf_neg_train.copy()\n",
        "df_neg_test = df_crf_neg_test.copy()\n",
        "df_unc_train = df_crf_unc_train.copy()\n",
        "df_unc_test = df_crf_unc_test.copy()"
      ],
      "metadata": {
        "id": "xBpOZrpIm3f6"
      },
      "id": "xBpOZrpIm3f6",
      "execution_count": null,
      "outputs": []
    },
    {
      "cell_type": "code",
      "source": [
        "neg_cues = set()\n",
        "unc_cues = set()\n",
        "\n",
        "for _, row in df_svm_neg_train.iterrows():\n",
        "    if row['neg_cue_label'] == 1:\n",
        "        neg_cues.add(row['word'].lower())\n",
        "\n",
        "for _, row in df_svm_unc_train.iterrows():\n",
        "    if row['unc_cue_label'] == 1:\n",
        "        unc_cues.add(row['word'].lower())"
      ],
      "metadata": {
        "id": "cw9KUUbblI1w"
      },
      "id": "cw9KUUbblI1w",
      "execution_count": null,
      "outputs": []
    },
    {
      "cell_type": "code",
      "source": [
        "def to_bio_labels(labels, label_type=\"SCOPE\"):\n",
        "    # Convert lists of binary labels (0/1) into BIO tagging format with custom suffixes\n",
        "    bio_labels = []\n",
        "\n",
        "    # Map original suffixes to new ones\n",
        "    if \"neg\" in label_type.lower():\n",
        "        prefix = \"NSCO\"   # Instead of NEG_SCOPE\n",
        "    elif \"unc\" in label_type.lower():\n",
        "        prefix = \"UNSCO\"  # Instead of UNC_SCOPE\n",
        "    else:\n",
        "        prefix = label_type.upper()  # fallback\n",
        "\n",
        "    for sent in labels:\n",
        "        bio = []\n",
        "        prev = 0\n",
        "        for i, tag in enumerate(sent):\n",
        "            if tag == 1:\n",
        "                if i == 0 or prev == 0:\n",
        "                    bio.append(f'B-{prefix}')\n",
        "                else:\n",
        "                    bio.append(f'I-{prefix}')\n",
        "            else:\n",
        "                bio.append('O')\n",
        "            prev = tag\n",
        "        bio_labels.append(bio)\n",
        "    return bio_labels\n",
        "\n",
        "def prepare_data(df_train, df_test, label_col):\n",
        "    scope_type = \"NEG\" if \"neg\" in label_col.lower() else \"UNC\"\n",
        "\n",
        "    X_train = df_to_crf_format(df_train, scope_type)\n",
        "    y_train_raw = df_to_labels(df_train, label_col)\n",
        "    y_train = to_bio_labels(y_train_raw, label_type=scope_type)\n",
        "\n",
        "    X_test = df_to_crf_format(df_test, scope_type)\n",
        "    y_test_raw = df_to_labels(df_test, label_col)\n",
        "    y_test = to_bio_labels(y_test_raw, label_type=scope_type)\n",
        "\n",
        "    return X_train, y_train, X_test, y_test"
      ],
      "metadata": {
        "id": "My-GfSONmIGK"
      },
      "id": "My-GfSONmIGK",
      "execution_count": null,
      "outputs": []
    },
    {
      "cell_type": "code",
      "source": [
        "X_train, y_train, X_text, y_test = prepare_data(df_neg_train, df_neg_test, \"neg_scope_label\")\n",
        "print(x_train)"
      ],
      "metadata": {
        "id": "ycNT0h9Zmqh4"
      },
      "id": "ycNT0h9Zmqh4",
      "execution_count": null,
      "outputs": []
    }
  ],
  "metadata": {
    "language_info": {
      "name": "python"
    },
    "colab": {
      "provenance": []
    },
    "kernelspec": {
      "name": "python3",
      "display_name": "Python 3"
    }
  },
  "nbformat": 4,
  "nbformat_minor": 5
}