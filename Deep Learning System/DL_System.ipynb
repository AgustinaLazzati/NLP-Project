{
  "cells": [
    {
      "cell_type": "markdown",
      "id": "a8770448",
      "metadata": {
        "id": "a8770448"
      },
      "source": [
        "### Fundamentals of Natural Language Processing\n",
        "# Negation and Uncertainty Detection using a Machine-Learning Based Approach\n",
        "\n",
        "*Authors:*\n",
        "\n",
        "> *Anna Blanco, Agustina Lazzati, Stanislav Bultaskii, Queralt Salvadó*\n",
        "\n",
        "*Aims:*\n",
        "> Rewrite for DL"
      ]
    },
    {
      "cell_type": "code",
      "execution_count": 3,
      "id": "OD99InlolDaK",
      "metadata": {
        "id": "OD99InlolDaK"
      },
      "outputs": [],
      "source": [
        "# Import necessary libraries and functions\n",
        "import json\n",
        "import spacy\n",
        "from collections import defaultdict\n",
        "import re\n",
        "import pandas as pd\n",
        "import numpy as np\n",
        "import pickle"
      ]
    },
    {
      "cell_type": "code",
      "source": [
        "with open(\"lstm_data.pkl\", \"rb\") as f:\n",
        "    data_dict = pickle.load(f)\n",
        "\n",
        "lstm_train_data_neg_cue = data_dict[\"lstm_train_data_neg_cue\"]\n",
        "lstm_train_data_neg_scope = data_dict[\"lstm_train_data_neg_scope\"]\n",
        "lstm_train_data_unc_cue = data_dict[\"lstm_train_data_unc_cue\"]\n",
        "lstm_train_data_unc_scope = data_dict[\"lstm_train_data_unc_scope\"]\n",
        "\n",
        "lstm_test_data_neg_cue = data_dict[\"lstm_test_data_neg_cue\"]\n",
        "lstm_test_data_neg_scope = data_dict[\"lstm_test_data_neg_scope\"]\n",
        "lstm_test_data_unc_cue = data_dict[\"lstm_test_data_unc_cue\"]\n",
        "lstm_test_data_unc_scope = data_dict[\"lstm_test_data_unc_scope\"]\n",
        "\n",
        "print(lstm_train_data_neg_cue[2])"
      ],
      "metadata": {
        "id": "YpRP1CIuFwHz",
        "outputId": "b9b782c8-6a09-4f71-c0a2-ff0fcff3d0c2",
        "colab": {
          "base_uri": "https://localhost:8080/"
        }
      },
      "id": "YpRP1CIuFwHz",
      "execution_count": 6,
      "outputs": [
        {
          "output_type": "stream",
          "name": "stdout",
          "text": [
            "(['antecedents', 'alergia', 'a', 'penicilina', 'y', 'cloramfenicol', '.'], [0, 0, 0, 0, 0, 0, 0])\n"
          ]
        }
      ]
    }
  ],
  "metadata": {
    "colab": {
      "provenance": [],
      "gpuType": "T4"
    },
    "kernelspec": {
      "display_name": "Python 3",
      "name": "python3"
    },
    "language_info": {
      "name": "python"
    },
    "accelerator": "GPU"
  },
  "nbformat": 4,
  "nbformat_minor": 5
}