{
  "cells": [
    {
      "cell_type": "markdown",
      "id": "a8770448",
      "metadata": {
        "id": "a8770448"
      },
      "source": [
        "### Fundamentals of Natural Language Processing\n",
        "# Negation and Uncertainty Detection using a Machine-Learning Based Approach\n",
        "\n",
        "*Authors:*\n",
        "\n",
        "> *Anna Blanco, Agustina Lazzati, Stanislav Bultaskii, Queralt Salvadó*\n",
        "\n",
        "*Aims:*\n",
        "> Rewrite for DL"
      ]
    },
    {
      "cell_type": "code",
      "execution_count": 5,
      "id": "OD99InlolDaK",
      "metadata": {
        "colab": {
          "base_uri": "https://localhost:8080/",
          "height": 393
        },
        "id": "OD99InlolDaK",
        "outputId": "3f882839-b0c6-4235-adc0-1121adfa874e"
      },
      "outputs": [
        {
          "ename": "ModuleNotFoundError",
          "evalue": "No module named 'preprocessing'",
          "output_type": "error",
          "traceback": [
            "\u001b[31m---------------------------------------------------------------------------\u001b[39m",
            "\u001b[31mModuleNotFoundError\u001b[39m                       Traceback (most recent call last)",
            "\u001b[36mCell\u001b[39m\u001b[36m \u001b[39m\u001b[32mIn[5]\u001b[39m\u001b[32m, line 7\u001b[39m\n\u001b[32m      5\u001b[39m \u001b[38;5;28;01mimport\u001b[39;00m\u001b[38;5;250m \u001b[39m\u001b[34;01mre\u001b[39;00m\n\u001b[32m      6\u001b[39m \u001b[38;5;28;01mimport\u001b[39;00m\u001b[38;5;250m \u001b[39m\u001b[34;01mpandas\u001b[39;00m\u001b[38;5;250m \u001b[39m\u001b[38;5;28;01mas\u001b[39;00m\u001b[38;5;250m \u001b[39m\u001b[34;01mpd\u001b[39;00m\n\u001b[32m----> \u001b[39m\u001b[32m7\u001b[39m \u001b[38;5;28;01mfrom\u001b[39;00m\u001b[38;5;250m \u001b[39m\u001b[34;01mpreprocessing\u001b[39;00m\u001b[38;5;250m \u001b[39m\u001b[38;5;28;01mimport\u001b[39;00m df_svm_neg_test, df_svm_neg_train, df_svm_neg_test, df_svm_unc_train, df_svm_unc_test, df_crf_neg_train, df_crf_neg_test, df_crf_unc_train, df_crf_unc_test\n\u001b[32m      8\u001b[39m \u001b[38;5;28;01mfrom\u001b[39;00m\u001b[38;5;250m \u001b[39m\u001b[34;01msklearn_crfsuite\u001b[39;00m\u001b[38;5;250m \u001b[39m\u001b[38;5;28;01mimport\u001b[39;00m metrics\n",
            "\u001b[31mModuleNotFoundError\u001b[39m: No module named 'preprocessing'"
          ]
        }
      ],
      "source": [
        "# Import necessary libraries and functions\n",
        "import json\n",
        "import spacy\n",
        "from collections import defaultdict\n",
        "import re\n",
        "import pandas as pd\n",
        "from preprocessing import df_svm_neg_test, df_svm_neg_train, df_svm_neg_test, df_svm_unc_train, df_svm_unc_test, df_crf_neg_train, df_crf_neg_test, df_crf_unc_train, df_crf_unc_test\n",
        "from sklearn_crfsuite import metrics"
      ]
    },
    {
      "cell_type": "code",
      "execution_count": null,
      "id": "xBpOZrpIm3f6",
      "metadata": {
        "id": "xBpOZrpIm3f6"
      },
      "outputs": [],
      "source": [
        "# We can reuse the previous dataset used for ML approach\n",
        "df_neg_train = df_cf_neg_train.copy()\n",
        "df_neg_test = df_crf_neg_test.copy()\n",
        "df_unc_train = df_crf_unc_train.copy()\n",
        "df_unc_test = df_crf_unc_test.copy()"
      ]
    },
    {
      "cell_type": "code",
      "execution_count": null,
      "id": "cw9KUUbblI1w",
      "metadata": {
        "id": "cw9KUUbblI1w"
      },
      "outputs": [],
      "source": [
        "neg_cues = set()\n",
        "unc_cues = set()\n",
        "\n",
        "for _, row in df_svm_neg_train.iterrows():\n",
        "    if row['neg_cue_label'] == 1:\n",
        "        neg_cues.add(row['word'].lower())\n",
        "\n",
        "for _, row in df_svm_unc_train.iterrows():\n",
        "    if row['unc_cue_label'] == 1:\n",
        "        unc_cues.add(row['word'].lower())"
      ]
    },
    {
      "cell_type": "code",
      "execution_count": null,
      "id": "My-GfSONmIGK",
      "metadata": {
        "id": "My-GfSONmIGK"
      },
      "outputs": [],
      "source": [
        "def to_bio_labels(labels, label_type=\"SCOPE\"):\n",
        "    # Convert lists of binary labels (0/1) into BIO tagging format with custom suffixes\n",
        "    bio_labels = []\n",
        "\n",
        "    # Map original suffixes to new ones\n",
        "    if \"neg\" in label_type.lower():\n",
        "        prefix = \"NSCO\"   # Instead of NEG_SCOPE\n",
        "    elif \"unc\" in label_type.lower():\n",
        "        prefix = \"UNSCO\"  # Instead of UNC_SCOPE\n",
        "    else:\n",
        "        prefix = label_type.upper()  # fallback\n",
        "\n",
        "    for sent in labels:\n",
        "        bio = []\n",
        "        prev = 0\n",
        "        for i, tag in enumerate(sent):\n",
        "            if tag == 1:\n",
        "                if i == 0 or prev == 0:\n",
        "                    bio.append(f'B-{prefix}')\n",
        "                else:\n",
        "                    bio.append(f'I-{prefix}')\n",
        "            else:\n",
        "                bio.append('O')\n",
        "            prev = tag\n",
        "        bio_labels.append(bio)\n",
        "    return bio_labels\n",
        "\n",
        "def prepare_data(df_train, df_test, label_col):\n",
        "    scope_type = \"NEG\" if \"neg\" in label_col.lower() else \"UNC\"\n",
        "\n",
        "    X_train = df_to_crf_format(df_train, scope_type)\n",
        "    y_train_raw = df_to_labels(df_train, label_col)\n",
        "    y_train = to_bio_labels(y_train_raw, label_type=scope_type)\n",
        "\n",
        "    X_test = df_to_crf_format(df_test, scope_type)\n",
        "    y_test_raw = df_to_labels(df_test, label_col)\n",
        "    y_test = to_bio_labels(y_test_raw, label_type=scope_type)\n",
        "\n",
        "    return X_train, y_train, X_test, y_test"
      ]
    },
    {
      "cell_type": "code",
      "execution_count": null,
      "id": "ycNT0h9Zmqh4",
      "metadata": {
        "id": "ycNT0h9Zmqh4"
      },
      "outputs": [],
      "source": [
        "X_train, y_train, X_text, y_test = prepare_data(df_neg_train, df_neg_test, \"neg_scope_label\")\n",
        "print(x_train)"
      ]
    }
  ],
  "metadata": {
    "colab": {
      "provenance": []
    },
    "kernelspec": {
      "display_name": "Python 3",
      "name": "python3"
    },
    "language_info": {
      "codemirror_mode": {
        "name": "ipython",
        "version": 3
      },
      "file_extension": ".py",
      "mimetype": "text/x-python",
      "name": "python",
      "nbconvert_exporter": "python",
      "pygments_lexer": "ipython3",
      "version": "3.11.12"
    }
  },
  "nbformat": 4,
  "nbformat_minor": 5
}
