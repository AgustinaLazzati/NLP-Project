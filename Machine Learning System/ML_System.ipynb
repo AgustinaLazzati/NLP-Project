{
 "cells": [
  {
   "cell_type": "markdown",
   "metadata": {},
   "source": [
    "### Fundamentals of Natural Language Processing\n",
    "# Negation and Uncertainty Detection using a Machine-Learning Based Approach\n",
    "\n",
    "*Authors:*\n",
    "\n",
    "> *Anna Blanco, Agustina Lazzati, Stanislav Bultaskii, Queralt Salvadó*\n",
    "\n",
    "*Aims:*\n",
    "> Our goal is to train various Machine Learning based models for each of the two sub-tasks (detection of negation and uncertainty signals, and detection of the negation and uncertainty scopes). In order to do so, we followed the implementation method described by *Enger, Velldal, and Øvrelid (2017)*, which employs a maximum-margin approach for negation detection. However, for our particular application, we also included uncertainty cues and scope detection."
   ]
  },
  {
   "cell_type": "markdown",
   "metadata": {},
   "source": [
    "*References:* \n",
    "<br>\n",
    "> Enger, M., Velldal, E., & Øvrelid, L. (2017). *An open-source tool for negation detection: A maximum-margin approach*. Proceedings of the Workshop on Computational Semantics Beyond Events and Roles (SemBEaR), 64–69."
   ]
  },
  {
   "cell_type": "markdown",
   "metadata": {},
   "source": [
    "---"
   ]
  },
  {
   "cell_type": "code",
   "execution_count": 68,
   "metadata": {},
   "outputs": [
    {
     "name": "stdout",
     "output_type": "stream",
     "text": [
      "['es_core_news_sm']\n"
     ]
    }
   ],
   "source": [
    "import spacy\n",
    "\n",
    "# Check installed models\n",
    "print(spacy.util.get_installed_models())\n"
   ]
  },
  {
   "cell_type": "code",
   "execution_count": 69,
   "metadata": {},
   "outputs": [],
   "source": [
    "#!python -m spacy download es_core_news_sm\n"
   ]
  },
  {
   "cell_type": "markdown",
   "metadata": {},
   "source": [
    "We first download all the preprocessing. "
   ]
  },
  {
   "cell_type": "code",
   "execution_count": 70,
   "metadata": {},
   "outputs": [],
   "source": [
    "# Import necessary libraries and functions\n",
    "import json\n",
    "import spacy\n",
    "from collections import defaultdict\n",
    "import re\n",
    "import pandas as pd\n",
    "from preprocessing import df_svm_neg_test, df_svm_neg_train, df_svm_neg_test, df_svm_unc_train, df_svm_unc_test, df_crf_neg_train, df_crf_neg_test, df_crf_unc_train, df_crf_unc_test"
   ]
  },
  {
   "cell_type": "markdown",
   "metadata": {},
   "source": [
    "## CUE DETECTION USING SVM\n",
    "In this section of the notebook, we focus on detecting **negation** and **uncertainty cues** in medical or clinical documents using a **Support Vector Machine (SVM)**. This involves identifying specific words or phrases that signal negation (e.g., *no*, *denies*) or uncertainty (e.g., *possible*, *likely*) within a sentence. The goal is to classify these cues accurately. This complements other components of the notebook such as preprocessing, feature extraction, and model evaluation."
   ]
  },
  {
   "cell_type": "markdown",
   "metadata": {},
   "source": [
    "First of all, we'll need to vectorize:"
   ]
  },
  {
   "cell_type": "code",
   "execution_count": 71,
   "metadata": {},
   "outputs": [],
   "source": [
    "import pandas as pd\n",
    "import seaborn as sns\n",
    "import matplotlib.pyplot as plt\n",
    "from sklearn.svm import LinearSVC\n",
    "from sklearn.metrics import classification_report, confusion_matrix\n",
    "from sklearn.pipeline import Pipeline\n",
    "from sklearn.feature_extraction import DictVectorizer\n",
    "\n",
    "def prepare_dataframe_for_svm(df, label_col):\n",
    "    \"\"\"\n",
    "    Converts a DataFrame into features and labels for training.\n",
    "    \"\"\"\n",
    "    drop_cols = [\"sentence_id\", \"token_id\", label_col]\n",
    "    feature_dicts = df.drop(columns=drop_cols).to_dict(orient=\"records\")\n",
    "    labels = df[label_col].tolist()\n",
    "\n",
    "    vectorizer = DictVectorizer(sparse=True)\n",
    "    X = vectorizer.fit_transform(feature_dicts)\n",
    "    y = labels\n",
    "\n",
    "    return X, y, vectorizer\n",
    "\n",
    "\n",
    "def train_and_evaluate_svm(df_train, df_test, label_col, model_name):\n",
    "    \"\"\"\n",
    "    Trains and evaluates an SVM model, returning key data for further use.\n",
    "    \"\"\"\n",
    "    # Prepare data\n",
    "    X_train, y_train, vec = prepare_dataframe_for_svm(df_train, label_col)\n",
    "    X_test = vec.transform(df_test.drop(columns=[\"sentence_id\", \"token_id\", label_col]).to_dict(orient=\"records\"))\n",
    "    y_test = df_test[label_col].tolist()\n",
    "\n",
    "    # Define and train the SVM model\n",
    "    svm_model = LinearSVC(class_weight=\"balanced\", max_iter=5000, random_state=42)\n",
    "    svm_model.fit(X_train, y_train)\n",
    "    y_pred = svm_model.predict(X_test)\n",
    "\n",
    "    # Report\n",
    "    print(f\"\\n--- Evaluation for {model_name} ---\")\n",
    "    print(classification_report(y_test, y_pred, digits=4))\n",
    "\n",
    "\n",
    "    return X_train, y_train, X_test, y_test, y_pred, svm_model, vec"
   ]
  },
  {
   "cell_type": "code",
   "execution_count": 72,
   "metadata": {},
   "outputs": [
    {
     "name": "stdout",
     "output_type": "stream",
     "text": [
      "  (0, 14)\t1.0\n",
      "  (0, 31)\t0.0\n",
      "  (0, 46)\t1.0\n",
      "  (0, 50)\t0.0\n",
      "  (0, 51)\t0.0\n",
      "  (0, 52)\t0.0\n",
      "  (0, 53)\t0.0\n",
      "  (0, 54)\t1.0\n",
      "  (0, 19220)\t1.0\n",
      "  (0, 19224)\t1.0\n",
      "  (0, 23909)\t1.0\n",
      "  (0, 28445)\t1.0\n",
      "  (1, 15)\t1.0\n",
      "  (1, 31)\t0.0\n",
      "  (1, 39)\t1.0\n",
      "  (1, 50)\t0.0\n",
      "  (1, 51)\t0.0\n",
      "  (1, 52)\t0.0\n",
      "  (1, 53)\t0.0\n",
      "  (1, 14754)\t1.0\n",
      "  (1, 19213)\t1.0\n",
      "  (1, 22854)\t1.0\n",
      "  (1, 27358)\t1.0\n",
      "  (1, 44032)\t1.0\n",
      "  (2, 0)\t1.0\n",
      "  :\t:\n",
      "  (251967, 43662)\t1.0\n",
      "  (251968, 26)\t1.0\n",
      "  (251968, 31)\t0.0\n",
      "  (251968, 39)\t1.0\n",
      "  (251968, 50)\t0.0\n",
      "  (251968, 51)\t0.0\n",
      "  (251968, 52)\t0.0\n",
      "  (251968, 53)\t0.0\n",
      "  (251968, 3098)\t1.0\n",
      "  (251968, 19214)\t1.0\n",
      "  (251968, 19879)\t1.0\n",
      "  (251968, 24766)\t1.0\n",
      "  (251968, 31561)\t1.0\n",
      "  (251969, 4)\t1.0\n",
      "  (251969, 31)\t0.0\n",
      "  (251969, 39)\t1.0\n",
      "  (251969, 50)\t0.0\n",
      "  (251969, 51)\t0.0\n",
      "  (251969, 52)\t0.0\n",
      "  (251969, 53)\t0.0\n",
      "  (251969, 13490)\t1.0\n",
      "  (251969, 19206)\t1.0\n",
      "  (251969, 22568)\t1.0\n",
      "  (251969, 27454)\t1.0\n",
      "  (251969, 42679)\t1.0\n"
     ]
    }
   ],
   "source": [
    "x, y ,vectorizer = prepare_dataframe_for_svm(df_svm_neg_train, label_col=\"neg_cue_label\")\n",
    "print(x)"
   ]
  },
  {
   "cell_type": "markdown",
   "metadata": {},
   "source": [
    "### SVM for negation cue detection\n",
    "we apply a **Support Vector Machine (SVM)** classifier to detect **negation cues**. These cues—such as *no*, *denies*, or *without*—indicate that a condition or finding is explicitly negated. We preprocess the data, extract relevant features, and train the SVM model to identify these negation indicators at the token level."
   ]
  },
  {
   "cell_type": "code",
   "execution_count": 73,
   "metadata": {},
   "outputs": [
    {
     "name": "stderr",
     "output_type": "stream",
     "text": [
      "c:\\Users\\Agusl\\anaconda3\\Lib\\site-packages\\sklearn\\svm\\_classes.py:32: FutureWarning: The default value of `dual` will change from `True` to `'auto'` in 1.5. Set the value of `dual` explicitly to suppress the warning.\n",
      "  warnings.warn(\n"
     ]
    },
    {
     "name": "stdout",
     "output_type": "stream",
     "text": [
      "\n",
      "--- Evaluation for svm_negation_cue ---\n",
      "              precision    recall  f1-score   support\n",
      "\n",
      "           0     0.9999    0.9984    0.9992     64399\n",
      "           1     0.9163    0.9956    0.9543      1132\n",
      "\n",
      "    accuracy                         0.9984     65531\n",
      "   macro avg     0.9581    0.9970    0.9767     65531\n",
      "weighted avg     0.9985    0.9984    0.9984     65531\n",
      "\n"
     ]
    },
    {
     "name": "stderr",
     "output_type": "stream",
     "text": [
      "c:\\Users\\Agusl\\anaconda3\\Lib\\site-packages\\sklearn\\svm\\_base.py:1242: ConvergenceWarning: Liblinear failed to converge, increase the number of iterations.\n",
      "  warnings.warn(\n"
     ]
    }
   ],
   "source": [
    "X_train_negsvm, y_train_negsvm, X_test_negsvm, y_test_negsvm, y_pred_negsvm, neg_svm_model, vectorizer_neg = train_and_evaluate_svm(\n",
    "    df_train=df_svm_neg_train,\n",
    "    df_test=df_svm_neg_test,\n",
    "    label_col=\"neg_cue_label\",\n",
    "    model_name=\"svm_negation_cue\"\n",
    ")"
   ]
  },
  {
   "cell_type": "markdown",
   "metadata": {},
   "source": [
    "### SVM for uncertainty cue detection\n",
    "Now, we apply a **Support Vector Machine (SVM)** classifier to detect **uncertainty cues**. Uncertainty cues, such as *possible*, *likely*, or *suggests*, signal that the presence of a condition or outcome is not definite. This complements the negation cue detection and enhances the overall cue detection framework."
   ]
  },
  {
   "cell_type": "code",
   "execution_count": 74,
   "metadata": {},
   "outputs": [
    {
     "name": "stderr",
     "output_type": "stream",
     "text": [
      "c:\\Users\\Agusl\\anaconda3\\Lib\\site-packages\\sklearn\\svm\\_classes.py:32: FutureWarning: The default value of `dual` will change from `True` to `'auto'` in 1.5. Set the value of `dual` explicitly to suppress the warning.\n",
      "  warnings.warn(\n",
      "c:\\Users\\Agusl\\anaconda3\\Lib\\site-packages\\sklearn\\svm\\_base.py:1242: ConvergenceWarning: Liblinear failed to converge, increase the number of iterations.\n",
      "  warnings.warn(\n"
     ]
    },
    {
     "name": "stdout",
     "output_type": "stream",
     "text": [
      "\n",
      "--- Evaluation for svm_uncertainty_cue ---\n",
      "              precision    recall  f1-score   support\n",
      "\n",
      "           0     0.9998    0.9331    0.9653     65332\n",
      "           1     0.0415    0.9497    0.0795       199\n",
      "\n",
      "    accuracy                         0.9332     65531\n",
      "   macro avg     0.5207    0.9414    0.5224     65531\n",
      "weighted avg     0.9969    0.9332    0.9626     65531\n",
      "\n"
     ]
    }
   ],
   "source": [
    "X_train_svmunc, y_train_svmunc, X_test_svmunc, y_test_svmunc, y_pred_svmunc, model_svmunc, vectorizer_unc = train_and_evaluate_svm(\n",
    "    df_train=df_svm_unc_train,\n",
    "    df_test=df_svm_unc_test,\n",
    "    label_col=\"unc_cue_label\",\n",
    "    model_name=\"svm_uncertainty_cue\"\n",
    ")"
   ]
  },
  {
   "cell_type": "markdown",
   "metadata": {},
   "source": [
    "Since we found that the dataset wasn’t balanced, we tried balancing the training data by undersampling the majority class. This helps prevent the model from being biased toward the dominant class and improves its ability to detect the minority class cues more effectively."
   ]
  },
  {
   "cell_type": "code",
   "execution_count": 75,
   "metadata": {},
   "outputs": [
    {
     "name": "stdout",
     "output_type": "stream",
     "text": [
      "0    2744\n",
      "1     686\n",
      "Name: unc_cue_label, dtype: int64\n",
      "0    796\n",
      "1    199\n",
      "Name: unc_cue_label, dtype: int64\n"
     ]
    }
   ],
   "source": [
    "def balance_training_data(df, label_col, neg_ratio=4, seed=42):\n",
    "    \"\"\"\n",
    "    Balance the training data by undersampling the negative class.\n",
    "\n",
    "    Parameters:\n",
    "    - df (pd.DataFrame): Input DataFrame containing the training data.\n",
    "    - label_col (str): The name of the column in df that contains the binary labels (0 for negative, 1 for positive).\n",
    "    - neg_ratio (int, default=4): The desired ratio of negative to positive samples in the balanced dataset.\n",
    "    - seed (int, default=42): Random seed for reproducibility during sampling.\n",
    "\n",
    "    Returns:\n",
    "    - pd.DataFrame: A new DataFrame balanced with all positive samples and a sampled subset of negative samples\n",
    "      according to the specified negative-to-positive ratio. The resulting DataFrame is shuffled.\n",
    "    \"\"\"\n",
    "\n",
    "    positives = df[df[label_col] == 1]\n",
    "    negatives = df[df[label_col] == 0].sample(n=len(positives) * neg_ratio, random_state=seed)\n",
    "    df_balanced = pd.concat([positives, negatives]).sample(frac=1, random_state=seed).reset_index(drop=True)\n",
    "    return df_balanced\n",
    "\n",
    "df_balanced_unc_train = balance_training_data(df_svm_unc_train, label_col=\"unc_cue_label\", neg_ratio=4)\n",
    "print(df_balanced_unc_train[\"unc_cue_label\"].value_counts())\n",
    "df_balanced_unc_test = balance_training_data(df_svm_unc_test, label_col=\"unc_cue_label\", neg_ratio=4)\n",
    "print(df_balanced_unc_test[\"unc_cue_label\"].value_counts())"
   ]
  },
  {
   "cell_type": "code",
   "execution_count": 76,
   "metadata": {},
   "outputs": [
    {
     "name": "stdout",
     "output_type": "stream",
     "text": [
      "\n",
      "--- Evaluation for svm_uncertainty_cue_balanced ---\n",
      "              precision    recall  f1-score   support\n",
      "\n",
      "           0     0.9922    0.9573    0.9744       796\n",
      "           1     0.8502    0.9698    0.9061       199\n",
      "\n",
      "    accuracy                         0.9598       995\n",
      "   macro avg     0.9212    0.9636    0.9403       995\n",
      "weighted avg     0.9638    0.9598    0.9608       995\n",
      "\n"
     ]
    },
    {
     "name": "stderr",
     "output_type": "stream",
     "text": [
      "c:\\Users\\Agusl\\anaconda3\\Lib\\site-packages\\sklearn\\svm\\_classes.py:32: FutureWarning: The default value of `dual` will change from `True` to `'auto'` in 1.5. Set the value of `dual` explicitly to suppress the warning.\n",
      "  warnings.warn(\n"
     ]
    }
   ],
   "source": [
    "X_train_svmunc, y_train_svmunc, X_test_svmunc, y_test_svmunc, y_pred_svmunc, model_svmunc, vectorizer = train_and_evaluate_svm(\n",
    "    df_train=df_balanced_unc_train,\n",
    "    df_test=df_balanced_unc_test,\n",
    "    label_col=\"unc_cue_label\",\n",
    "    model_name=\"svm_uncertainty_cue_balanced\"\n",
    ")"
   ]
  },
  {
   "cell_type": "code",
   "execution_count": 77,
   "metadata": {},
   "outputs": [],
   "source": [
    "def compute_per_label_accuracy(y_true, y_pred, label_mapping, title=\"Per-label Accuracy\"):\n",
    "    \"\"\"\n",
    "    Computes and prints accuracy for each label individually.\n",
    "\n",
    "    Parameters:\n",
    "    - y_true: list of true labels (numeric or string).\n",
    "    - y_pred: list of predicted labels (numeric or string).\n",
    "    - label_mapping: dict mapping numeric labels to human-readable strings.\n",
    "    - title: optional title for the printed output.\n",
    "\n",
    "    The function maps labels to readable names, filters out irrelevant labels (like 'O'),\n",
    "    calculates accuracy per label as the ratio of correctly predicted instances over total true instances,\n",
    "    and prints the accuracies in a formatted way.\n",
    "    \"\"\"\n",
    "    # Map numeric labels to readable ones (if needed)\n",
    "    y_true_named = [label_mapping.get(y, y) for y in y_true]\n",
    "    y_pred_named = [label_mapping.get(y, y) for y in y_pred]\n",
    "\n",
    "    # Get all relevant labels, excluding \"O\" if applicable\n",
    "    unique_labels = sorted(set(label for label in y_true_named if label != 'O'))\n",
    "\n",
    "    # Compute accuracy per label (correct predictions / total true instances)\n",
    "    per_label_accuracies = {}\n",
    "    for label in unique_labels:\n",
    "        total = sum(1 for y in y_true_named if y == label)\n",
    "        correct = sum(1 for yt, yp in zip(y_true_named, y_pred_named) if yt == label and yp == label)\n",
    "        per_label_accuracies[label] = correct / total if total > 0 else 0.0\n",
    "\n",
    "    # Print results\n",
    "    print(f\"\\n{title}:\")\n",
    "    for label, acc in per_label_accuracies.items():\n",
    "        print(f\"{label:<10}: {acc:.4f}\")\n"
   ]
  },
  {
   "cell_type": "code",
   "execution_count": 78,
   "metadata": {},
   "outputs": [
    {
     "name": "stdout",
     "output_type": "stream",
     "text": [
      "\n",
      "Per-label Accuracy for SVM Uncertainty Cue Detection:\n",
      "NOT UNC   : 0.9573\n",
      "UNC       : 0.9698\n",
      "\n",
      "Per-label Accuracy for SVM Negation Cue Detection:\n",
      "NEG       : 0.9956\n",
      "NOT NEG   : 0.9984\n"
     ]
    }
   ],
   "source": [
    "compute_per_label_accuracy(\n",
    "    y_true=y_test_svmunc,\n",
    "    y_pred=y_pred_svmunc,\n",
    "    label_mapping={1: \"UNC\", 0: \"NOT UNC\"},\n",
    "    title=\"Per-label Accuracy for SVM Uncertainty Cue Detection\"\n",
    ")\n",
    "\n",
    "compute_per_label_accuracy(\n",
    "    y_true=y_test_negsvm,\n",
    "    y_pred=y_pred_negsvm,\n",
    "    label_mapping={1: \"NEG\", 0: \"NOT NEG\"},\n",
    "    title=\"Per-label Accuracy for SVM Negation Cue Detection\"\n",
    ")\n"
   ]
  },
  {
   "cell_type": "markdown",
   "metadata": {},
   "source": [
    "## SCOPE DETECTION USING CRF"
   ]
  },
  {
   "cell_type": "code",
   "execution_count": 79,
   "metadata": {},
   "outputs": [],
   "source": [
    "# pip install sklearn-crfsuite"
   ]
  },
  {
   "cell_type": "markdown",
   "metadata": {},
   "source": [
    "We'll use CRF BIO tagging:"
   ]
  },
  {
   "cell_type": "markdown",
   "metadata": {},
   "source": [
    "**BIO tagging** is a way to label each word in a sentence to show if it is part of a scope (like negation or uncertainty). The labels are:\n",
    "\n",
    "* **B** for the **Beginning** of the scope\n",
    "* **I** for **Inside** the scope\n",
    "* **O** for **Outside** the scope\n",
    "\n",
    "We use BIO tagging to help machine learning models, like **CRFs (Conditional Random Fields)**, understand where a scope starts and ends. For example, if a sentence has a negation like “No tiene fiebre”, BIO tagging shows that “No” is the beginning (**B-SCOPE**) and “tiene fiebre” is inside the scope (**I-SCOPE**), while other words would be labeled **O** if they are not part of it.\n",
    "\n",
    "Using BIO makes it easier for the model to learn patterns and detect complete scopes correctly, not just single words. \n"
   ]
  },
  {
   "cell_type": "code",
   "execution_count": 80,
   "metadata": {},
   "outputs": [],
   "source": [
    "#   IM GETTING ALL THE NEGATION AND THE UNC CUES FROM TRAIN DATAFRAME, \n",
    "#   maybe it should be done with the svm but i dont how. \n",
    "neg_cues = set()\n",
    "unc_cues = set()\n",
    "for _, row in df_svm_neg_train.iterrows():\n",
    "    if row['neg_cue_label'] == 1:\n",
    "        neg_cues.add(row['word'].lower())\n",
    "\n",
    "for _, row in df_svm_unc_train.iterrows():\n",
    "    if row['unc_cue_label'] == 1:\n",
    "        unc_cues.add(row['word'].lower())\n"
   ]
  },
  {
   "cell_type": "code",
   "execution_count": 81,
   "metadata": {},
   "outputs": [],
   "source": [
    "from sklearn_crfsuite import CRF\n",
    "from sklearn_crfsuite import metrics\n",
    "\n",
    "def to_bio_labels(labels, label_type=\"SCOPE\"):\n",
    "    \"\"\"\n",
    "    Convert lists of binary labels (0/1) into BIO tagging format with custom suffixes.\n",
    "\n",
    "    Parameters:\n",
    "    - labels: list of lists, where each inner list contains binary labels (0 or 1) for a sentence.\n",
    "    - label_type: string indicating the type of label ('neg', 'unc', or others) to customize BIO suffix.\n",
    "\n",
    "    Returns:\n",
    "    - bio_labels: list of lists, where each inner list contains BIO-formatted tags.\n",
    "    \"\"\"\n",
    "    # Convert lists of binary labels (0/1) into BIO tagging format with custom suffixes\n",
    "    bio_labels = []\n",
    "    \n",
    "    # Map original suffixes to new ones\n",
    "    if \"neg\" in label_type.lower():\n",
    "        prefix = \"NSCO\"   # Instead of NEG_SCOPE\n",
    "    elif \"unc\" in label_type.lower():\n",
    "        prefix = \"UNSCO\"  # Instead of UNC_SCOPE\n",
    "    else:\n",
    "        prefix = label_type.upper()  # fallback\n",
    "\n",
    "    for sent in labels:\n",
    "        bio = []\n",
    "        prev = 0\n",
    "        for i, tag in enumerate(sent):\n",
    "            if tag == 1:\n",
    "                if i == 0 or prev == 0:\n",
    "                    bio.append(f'B-{prefix}')\n",
    "                else:\n",
    "                    bio.append(f'I-{prefix}')\n",
    "            else:\n",
    "                bio.append('O')\n",
    "            prev = tag\n",
    "        bio_labels.append(bio)\n",
    "    return bio_labels\n",
    "\n",
    "def df_to_crf_format(df, task, neg_cues=neg_cues, unc_cues=unc_cues):\n",
    "    \"\"\"\n",
    "    Convert a DataFrame into a list of feature dictionaries per sentence for CRF input.\n",
    "    Includes original features + contextual features + lexicon-based features.\n",
    "    \n",
    "    Parameters:\n",
    "        df (pd.DataFrame): must contain columns like 'word', 'pos', 'prefix', 'suffix', etc.\n",
    "\n",
    "    Returns:\n",
    "        List of list of feature dicts (one per token, grouped by sentence)\n",
    "    \"\"\"\n",
    "    sentences = []\n",
    "    grouped = df.groupby(\"sentence_id\")\n",
    "\n",
    "    for _, group in grouped:\n",
    "        sentence = []\n",
    "        group = group.reset_index(drop=True)  # Reset index so we can use idx in loop\n",
    "\n",
    "        for idx, row in group.iterrows():\n",
    "            word_lower = row['word'].lower()\n",
    "\n",
    "            features = {\n",
    "                'word.lower()': word_lower,\n",
    "                'word.isupper()': row['word'].isupper(),\n",
    "                'word.istitle()': row['word'].istitle(),\n",
    "                'pos': row['pos'],\n",
    "                'pos_prefix': row['pos'][:2] if isinstance(row['pos'], str) else 'NA',\n",
    "                'prefix': row['prefix'],\n",
    "                'suffix': row['suffix'],\n",
    "                'is_punct': row['is_punct'],\n",
    "                'in_single_word_cues': row['in_single_word_cues'],\n",
    "                'in_affixal_cues': row['in_affixal_cues'],\n",
    "                'ends_with_ment': row['ends_with_ment'],\n",
    "                'has_neg_prefix': word_lower.startswith(('un', 'in', 'non', 'dis')),\n",
    "                'has_neg_suffix': word_lower.endswith(('less', \"n't\")),\n",
    "                'is_modal': word_lower in unc_cues if task == \"UNC\" else word_lower in neg_cues\n",
    "            }\n",
    "    \n",
    "            # dependency features --> Put in table\n",
    "            if 'dep' in row and 'head_word' in row and 'head_pos' in row:\n",
    "                features.update({\n",
    "                    'dep_label': row['dep'],\n",
    "                    'head_word': str(row['head_word']).lower(),\n",
    "                    'head_pos': row['head_pos']\n",
    "                })\n",
    "\n",
    "            # Contextual features: previous and next token\n",
    "            if idx > 0:\n",
    "                prev_row = group.iloc[idx - 1]\n",
    "                features.update({\n",
    "                    '-1:word.lower()': prev_row['word'].lower(),\n",
    "                    '-1:pos': prev_row['pos']\n",
    "                })\n",
    "            else:\n",
    "                features['BOS'] = True  # Beginning of sentence\n",
    "\n",
    "            if idx < len(group) - 1:\n",
    "                next_row = group.iloc[idx + 1]\n",
    "                features.update({\n",
    "                    '+1:word.lower()': next_row['word'].lower(),\n",
    "                    '+1:pos': next_row['pos']\n",
    "                })\n",
    "            else:\n",
    "                features['EOS'] = True  # End of sentence\n",
    "\n",
    "            sentence.append(features)\n",
    "        sentences.append(sentence)\n",
    "\n",
    "    return sentences\n",
    "\n",
    "\n",
    "def df_to_labels(df, label_col):\n",
    "    \"\"\"\n",
    "    Extract sequences of labels from a DataFrame grouped by sentence.\n",
    "\n",
    "    Parameters:\n",
    "    - df: pandas DataFrame containing 'sentence_id' and the label column.\n",
    "    - label_col: string, the name of the column in df with the labels.\n",
    "\n",
    "    Returns:\n",
    "    - label_sequences: list of lists, where each inner list contains the labels for a sentence,\n",
    "      preserving the order of tokens within the sentence.\n",
    "    \"\"\"\n",
    "    # Extracts label sequences from the DataFrame, grouped by sentence\n",
    "    # Groups the label colum into per-sentence list.\n",
    "    label_sequences = []\n",
    "    grouped = df.groupby(\"sentence_id\")\n",
    "    for _, group in grouped:\n",
    "        label_list = group[label_col].tolist()\n",
    "        label_sequences.append(label_list)\n",
    "    return label_sequences\n"
   ]
  },
  {
   "cell_type": "markdown",
   "metadata": {},
   "source": [
    "#### Training and evaluating the CRF model\n",
    "In this section, we train a Conditional Random Field (CRF) model to perform sequence labeling on medical text, identifing negation and uncertainty scopes using BIO tagging."
   ]
  },
  {
   "cell_type": "code",
   "execution_count": 82,
   "metadata": {},
   "outputs": [],
   "source": [
    "# Train + evaluate CRF model\n",
    "def train_and_evaluate_crf(df_train, df_test, label_col):\n",
    "    \"\"\"\n",
    "    Train and evaluate a CRF model for sequence labeling (BIO tagging) on a specified label column.\n",
    "\n",
    "    Parameters:\n",
    "    - df_train: training DataFrame with tokens and labels\n",
    "    - df_test: test DataFrame with tokens and labels\n",
    "    - label_col: string, the name of the column containing the BIO labels to predict \n",
    "                 (e.g., 'neg_scope_label' or 'unc_scope_label')\n",
    "\n",
    "    Returns:\n",
    "    - X_test: list of feature dicts for the test set (used for further evaluation or predictions)\n",
    "    - y_test: list of BIO tag sequences (true labels) for the test set\n",
    "    - y_pred: list of BIO tag sequences predicted by the CRF model on the test set\n",
    "    \"\"\"\n",
    "    # Trains and evaluates a CRF model for BIO tagging using specified label column (e.g., 'neg_scope_label')\n",
    "    scope_type = \"NEG\" if \"neg\" in label_col.lower() else \"UNC\"\n",
    "\n",
    "    X_train = df_to_crf_format(df_train, scope_type)\n",
    "    y_train_raw = df_to_labels(df_train, label_col) # Labels for BIO tagging ¿Preprocessing?\n",
    "    y_train = to_bio_labels(y_train_raw, label_type=scope_type)\n",
    "\n",
    "    X_test = df_to_crf_format(df_test, scope_type)\n",
    "    y_test_raw = df_to_labels(df_test, label_col)\n",
    "    y_test = to_bio_labels(y_test_raw, label_type=scope_type)\n",
    "\n",
    "    crf = CRF(algorithm='lbfgs', \n",
    "              c1=0.1, c2=0.1,\n",
    "              max_iterations=100, all_possible_transitions=True)\n",
    "    \n",
    "    crf.fit(X_train, y_train)\n",
    "    y_pred = crf.predict(X_test)\n",
    "\n",
    "    print(f\"CRF Evaluation for: {label_col.upper()}\")\n",
    "    print(metrics.flat_classification_report(y_test, y_pred, digits=4))   \n",
    "    \n",
    "    return X_test, y_test, y_pred  # Return these variables for further use\n"
   ]
  },
  {
   "cell_type": "markdown",
   "metadata": {},
   "source": [
    "### CRF for negation scope detection"
   ]
  },
  {
   "cell_type": "code",
   "execution_count": 83,
   "metadata": {},
   "outputs": [
    {
     "name": "stdout",
     "output_type": "stream",
     "text": [
      "CRF Evaluation for: NEG_SCOPE_LABEL\n",
      "              precision    recall  f1-score   support\n",
      "\n",
      "      B-NSCO     0.9633    0.9066    0.9341      1071\n",
      "      I-NSCO     0.8965    0.7831    0.8360      2522\n",
      "           O     0.9897    0.9958    0.9927     61938\n",
      "\n",
      "    accuracy                         0.9862     65531\n",
      "   macro avg     0.9498    0.8952    0.9209     65531\n",
      "weighted avg     0.9857    0.9862    0.9857     65531\n",
      "\n"
     ]
    }
   ],
   "source": [
    "# CRF BIO tagging evaluation for NEGATION scopes\n",
    "X_test_NEG, y_test_NEG, y_pred_NEG = train_and_evaluate_crf(df_crf_neg_train, df_crf_neg_test, \"neg_scope_label\")"
   ]
  },
  {
   "cell_type": "markdown",
   "metadata": {},
   "source": [
    "### CRF for uncertainty scope detection"
   ]
  },
  {
   "cell_type": "code",
   "execution_count": 84,
   "metadata": {},
   "outputs": [
    {
     "name": "stdout",
     "output_type": "stream",
     "text": [
      "CRF Evaluation for: UNC_SCOPE_LABEL\n",
      "              precision    recall  f1-score   support\n",
      "\n",
      "     B-UNSCO     0.7963    0.3333    0.4699       129\n",
      "     I-UNSCO     0.6590    0.3936    0.4928       437\n",
      "           O     0.9947    0.9985    0.9966     64965\n",
      "\n",
      "    accuracy                         0.9932     65531\n",
      "   macro avg     0.8167    0.5751    0.6531     65531\n",
      "weighted avg     0.9921    0.9932    0.9922     65531\n",
      "\n"
     ]
    }
   ],
   "source": [
    "# CRF BIO tagging evaluation for UNCERTAINTY scopes\n",
    "X_test_UNC, y_test_UNC, y_pred_UNC = train_and_evaluate_crf(df_crf_unc_train, df_crf_unc_test, \"unc_scope_label\")"
   ]
  },
  {
   "cell_type": "code",
   "execution_count": 85,
   "metadata": {},
   "outputs": [
    {
     "name": "stdout",
     "output_type": "stream",
     "text": [
      "0    8372\n",
      "1    2093\n",
      "Name: unc_scope_label, dtype: int64\n",
      "0    2264\n",
      "1     566\n",
      "Name: unc_scope_label, dtype: int64\n",
      "CRF Evaluation for: UNC_SCOPE_LABEL\n",
      "              precision    recall  f1-score   support\n",
      "\n",
      "     B-UNSCO     0.5326    0.3267    0.4050       150\n",
      "     I-UNSCO     0.7950    0.7644    0.7794       416\n",
      "           O     0.9333    0.9638    0.9483      2264\n",
      "\n",
      "    accuracy                         0.9007      2830\n",
      "   macro avg     0.7536    0.6850    0.7109      2830\n",
      "weighted avg     0.8917    0.9007    0.8947      2830\n",
      "\n"
     ]
    }
   ],
   "source": [
    "df_balanced_unc_train = balance_training_data(df_crf_unc_train, label_col=\"unc_scope_label\", neg_ratio=4)\n",
    "print(df_balanced_unc_train[\"unc_scope_label\"].value_counts())\n",
    "df_balanced_unc_test = balance_training_data(df_crf_unc_test, label_col=\"unc_scope_label\", neg_ratio=4)\n",
    "print(df_balanced_unc_test[\"unc_scope_label\"].value_counts())\n",
    "X_test_UNC_balance, y_test_UNC_balance, y_pred_UNC_balance = train_and_evaluate_crf(df_balanced_unc_train, df_balanced_unc_test, \"unc_scope_label\")"
   ]
  },
  {
   "cell_type": "code",
   "execution_count": 86,
   "metadata": {},
   "outputs": [
    {
     "name": "stdout",
     "output_type": "stream",
     "text": [
      "Overall Evaluation (NEG + UNC scopes):\n",
      "              precision    recall  f1-score   support\n",
      "\n",
      "      B-NSCO     0.9633    0.9066    0.9341      1071\n",
      "     B-UNSCO     0.5326    0.3267    0.4050       150\n",
      "      I-NSCO     0.8965    0.7831    0.8360      2522\n",
      "     I-UNSCO     0.7950    0.7644    0.7794       416\n",
      "\n",
      "   micro avg     0.8947    0.7966    0.8428      4159\n",
      "   macro avg     0.7969    0.6952    0.7386      4159\n",
      "weighted avg     0.8904    0.7966    0.8400      4159\n",
      "\n"
     ]
    }
   ],
   "source": [
    "# TABLE WITH ALL COMBINED EXCLUDING THE OUTOFSCOPE: \n",
    "# Combine the BIO label sequences\n",
    "y_test_all = y_test_NEG + y_test_UNC_balance\n",
    "y_pred_all = y_pred_NEG + y_pred_UNC_balance\n",
    "\n",
    "# Get all labels except 'O'\n",
    "all_labels = set(label for seq in y_test_all for label in seq if label != 'O')\n",
    "all_labels = sorted(all_labels)\n",
    "\n",
    "# Print overall evaluation\n",
    "print(\"Overall Evaluation (NEG + UNC scopes):\")\n",
    "print(metrics.flat_classification_report(\n",
    "    y_test_all, y_pred_all, labels=all_labels, digits=4))"
   ]
  },
  {
   "cell_type": "code",
   "execution_count": 87,
   "metadata": {},
   "outputs": [
    {
     "name": "stdout",
     "output_type": "stream",
     "text": [
      "\n",
      "Per-label Accuracy for CRF Scope:\n",
      "B-NSCO    : 0.9066\n",
      "B-UNSCO   : 0.3267\n",
      "I-NSCO    : 0.7831\n",
      "I-UNSCO   : 0.7644\n"
     ]
    }
   ],
   "source": [
    "# Flatten the sequences\n",
    "true_labels = [label for seq in y_test_all for label in seq]\n",
    "pred_labels = [label for seq in y_pred_all for label in seq]\n",
    "\n",
    "# Call the function\n",
    "compute_per_label_accuracy(\n",
    "    y_true=true_labels,\n",
    "    y_pred=pred_labels,\n",
    "    label_mapping={},\n",
    "    title=\"Per-label Accuracy for CRF Scope\"\n",
    ")"
   ]
  },
  {
   "cell_type": "markdown",
   "metadata": {},
   "source": [
    "## Printing CRF Predictions vs. True labels\n",
    "We display sample sentences with predicted and true BIO tags shown as `[true_tag|pred_tag]` next to each word, only if at least one tag isn't `'O'`. This highlights where the model correctly identifies scopes or makes mistakes, helping us quickly assess its performance on meaningful cases."
   ]
  },
  {
   "cell_type": "code",
   "execution_count": 88,
   "metadata": {},
   "outputs": [],
   "source": [
    "def print_predictions(df, y_true, y_pred, sentence_idx=0):\n",
    "    \"\"\"\n",
    "    Print the whole sentence in one line, adding true and predicted BIO tags in brackets next to tokens\n",
    "    only if the tags are not 'O' (for BIO) or '0' (for SVM).\n",
    "    Format per token: word[true_tag|pred_tag] if either tag != 'O' or '0', else just word.\n",
    "    \"\"\"\n",
    "    grouped = df.groupby(\"sentence_id\")\n",
    "    sentence_ids = list(grouped.groups.keys())\n",
    "\n",
    "    if sentence_idx >= len(sentence_ids):\n",
    "        print(f\"Invalid sentence index {sentence_idx}. Max allowed: {len(sentence_ids) - 1}\")\n",
    "        return\n",
    "\n",
    "    sentence_id = sentence_ids[sentence_idx]\n",
    "    sentence_df = grouped.get_group(sentence_id).reset_index(drop=True)\n",
    "    \n",
    "    output_tokens = []\n",
    "    for i, row in sentence_df.iterrows():\n",
    "        word = row['word']\n",
    "        true_label = y_true[sentence_idx][i]\n",
    "        pred_label = y_pred[sentence_idx][i]\n",
    "\n",
    "        # Show tags only if either true or pred label is not neutral ('O' for BIO, '0' for SVM)\n",
    "        if (true_label != 'O' and true_label != 0 and true_label != '0') or (pred_label != 'O' and pred_label != 0 and pred_label != '0'):\n",
    "            display_word = f\"{word} [{true_label}|{pred_label}]\"\n",
    "        else:\n",
    "            display_word = word\n",
    "\n",
    "        output_tokens.append(display_word)\n",
    "\n",
    "    print(f\"\\n--- Sentence ID {sentence_id} ---\")\n",
    "    print(\" \".join(output_tokens))\n"
   ]
  },
  {
   "cell_type": "code",
   "execution_count": 89,
   "metadata": {},
   "outputs": [
    {
     "name": "stdout",
     "output_type": "stream",
     "text": [
      "NSCO EXAMPLES --------------\n",
      "\n",
      "\n",
      "--- Sentence ID 1 ---\n",
      "nº historia clinica : * * * * * * * * nºepisodi : * * * * * * * * sexe : dona data de naixement : 12.05.1977 edat : 42 anys procedencia aguts servei obstetricia data d'ingres 27.09.2019 data d'alta 01.10.2019 13:00:00 ates per * * * * * * * * * * * * * * * * * , * * * * * * * * * * * * * * ; * * * * * * * * * * * * * * * * * , * * * * * informe d'alta d'hospitalitzacio motiu d'ingres induccion al parto por pequeño para la edad gestacional ( peg ) antecedents no alergias [B-NSCO|B-NSCO] medicamentosas [I-NSCO|I-NSCO] conocidas antcededentes medico-quirurgicos : protesis mamaria , adenoidectomia niega habitos [B-NSCO|B-NSCO] toxicos [I-NSCO|I-NSCO] medicacio habitual anafranil25 mg/ diario .\n",
      "\n",
      "--- Sentence ID 10 ---\n",
      "vih [B-NSCO|B-NSCO] negativo .\n",
      "\n",
      "--- Sentence ID 11 ---\n",
      "serologias : rubeola no inmune [B-NSCO|B-NSCO] , toxoplasma no immune [B-NSCO|B-NSCO] , lues [B-NSCO|B-NSCO] vih [I-NSCO|I-NSCO] , [I-NSCO|I-NSCO] vhb [I-NSCO|I-NSCO] y [I-NSCO|I-NSCO] vhc [I-NSCO|I-NSCO] negativos .\n",
      "\n",
      "--- Sentence ID 12 ---\n",
      "- triple screening : 1/14045 down i 1/60540 edwards - riesgo de pe : bajo riesgo - o'sullivan : 216mg / dl - sgb [O|B-NSCO] negativo - eco 1º t : crl:60 tn:1.7 - 2º t : morfologia normal .\n",
      "\n",
      "--- Sentence ID 27 ---\n",
      "procedimiento sin incidencias [B-NSCO|B-NSCO] .\n",
      "\n",
      "--- Sentence ID 49 ---\n",
      "antecedents alergias no refiere [B-NSCO|B-NSCO] alergias [I-NSCO|I-NSCO] medicamentosas [I-NSCO|I-NSCO] conocidas [I-NSCO|I-NSCO] .\n",
      "\n",
      "--- Sentence ID 50 ---\n",
      "antecedenes personales niega habitos [B-NSCO|B-NSCO] toxicos [I-NSCO|I-NSCO] .\n",
      "\n",
      "--- Sentence ID 55 ---\n",
      "* * serologies : hbsag [B-NSCO|O] negatiu , hbsac positiu , hbcac [B-NSCO|O] negatiu , vhc [B-NSCO|B-NSCO] negativa -antecedentes its : * * uretritis gonococica en mayo 2017 , realizo tratamientio .\n",
      "\n",
      "--- Sentence ID 61 ---\n",
      "ultimos dos años sin episodios [B-NSCO|B-NSCO] .\n",
      "\n",
      "--- Sentence ID 62 ---\n",
      "antecedentes quirurgicos : no refiere [B-NSCO|B-NSCO] .\n"
     ]
    }
   ],
   "source": [
    "shown = 0\n",
    "max_to_show = 10\n",
    "\n",
    "print('NSCO EXAMPLES --------------\\n')\n",
    "for i in range(len(y_test_NEG)):\n",
    "    if any(tag != 'O' for tag in y_test_NEG[i]) or any(tag != 'O' for tag in y_pred_NEG[i]):\n",
    "        print_predictions(df_crf_neg_test, y_test_NEG, y_pred_NEG, sentence_idx=i)\n",
    "        shown += 1\n",
    "        if shown >= max_to_show:\n",
    "            break"
   ]
  },
  {
   "cell_type": "code",
   "execution_count": 90,
   "metadata": {},
   "outputs": [
    {
     "name": "stdout",
     "output_type": "stream",
     "text": [
      "UNSCO EXAMPLES --------------\n",
      "\n",
      "\n",
      "--- Sentence ID 138 ---\n",
      "dado cuadro clinico y analitico que podria ser [B-UNSCO|O] compatible [I-UNSCO|O] con [I-UNSCO|O] sd [I-UNSCO|O] mononucleosido [I-UNSCO|O] se amplia estudio con determinacion de pcr de parvovirus b19 , toxoplasma y vhh-6 , con resultados pendientes .\n",
      "\n",
      "--- Sentence ID 140 ---\n",
      "orientacio diagnostica b34.9 infeccio virica no especificada neutropenia autolimitada fiebre de origen desconocido , posible viriasis [B-UNSCO|B-UNSCO] . [O|I-UNSCO]\n",
      "\n",
      "--- Sentence ID 156 ---\n",
      "antecedentes patologicos - elevacion de transaminasas posiblemente secundario [B-UNSCO|O] a [I-UNSCO|O] consumo [I-UNSCO|O] enolico [I-UNSCO|O] . [I-UNSCO|O]\n",
      "\n",
      "--- Sentence ID 188 ---\n",
      "hipoestesia simetrica en mmii hasta abdomen ( sin claro nivel [B-UNSCO|O] ) [I-UNSCO|O] .\n",
      "\n",
      "--- Sentence ID 193 ---\n",
      "atrofia hipotenar y posible atrofia [B-UNSCO|B-UNSCO] interoseos [I-UNSCO|I-UNSCO] ( paciente refiere que siempre ha permanecido asi ) .\n",
      "\n",
      "--- Sentence ID 228 ---\n",
      "por las caracteristicas encontradas , sugiere origen [B-UNSCO|O] inmunomediado [I-UNSCO|O] . [I-UNSCO|O]\n",
      "\n",
      "--- Sentence ID 257 ---\n",
      "se solicita analitica de ingreso que muestra patron de enolismo cronico ( macrocitosis y elevacion de ggt ) , un patron compatible con hipotiroidismo [B-UNSCO|O] subclinico [I-UNSCO|O] autoimune [I-UNSCO|O] ( por el que se realiza itc a endocrinologia que recomiendan control analitico en 6 meses ) ; con perfil autoimune ( ana , anca , sd antifosflipido ) negativo y serologias viricas negativas .\n",
      "\n",
      "--- Sentence ID 258 ---\n",
      "se solicita estudio neurofisiologico que muestra patron [O|B-UNSCO] de [O|I-UNSCO] polineuropatia [O|I-UNSCO] sensitiva [O|I-UNSCO] de [O|I-UNSCO] predominio [O|I-UNSCO] en [O|I-UNSCO] eess [O|I-UNSCO] con [O|I-UNSCO] componente [O|I-UNSCO] radicular [O|I-UNSCO] añadido [O|I-UNSCO] , [O|I-UNSCO] que por las caracteristicas encontradas , sugiere origen [B-UNSCO|O] inmunomediado [I-UNSCO|O] ; [I-UNSCO|O] sin poderse definir un patron axonal o desmielinizante .\n",
      "\n",
      "--- Sentence ID 260 ---\n",
      "asi pues , ante dichos hallazgos se orienta como [B-UNSCO|B-UNSCO] cuadro [I-UNSCO|I-UNSCO] de [I-UNSCO|I-UNSCO] polirradiculoneuropatia [I-UNSCO|I-UNSCO] inflamatoria [I-UNSCO|I-UNSCO] aguda [I-UNSCO|I-UNSCO] y se decide administrar immungolobulinas endovenosas 5 dias , pese a que la emg no era concluyente ; presentando posteriormente la paciente mejoria progresiva de la clinica .\n",
      "\n",
      "--- Sentence ID 265 ---\n",
      "si bien es cierto que la paciente mejoro tras el inicio de inmunoglobulinas , tambien es cierto que es mas que probable que [B-UNSCO|O] su [I-UNSCO|O] enolismo [I-UNSCO|O] cronico [I-UNSCO|O] e [I-UNSCO|O] hipovitaminosis [I-UNSCO|O] hayan [I-UNSCO|O] tenido [I-UNSCO|O] un [I-UNSCO|O] papel [I-UNSCO|O] en [I-UNSCO|O] la [I-UNSCO|O] clinica [I-UNSCO|O] de [I-UNSCO|O] la [I-UNSCO|O] paciente [I-UNSCO|O] . [I-UNSCO|O]\n"
     ]
    }
   ],
   "source": [
    "shown = 0\n",
    "max_to_show = 10\n",
    "\n",
    "print('UNSCO EXAMPLES --------------\\n')\n",
    "for i in range(len(y_test_UNC)):\n",
    "    if any(tag != 'O' for tag in y_test_UNC[i]) or any(tag != 'O' for tag in y_pred_UNC[i]):\n",
    "        print_predictions(df_crf_unc_test, y_test_UNC, y_pred_UNC, sentence_idx=i)\n",
    "        shown += 1\n",
    "        if shown >= max_to_show:\n",
    "            break"
   ]
  },
  {
   "cell_type": "markdown",
   "metadata": {},
   "source": [
    "## Printing SVM Predictions vs. True labels\n",
    "Again, we display sample sentences with predicted and true SVM tags shown as `[true_tag|pred_tag]` next to each word. However, since the SVM had as labels 0|1 we had to mapped the labels to obtain a pretty print"
   ]
  },
  {
   "cell_type": "code",
   "execution_count": 91,
   "metadata": {},
   "outputs": [
    {
     "name": "stdout",
     "output_type": "stream",
     "text": [
      "UNCERTAINTY EXAMPLES --------------\n",
      "\n",
      "\n",
      "--- Sentence ID 1 ---\n",
      "nº historia clinica : * * * * [UNC|UNC] * * [O|UNC] * * nºepisodi : [UNC|UNC] * * * [UNC|UNC] * [UNC|UNC] * * * * sexe [UNC|UNC] : dona data [UNC|UNC] de naixement : [UNC|UNC] 12.05.1977 [UNC|UNC] edat : 42 anys procedencia aguts servei obstetricia data d'ingres [UNC|UNC] 27.09.2019 data d'alta 01.10.2019 13:00:00 [UNC|UNC] ates [UNC|UNC] per * [UNC|UNC] * * * * [O|UNC] * * * * * * [UNC|UNC] * * * * [O|UNC] * [UNC|UNC] * , [O|UNC] * * * * * * [UNC|UNC] * [O|UNC] * * * [UNC|UNC] * * [UNC|UNC] * * ; [UNC|UNC] * * * * * * * [O|UNC] * [UNC|UNC] * [UNC|UNC] * * * * * * * * , * * * [O|UNC] * * [UNC|UNC] informe d'alta d'hospitalitzacio motiu d'ingres induccion al parto por pequeño para la edad gestacional ( peg ) antecedents no alergias medicamentosas [UNC|UNC] conocidas antcededentes medico-quirurgicos [UNC|UNC] : protesis [UNC|O] mamaria [UNC|UNC] , [UNC|UNC] adenoidectomia niega habitos toxicos medicacio habitual anafranil25 mg/ diario .\n",
      "\n",
      "--- Sentence ID 4 ---\n",
      "ranitidina [UNC|UNC] 150 mg .\n",
      "\n",
      "--- Sentence ID 5 ---\n",
      "proces actual edad : 42 años tpal : 1001 ( [UNC|O] eutocico ) fur : [O|UNC] 21.12.2019 sg : 40 + 0 gsrh : [UNC|UNC] a+ gestacion controlada en alto riesgo obstetrico ( aro ) por [O|UNC] antecedente de [UNC|UNC] depresion [UNC|UNC] postparto + diabetes gestacional ( [O|UNC] dga1 [UNC|UNC] ) + pequeño para [UNC|UNC] la [UNC|UNC] edad [O|UNC] gestacional ( peg ) secundigesta de 40 semanas [O|UNC] que ingresa [UNC|UNC] para induccion por feto pequeño [O|UNC] para la edad gestacional ( peg [UNC|UNC] ) [UNC|UNC] .\n",
      "\n",
      "--- Sentence ID 6 ---\n",
      "resumen [UNC|UNC] gestacional - as 1 t : hb:12.1 [UNC|UNC] hto:34.2 - [UNC|UNC] as [UNC|UNC] 2 t [UNC|UNC] : hb 10.6 , hto 31.9% - as [UNC|UNC] 3 [UNC|UNC] t : hb 12.9 [O|UNC] hto 39,7% [UNC|UNC]\n",
      "\n",
      "--- Sentence ID 7 ---\n",
      "pq [UNC|UNC] 245 .\n",
      "\n",
      "--- Sentence ID 9 ---\n",
      "bioquimica [UNC|UNC] normal .\n",
      "\n",
      "--- Sentence ID 11 ---\n",
      "serologias : rubeola no [UNC|UNC] inmune , toxoplasma no [UNC|UNC] immune [UNC|UNC] , lues [UNC|UNC] vih , vhb y vhc negativos [O|UNC] .\n",
      "\n",
      "--- Sentence ID 12 ---\n",
      "- triple screening : [O|UNC] 1/14045 down i 1/60540 edwards - riesgo de pe [UNC|UNC] : [UNC|UNC] bajo riesgo - o'sullivan : 216mg / dl - sgb negativo - eco 1º t : crl:60 tn:1.7 - 2º [UNC|UNC] t [UNC|UNC] : morfologia normal .\n",
      "\n",
      "--- Sentence ID 14 ---\n",
      "lc - [UNC|UNC] eco 39 + 3sg : [UNC|UNC] cefalica , pfe 2816 g ( p9 ) [UNC|UNC] , [UNC|UNC] dopplers normales .\n",
      "\n",
      "--- Sentence ID 15 ---\n",
      "peg [UNC|UNC] .\n"
     ]
    }
   ],
   "source": [
    "def group_labels_by_sentence(df, labels):\n",
    "    \"\"\"\n",
    "     Groups a flat list of labels by sentence based on sentence_id from the DataFrame, since the SVM retrieves 0 and 1.\n",
    "    \"\"\"\n",
    "    grouped = df.groupby(\"sentence_id\")\n",
    "    grouped_labels = []\n",
    "    start = 0\n",
    "    for sentence_id, group in grouped:\n",
    "        length = len(group)\n",
    "        grouped_labels.append(labels[start:start+length])\n",
    "        start += length\n",
    "    return grouped_labels\n",
    "\n",
    "def map_labels(grouped_labels, tag):\n",
    "    \"\"\"\n",
    "    Map labels in grouped format:\n",
    "    - '1' or 1 → tag name (e.g., 'NEG', 'UNC')\n",
    "    - '0' or 0 → '0'\n",
    "    \"\"\"\n",
    "    return [[(tag if str(label) == '1' else 'O') for label in sentence] for sentence in grouped_labels]\n",
    "\n",
    "\n",
    "# Group your flat label lists by sentence\n",
    "y_test_svmunc_grouped = group_labels_by_sentence(df_svm_unc_test, y_test_svmunc)\n",
    "y_pred_svmunc_grouped = group_labels_by_sentence(df_svm_unc_test, y_pred_svmunc)\n",
    "\n",
    "y_test_svmunc_grouped_mapped = map_labels(y_test_svmunc_grouped, 'UNC')\n",
    "y_pred_svmunc_grouped_mapped = map_labels(y_pred_svmunc_grouped, 'UNC')\n",
    "\n",
    "shown = 0\n",
    "max_to_show = 10\n",
    "\n",
    "print('UNCERTAINTY EXAMPLES --------------\\n')\n",
    "for i in range(len(y_test_svmunc_grouped_mapped)):\n",
    "    # Check if any label is UNC (i.e., '1') in original numeric labels\n",
    "    if any(tag != '0' and tag != 0 for tag in y_test_svmunc_grouped[i]) or any(tag != '0' and tag != 0 for tag in y_pred_svmunc_grouped[i]):\n",
    "        print_predictions(df_svm_unc_test, y_test_svmunc_grouped_mapped, y_pred_svmunc_grouped_mapped, sentence_idx=i)\n",
    "        shown += 1\n",
    "        if shown >= max_to_show:\n",
    "            break"
   ]
  },
  {
   "cell_type": "code",
   "execution_count": 92,
   "metadata": {},
   "outputs": [
    {
     "name": "stdout",
     "output_type": "stream",
     "text": [
      "NEGATION EXAMPLES --------------\n",
      "\n",
      "\n",
      "--- Sentence ID 1 ---\n",
      "nº historia clinica : * * * * * * * * nºepisodi : * * * * * * * * sexe : dona data de naixement : 12.05.1977 edat : 42 anys procedencia aguts servei obstetricia data d'ingres 27.09.2019 data d'alta 01.10.2019 13:00:00 ates per * * * * * * * * * * * * * * * * * , * * * * * * * * * * * * * * ; * * * * * * * * * * * * * * * * * , * * * * * informe d'alta d'hospitalitzacio motiu d'ingres induccion al parto por pequeño para la edad gestacional ( peg ) antecedents no [NEG|NEG] alergias medicamentosas conocidas antcededentes medico-quirurgicos : protesis mamaria , adenoidectomia niega [NEG|NEG] habitos toxicos medicacio habitual anafranil25 mg/ diario .\n",
      "\n",
      "--- Sentence ID 10 ---\n",
      "vih negativo [NEG|NEG] .\n",
      "\n",
      "--- Sentence ID 11 ---\n",
      "serologias : rubeola no [NEG|NEG] inmune , toxoplasma no [NEG|NEG] immune , lues vih , vhb y vhc negativos [NEG|NEG] .\n",
      "\n",
      "--- Sentence ID 12 ---\n",
      "- triple screening : 1/14045 down i 1/60540 edwards - riesgo de pe : bajo riesgo - o'sullivan : 216mg / dl - sgb negativo [O|NEG] - eco 1º t : crl:60 tn:1.7 - 2º t : morfologia normal .\n",
      "\n",
      "--- Sentence ID 27 ---\n",
      "procedimiento sin [NEG|NEG] incidencias .\n",
      "\n",
      "--- Sentence ID 49 ---\n",
      "antecedents alergias no [NEG|NEG] refiere alergias medicamentosas conocidas .\n",
      "\n",
      "--- Sentence ID 50 ---\n",
      "antecedenes personales niega [NEG|NEG] habitos toxicos .\n",
      "\n",
      "--- Sentence ID 55 ---\n",
      "* * serologies : hbsag negatiu [NEG|NEG] , hbsac positiu , hbcac negatiu [NEG|NEG] , vhc negativa [NEG|NEG] -antecedentes its : * * uretritis gonococica en mayo 2017 , realizo tratamientio .\n",
      "\n",
      "--- Sentence ID 61 ---\n",
      "ultimos dos años sin [NEG|NEG] episodios .\n",
      "\n",
      "--- Sentence ID 62 ---\n",
      "antecedentes quirurgicos : no [NEG|NEG] refiere .\n"
     ]
    }
   ],
   "source": [
    "print('NEGATION EXAMPLES --------------\\n')\n",
    "\n",
    "# Group your flat label lists by sentence\n",
    "y_test_svmneg_grouped = group_labels_by_sentence(df_svm_neg_test, y_test_negsvm)\n",
    "y_pred_svmneg_grouped = group_labels_by_sentence(df_svm_neg_test, y_pred_negsvm)\n",
    "\n",
    "# Map 0/1 to '0'/'NEG'\n",
    "y_test_svmneg_grouped_mapped = map_labels(y_test_svmneg_grouped, 'NEG')\n",
    "y_pred_svmneg_grouped_mapped = map_labels(y_pred_svmneg_grouped, 'NEG')\n",
    "\n",
    "shown = 0\n",
    "max_to_show = 10\n",
    "\n",
    "for i in range(len(y_test_svmneg_grouped)):\n",
    "    # Show only if there's a non-zero label in the original values\n",
    "    if any(tag != '0' and tag != 0 for tag in y_test_svmneg_grouped[i]) or any(tag != '0' and tag != 0 for tag in y_pred_svmneg_grouped[i]):\n",
    "        print_predictions(df_svm_neg_test, y_test_svmneg_grouped_mapped, y_pred_svmneg_grouped_mapped, sentence_idx=i)\n",
    "        shown += 1\n",
    "        if shown >= max_to_show:\n",
    "            break\n"
   ]
  },
  {
   "cell_type": "markdown",
   "metadata": {},
   "source": [
    "### Overall Results: SVM + CRF\n",
    "In this section, we consolidate and summarize the results from both the SVM-based cue detection and the CRF-based scope detection models. By grouping the performance metrics and visualizations, we provide a comprehensive overview of how the combined approach performs across all tasks. "
   ]
  },
  {
   "cell_type": "code",
   "execution_count": 93,
   "metadata": {},
   "outputs": [],
   "source": [
    "from sklearn.metrics import precision_score, recall_score, f1_score, accuracy_score\n",
    "\n",
    "def flatten(seq_list):\n",
    "    return [label for seq in seq_list for label in seq]\n",
    "\n",
    "# Cue detection: true and predicted labels\n",
    "cue_true = df_svm_neg_test[\"neg_cue_label\"].tolist() + df_svm_unc_test[\"unc_cue_label\"].tolist()\n",
    "cue_pred = list(neg_svm_model.predict(X_test_negsvm)) + list(model_svmunc.predict(X_test_svmunc))\n",
    "\n",
    "# Scope detection: true and predicted\n",
    "scope_true = flatten(y_test_NEG) + flatten(y_test_UNC)\n",
    "scope_pred = flatten(y_pred_NEG) + flatten(y_pred_UNC)\n",
    "\n",
    "# Filter out neutral classes (non-cues and non-scopes)\n",
    "cue_true_filtered = [true for true, pred in zip(cue_true, cue_pred) if true != '0']\n",
    "cue_pred_filtered = [pred for true, pred in zip(cue_true, cue_pred) if true != '0']\n",
    "\n",
    "scope_true_filtered = [true for true, pred in zip(scope_true, scope_pred) if true != 'O']\n",
    "scope_pred_filtered = [pred for true, pred in zip(scope_true, scope_pred) if true != 'O']\n",
    "\n",
    "# Combine filtered cue and scope labels\n",
    "y_true_all = cue_true_filtered + scope_true_filtered\n",
    "y_pred_all = cue_pred_filtered + scope_pred_filtered\n",
    "\n",
    "# Calculate evaluation metrics\n",
    "accuracy = accuracy_score(y_true_all, y_pred_all)\n",
    "precision = precision_score(y_true_all, y_pred_all, average=\"weighted\", zero_division=0)\n",
    "recall = recall_score(y_true_all, y_pred_all, average=\"weighted\", zero_division=0)\n",
    "f1 = f1_score(y_true_all, y_pred_all, average=\"weighted\", zero_division=0)"
   ]
  },
  {
   "cell_type": "code",
   "execution_count": 94,
   "metadata": {},
   "outputs": [
    {
     "name": "stdout",
     "output_type": "stream",
     "text": [
      "\n",
      "Filtered Overall Evaluation (Cue + Scope Detection):\n",
      "Metric     Accuracy   Precision  Recall     F1 Score  \n",
      "Overall     0.9811     0.9961    0.9811      0.9868\n"
     ]
    }
   ],
   "source": [
    "# Output the results\n",
    "print(\"\\nFiltered Overall Evaluation (Cue + Scope Detection):\")\n",
    "print(f\"{'Metric':<10} {'Accuracy':<10} {'Precision':<10} {'Recall':<10} {'F1 Score':<10}\")\n",
    "print(f\"{'Overall':<10}  {accuracy:.4f}     {precision:.4f}    {recall:.4f}      {f1:.4f}\")\n"
   ]
  },
  {
   "cell_type": "markdown",
   "metadata": {},
   "source": [
    "## Visualizing Results: Confusion Matrices per Label\n",
    "To better understand the performance of our models, we visualize confusion matrices for each label class. Confusion matrices provide a detailed breakdown of true positives, false positives, true negatives, and false negatives, helping us identify which labels are being predicted well and where the model may be confusing certain classes. \n"
   ]
  },
  {
   "cell_type": "code",
   "execution_count": 95,
   "metadata": {},
   "outputs": [],
   "source": [
    "from sklearn.metrics import confusion_matrix\n",
    "import matplotlib.pyplot as plt\n",
    "import seaborn as sns\n",
    "\n",
    "def plot_task_confusion_matrices(\n",
    "    y_test_negsvm, y_pred_negsvm,\n",
    "    y_test_svmunc, y_pred_svmunc,\n",
    "    y_test_NEG, y_pred_NEG,\n",
    "    y_test_UNC, y_pred_UNC\n",
    "):\n",
    "    def binary_label_map(y, label_type):\n",
    "        return [f\"{label_type}\" if v == 1 else f\"NOT {label_type}\" for v in y]\n",
    "\n",
    "    def flatten(seqs):\n",
    "        return [label for seq in seqs for label in seq]\n",
    "\n",
    "    def plot_cm(ax, y_true, y_pred, labels, title):\n",
    "        cm = confusion_matrix(y_true, y_pred, labels=labels)\n",
    "        sns.heatmap(cm, annot=True, fmt='d', cmap='RdPu', xticklabels=labels, yticklabels=labels, ax=ax)\n",
    "        ax.set_title(title)\n",
    "        ax.set_xlabel(\"Predicted\")\n",
    "        ax.set_ylabel(\"True\")\n",
    "        ax.tick_params(axis='x', rotation=45)\n",
    "        ax.tick_params(axis='y', rotation=0)\n",
    "\n",
    "    # Convert 0/1 to string labels\n",
    "    y_test_neg_named = binary_label_map(y_test_negsvm, \"NEG\")\n",
    "    y_pred_neg_named = binary_label_map(y_pred_negsvm, \"NEG\")\n",
    "    y_test_unc_named = binary_label_map(y_test_svmunc, \"UNC\")\n",
    "    y_pred_unc_named = binary_label_map(y_pred_svmunc, \"UNC\")\n",
    "\n",
    "    # Flatten scope labels\n",
    "    y_test_neg_scope = flatten(y_test_NEG)\n",
    "    y_pred_neg_scope = flatten(y_pred_NEG)\n",
    "    y_test_unc_scope = flatten(y_test_UNC)\n",
    "    y_pred_unc_scope = flatten(y_pred_UNC)\n",
    "\n",
    "    # Label sets\n",
    "    neg_cue_labels = [\"NOT NEG\", \"NEG\"]\n",
    "    unc_cue_labels = [\"NOT UNC\", \"UNC\"]\n",
    "    neg_scope_labels = sorted(set(y_test_neg_scope + y_pred_neg_scope))\n",
    "    unc_scope_labels = sorted(set(y_test_unc_scope + y_pred_unc_scope))\n",
    "\n",
    "    # Plotting\n",
    "    fig, axs = plt.subplots(2, 2, figsize=(14, 10))\n",
    "    plot_cm(axs[0, 0], y_test_neg_named, y_pred_neg_named, neg_cue_labels, \"Confusion Matrix for NEG\")\n",
    "    plot_cm(axs[0, 1], y_test_unc_named, y_pred_unc_named, unc_cue_labels, \"Confusion Matrix for UNC\")\n",
    "    plot_cm(axs[1, 0], y_test_neg_scope, y_pred_neg_scope, neg_scope_labels, \"Confusion Matrix for NSCO\")\n",
    "    plot_cm(axs[1, 1], y_test_unc_scope, y_pred_unc_scope, unc_scope_labels, \"Confusion Matrix for USCO\")\n",
    "\n",
    "    plt.tight_layout()\n",
    "    plt.show()\n"
   ]
  },
  {
   "cell_type": "code",
   "execution_count": 96,
   "metadata": {},
   "outputs": [
    {
     "data": {
      "image/png": "[encoded data removed]",
      "text/plain": [
       "<Figure size 1400x1000 with 8 Axes>"
      ]
     },
     "metadata": {},
     "output_type": "display_data"
    }
   ],
   "source": [
    "plot_task_confusion_matrices(\n",
    "    y_test_negsvm, y_pred_negsvm,\n",
    "    y_test_svmunc, y_pred_svmunc,\n",
    "    y_test_NEG, y_pred_NEG,\n",
    "    y_test_UNC, y_pred_UNC\n",
    ")\n"
   ]
  }
 ],
 "metadata": {
  "kernelspec": {
   "display_name": "Python 3",
   "language": "python",
   "name": "python3"
  },
  "language_info": {
   "codemirror_mode": {
    "name": "ipython",
    "version": 3
   },
   "file_extension": ".py",
   "mimetype": "text/x-python",
   "name": "python",
   "nbconvert_exporter": "python",
   "pygments_lexer": "ipython3",
   "version": "3.11.4"
  }
 },
 "nbformat": 4,
 "nbformat_minor": 2
}
