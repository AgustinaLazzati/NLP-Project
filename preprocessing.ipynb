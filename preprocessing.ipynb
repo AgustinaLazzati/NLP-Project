{
  "cells": [
    {
      "cell_type": "markdown",
      "metadata": {
        "id": "16btavDDZ4K3"
      },
      "source": [
        "# First Deliverable: Implementation of a Rule-Based system"
      ]
    },
    {
      "cell_type": "markdown",
      "metadata": {
        "id": "pZSsPC2-Z4K4"
      },
      "source": [
        "### Preprocessing"
      ]
    },
    {
      "cell_type": "code",
      "source": [
        "# Import necessary libraries\n",
        "import pandas as pd\n",
        "import re"
      ],
      "metadata": {
        "id": "bSwiRT2vabFl"
      },
      "execution_count": 35,
      "outputs": []
    },
    {
      "cell_type": "markdown",
      "source": [
        "First of all we will load the necessary data:"
      ],
      "metadata": {
        "id": "Orz2T7t2czpz"
      }
    },
    {
      "cell_type": "code",
      "execution_count": 36,
      "metadata": {
        "colab": {
          "base_uri": "https://localhost:8080/"
        },
        "id": "NOXFdsrWZ4K5",
        "outputId": "23a4160f-4b77-4f6b-a19a-e8fe835b54ce"
      },
      "outputs": [
        {
          "output_type": "stream",
          "name": "stdout",
          "text": [
            "                                                data annotations  \\\n",
            "0  {'cmbd': 'null', 'id': '19026587', 'docid': 'n...          []   \n",
            "1  {'cmbd': 'null', 'id': '20331067', 'docid': 'n...          []   \n",
            "2  {'cmbd': 'null', 'id': '18843029', 'docid': 'n...          []   \n",
            "3  {'cmbd': 'null', 'id': '19754837', 'docid': 'n...          []   \n",
            "4  {'cmbd': 'null', 'id': '18974947', 'docid': 'n...          []   \n",
            "\n",
            "                                         predictions  \n",
            "0  [{'result': [{'value': {'start': 449, 'end': 4...  \n",
            "1  [{'result': [{'value': {'start': 351, 'end': 3...  \n",
            "2  [{'result': [{'value': {'start': 395, 'end': 3...  \n",
            "3  [{'result': [{'value': {'start': 416, 'end': 4...  \n",
            "4  [{'result': [{'value': {'start': 719, 'end': 7...  \n",
            "                                                data annotations  \\\n",
            "0  {'cmbd': 'null', 'id': '20306671', 'docid': 'n...          []   \n",
            "1  {'cmbd': 'null', 'id': '18567026', 'docid': 'n...          []   \n",
            "2  {'cmbd': 'null', 'id': '19114131', 'docid': 'n...          []   \n",
            "3  {'cmbd': 'null', 'id': '20301648', 'docid': 'n...          []   \n",
            "4  {'cmbd': 'null', 'id': '20097170', 'docid': 'n...          []   \n",
            "\n",
            "                                         predictions  \n",
            "0  [{'result': [{'value': {'start': 395, 'end': 3...  \n",
            "1  [{'result': [{'value': {'start': 377, 'end': 3...  \n",
            "2  [{'result': [{'value': {'start': 621, 'end': 6...  \n",
            "3  [{'result': [{'value': {'start': 692, 'end': 6...  \n",
            "4  [{'result': [{'value': {'start': 467, 'end': 4...  \n"
          ]
        }
      ],
      "source": [
        "# Import train and test data\n",
        "\n",
        "# URL to the raw JSON files on GitHub\n",
        "train_url = 'https://raw.githubusercontent.com/AgustinaLazzati/NLP-Project/refs/heads/Test/negacio_train_v2024.json'\n",
        "test_url = 'https://raw.githubusercontent.com/AgustinaLazzati/NLP-Project/refs/heads/Test/negacio_test_v2024.json'\n",
        "\n",
        "# Load data from the raw URLs into pandas DataFrames\n",
        "train_data = pd.read_json(train_url)\n",
        "test_data = pd.read_json(test_url)\n",
        "\n",
        "# Display the DataFrames\n",
        "print(train_data.head())\n",
        "print(test_data.head())"
      ]
    },
    {
      "cell_type": "code",
      "source": [
        "# Display some more useful information (to understand our data)\n",
        "print(\"\\n\", train_data.keys())"
      ],
      "metadata": {
        "colab": {
          "base_uri": "https://localhost:8080/"
        },
        "id": "FJcbozOledtl",
        "outputId": "8c15d8ec-bef6-4a5e-eb20-f6aeaad4a8c0"
      },
      "execution_count": 24,
      "outputs": [
        {
          "output_type": "stream",
          "name": "stdout",
          "text": [
            "\n",
            " Index(['data', 'annotations', 'predictions'], dtype='object')\n"
          ]
        }
      ]
    },
    {
      "cell_type": "code",
      "source": [
        "# Extract all keys from the 'data' column\n",
        "unique_keys = set()\n",
        "\n",
        "for row in train_data['data']:\n",
        "    if isinstance(row, dict):  # Ensure row is a dictionary\n",
        "        unique_keys.update(row.keys())  # Add keys to the set\n",
        "\n",
        "print(unique_keys)"
      ],
      "metadata": {
        "colab": {
          "base_uri": "https://localhost:8080/"
        },
        "id": "utYNRY6oekhD",
        "outputId": "9b7f8fdf-b4ee-46ea-9ef9-a69c9065d50a"
      },
      "execution_count": 39,
      "outputs": [
        {
          "output_type": "stream",
          "name": "stdout",
          "text": [
            "{'docid', 'paragraph', 'page', 'text', 'id', 'cmbd'}\n"
          ]
        }
      ]
    },
    {
      "cell_type": "markdown",
      "metadata": {
        "id": "ekIZZ8d_Z4K5"
      },
      "source": [
        "### Rule-Based System"
      ]
    },
    {
      "cell_type": "code",
      "execution_count": null,
      "metadata": {
        "id": "5iqrZwpuZ4K6"
      },
      "outputs": [],
      "source": []
    },
    {
      "cell_type": "markdown",
      "metadata": {
        "id": "w7LSmAYrZ4K6"
      },
      "source": [
        "### Evaluating our system"
      ]
    },
    {
      "cell_type": "code",
      "execution_count": null,
      "metadata": {
        "id": "_T8PVHPsZ4K6"
      },
      "outputs": [],
      "source": []
    }
  ],
  "metadata": {
    "kernelspec": {
      "display_name": "Python 3",
      "language": "python",
      "name": "python3"
    },
    "language_info": {
      "codemirror_mode": {
        "name": "ipython",
        "version": 3
      },
      "file_extension": ".py",
      "mimetype": "text/x-python",
      "name": "python",
      "nbconvert_exporter": "python",
      "pygments_lexer": "ipython3",
      "version": "3.11.4"
    },
    "colab": {
      "provenance": []
    }
  },
  "nbformat": 4,
  "nbformat_minor": 0
}